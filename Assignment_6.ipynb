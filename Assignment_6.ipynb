<html xmlns:v="urn:schemas-microsoft-com:vml"
xmlns:o="urn:schemas-microsoft-com:office:office"
xmlns:w="urn:schemas-microsoft-com:office:word"
xmlns:m="http://schemas.microsoft.com/office/2004/12/omml"
xmlns="http://www.w3.org/TR/REC-html40">

<head>
<meta http-equiv=Content-Type content="text/html; charset=windows-1252">
<meta name=ProgId content=Word.Document>
<meta name=Generator content="Microsoft Word 15">
<meta name=Originator content="Microsoft Word 15">
<link rel=File-List href="Assignment_6_files/filelist.xml">
<!--[if gte mso 9]><xml>
 <o:DocumentProperties>
  <o:Author>916202486297</o:Author>
  <o:Template>Normal</o:Template>
  <o:LastAuthor>916202486297</o:LastAuthor>
  <o:Revision>2</o:Revision>
  <o:TotalTime>1</o:TotalTime>
  <o:Created>2021-08-12T23:43:00Z</o:Created>
  <o:LastSaved>2021-08-12T23:44:00Z</o:LastSaved>
  <o:Pages>1</o:Pages>
  <o:Words>98</o:Words>
  <o:Characters>564</o:Characters>
  <o:Lines>4</o:Lines>
  <o:Paragraphs>1</o:Paragraphs>
  <o:CharactersWithSpaces>661</o:CharactersWithSpaces>
  <o:Version>16.00</o:Version>
 </o:DocumentProperties>
 <o:OfficeDocumentSettings>
  <o:AllowPNG/>
 </o:OfficeDocumentSettings>
</xml><![endif]-->
<link rel=themeData href="Assignment_6_files/themedata.thmx">
<link rel=colorSchemeMapping href="Assignment_6_files/colorschememapping.xml">
<!--[if gte mso 9]><xml>
 <w:WordDocument>
  <w:View>Print</w:View>
  <w:GrammarState>Clean</w:GrammarState>
  <w:TrackMoves>false</w:TrackMoves>
  <w:TrackFormatting/>
  <w:ValidateAgainstSchemas/>
  <w:SaveIfXMLInvalid>false</w:SaveIfXMLInvalid>
  <w:IgnoreMixedContent>false</w:IgnoreMixedContent>
  <w:AlwaysShowPlaceholderText>false</w:AlwaysShowPlaceholderText>
  <w:DoNotPromoteQF/>
  <w:LidThemeOther>EN-US</w:LidThemeOther>
  <w:LidThemeAsian>X-NONE</w:LidThemeAsian>
  <w:LidThemeComplexScript>X-NONE</w:LidThemeComplexScript>
  <w:Compatibility>
   <w:BreakWrappedTables/>
   <w:SplitPgBreakAndParaMark/>
  </w:Compatibility>
  <m:mathPr>
   <m:mathFont m:val="Cambria Math"/>
   <m:brkBin m:val="before"/>
   <m:brkBinSub m:val="&#45;-"/>
   <m:smallFrac m:val="off"/>
   <m:dispDef/>
   <m:lMargin m:val="0"/>
   <m:rMargin m:val="0"/>
   <m:defJc m:val="centerGroup"/>
   <m:wrapIndent m:val="1440"/>
   <m:intLim m:val="subSup"/>
   <m:naryLim m:val="undOvr"/>
  </m:mathPr></w:WordDocument>
</xml><![endif]--><!--[if gte mso 9]><xml>
 <w:LatentStyles DefLockedState="false" DefUnhideWhenUsed="false"
  DefSemiHidden="false" DefQFormat="false" DefPriority="99"
  LatentStyleCount="376">
  <w:LsdException Locked="false" Priority="0" QFormat="true" Name="Normal"/>
  <w:LsdException Locked="false" Priority="9" QFormat="true" Name="heading 1"/>
  <w:LsdException Locked="false" Priority="9" SemiHidden="true"
   UnhideWhenUsed="true" QFormat="true" Name="heading 2"/>
  <w:LsdException Locked="false" Priority="9" SemiHidden="true"
   UnhideWhenUsed="true" QFormat="true" Name="heading 3"/>
  <w:LsdException Locked="false" Priority="9" SemiHidden="true"
   UnhideWhenUsed="true" QFormat="true" Name="heading 4"/>
  <w:LsdException Locked="false" Priority="9" SemiHidden="true"
   UnhideWhenUsed="true" QFormat="true" Name="heading 5"/>
  <w:LsdException Locked="false" Priority="9" SemiHidden="true"
   UnhideWhenUsed="true" QFormat="true" Name="heading 6"/>
  <w:LsdException Locked="false" Priority="9" SemiHidden="true"
   UnhideWhenUsed="true" QFormat="true" Name="heading 7"/>
  <w:LsdException Locked="false" Priority="9" SemiHidden="true"
   UnhideWhenUsed="true" QFormat="true" Name="heading 8"/>
  <w:LsdException Locked="false" Priority="9" SemiHidden="true"
   UnhideWhenUsed="true" QFormat="true" Name="heading 9"/>
  <w:LsdException Locked="false" SemiHidden="true" UnhideWhenUsed="true"
   Name="index 1"/>
  <w:LsdException Locked="false" SemiHidden="true" UnhideWhenUsed="true"
   Name="index 2"/>
  <w:LsdException Locked="false" SemiHidden="true" UnhideWhenUsed="true"
   Name="index 3"/>
  <w:LsdException Locked="false" SemiHidden="true" UnhideWhenUsed="true"
   Name="index 4"/>
  <w:LsdException Locked="false" SemiHidden="true" UnhideWhenUsed="true"
   Name="index 5"/>
  <w:LsdException Locked="false" SemiHidden="true" UnhideWhenUsed="true"
   Name="index 6"/>
  <w:LsdException Locked="false" SemiHidden="true" UnhideWhenUsed="true"
   Name="index 7"/>
  <w:LsdException Locked="false" SemiHidden="true" UnhideWhenUsed="true"
   Name="index 8"/>
  <w:LsdException Locked="false" SemiHidden="true" UnhideWhenUsed="true"
   Name="index 9"/>
  <w:LsdException Locked="false" Priority="39" SemiHidden="true"
   UnhideWhenUsed="true" Name="toc 1"/>
  <w:LsdException Locked="false" Priority="39" SemiHidden="true"
   UnhideWhenUsed="true" Name="toc 2"/>
  <w:LsdException Locked="false" Priority="39" SemiHidden="true"
   UnhideWhenUsed="true" Name="toc 3"/>
  <w:LsdException Locked="false" Priority="39" SemiHidden="true"
   UnhideWhenUsed="true" Name="toc 4"/>
  <w:LsdException Locked="false" Priority="39" SemiHidden="true"
   UnhideWhenUsed="true" Name="toc 5"/>
  <w:LsdException Locked="false" Priority="39" SemiHidden="true"
   UnhideWhenUsed="true" Name="toc 6"/>
  <w:LsdException Locked="false" Priority="39" SemiHidden="true"
   UnhideWhenUsed="true" Name="toc 7"/>
  <w:LsdException Locked="false" Priority="39" SemiHidden="true"
   UnhideWhenUsed="true" Name="toc 8"/>
  <w:LsdException Locked="false" Priority="39" SemiHidden="true"
   UnhideWhenUsed="true" Name="toc 9"/>
  <w:LsdException Locked="false" SemiHidden="true" UnhideWhenUsed="true"
   Name="Normal Indent"/>
  <w:LsdException Locked="false" SemiHidden="true" UnhideWhenUsed="true"
   Name="footnote text"/>
  <w:LsdException Locked="false" SemiHidden="true" UnhideWhenUsed="true"
   Name="annotation text"/>
  <w:LsdException Locked="false" SemiHidden="true" UnhideWhenUsed="true"
   Name="header"/>
  <w:LsdException Locked="false" SemiHidden="true" UnhideWhenUsed="true"
   Name="footer"/>
  <w:LsdException Locked="false" SemiHidden="true" UnhideWhenUsed="true"
   Name="index heading"/>
  <w:LsdException Locked="false" Priority="35" SemiHidden="true"
   UnhideWhenUsed="true" QFormat="true" Name="caption"/>
  <w:LsdException Locked="false" SemiHidden="true" UnhideWhenUsed="true"
   Name="table of figures"/>
  <w:LsdException Locked="false" SemiHidden="true" UnhideWhenUsed="true"
   Name="envelope address"/>
  <w:LsdException Locked="false" SemiHidden="true" UnhideWhenUsed="true"
   Name="envelope return"/>
  <w:LsdException Locked="false" SemiHidden="true" UnhideWhenUsed="true"
   Name="footnote reference"/>
  <w:LsdException Locked="false" SemiHidden="true" UnhideWhenUsed="true"
   Name="annotation reference"/>
  <w:LsdException Locked="false" SemiHidden="true" UnhideWhenUsed="true"
   Name="line number"/>
  <w:LsdException Locked="false" SemiHidden="true" UnhideWhenUsed="true"
   Name="page number"/>
  <w:LsdException Locked="false" SemiHidden="true" UnhideWhenUsed="true"
   Name="endnote reference"/>
  <w:LsdException Locked="false" SemiHidden="true" UnhideWhenUsed="true"
   Name="endnote text"/>
  <w:LsdException Locked="false" SemiHidden="true" UnhideWhenUsed="true"
   Name="table of authorities"/>
  <w:LsdException Locked="false" SemiHidden="true" UnhideWhenUsed="true"
   Name="macro"/>
  <w:LsdException Locked="false" SemiHidden="true" UnhideWhenUsed="true"
   Name="toa heading"/>
  <w:LsdException Locked="false" SemiHidden="true" UnhideWhenUsed="true"
   Name="List"/>
  <w:LsdException Locked="false" SemiHidden="true" UnhideWhenUsed="true"
   Name="List Bullet"/>
  <w:LsdException Locked="false" SemiHidden="true" UnhideWhenUsed="true"
   Name="List Number"/>
  <w:LsdException Locked="false" SemiHidden="true" UnhideWhenUsed="true"
   Name="List 2"/>
  <w:LsdException Locked="false" SemiHidden="true" UnhideWhenUsed="true"
   Name="List 3"/>
  <w:LsdException Locked="false" SemiHidden="true" UnhideWhenUsed="true"
   Name="List 4"/>
  <w:LsdException Locked="false" SemiHidden="true" UnhideWhenUsed="true"
   Name="List 5"/>
  <w:LsdException Locked="false" SemiHidden="true" UnhideWhenUsed="true"
   Name="List Bullet 2"/>
  <w:LsdException Locked="false" SemiHidden="true" UnhideWhenUsed="true"
   Name="List Bullet 3"/>
  <w:LsdException Locked="false" SemiHidden="true" UnhideWhenUsed="true"
   Name="List Bullet 4"/>
  <w:LsdException Locked="false" SemiHidden="true" UnhideWhenUsed="true"
   Name="List Bullet 5"/>
  <w:LsdException Locked="false" SemiHidden="true" UnhideWhenUsed="true"
   Name="List Number 2"/>
  <w:LsdException Locked="false" SemiHidden="true" UnhideWhenUsed="true"
   Name="List Number 3"/>
  <w:LsdException Locked="false" SemiHidden="true" UnhideWhenUsed="true"
   Name="List Number 4"/>
  <w:LsdException Locked="false" SemiHidden="true" UnhideWhenUsed="true"
   Name="List Number 5"/>
  <w:LsdException Locked="false" Priority="10" QFormat="true" Name="Title"/>
  <w:LsdException Locked="false" SemiHidden="true" UnhideWhenUsed="true"
   Name="Closing"/>
  <w:LsdException Locked="false" SemiHidden="true" UnhideWhenUsed="true"
   Name="Signature"/>
  <w:LsdException Locked="false" Priority="1" SemiHidden="true"
   UnhideWhenUsed="true" Name="Default Paragraph Font"/>
  <w:LsdException Locked="false" SemiHidden="true" UnhideWhenUsed="true"
   Name="Body Text"/>
  <w:LsdException Locked="false" SemiHidden="true" UnhideWhenUsed="true"
   Name="Body Text Indent"/>
  <w:LsdException Locked="false" SemiHidden="true" UnhideWhenUsed="true"
   Name="List Continue"/>
  <w:LsdException Locked="false" SemiHidden="true" UnhideWhenUsed="true"
   Name="List Continue 2"/>
  <w:LsdException Locked="false" SemiHidden="true" UnhideWhenUsed="true"
   Name="List Continue 3"/>
  <w:LsdException Locked="false" SemiHidden="true" UnhideWhenUsed="true"
   Name="List Continue 4"/>
  <w:LsdException Locked="false" SemiHidden="true" UnhideWhenUsed="true"
   Name="List Continue 5"/>
  <w:LsdException Locked="false" SemiHidden="true" UnhideWhenUsed="true"
   Name="Message Header"/>
  <w:LsdException Locked="false" Priority="11" QFormat="true" Name="Subtitle"/>
  <w:LsdException Locked="false" SemiHidden="true" UnhideWhenUsed="true"
   Name="Salutation"/>
  <w:LsdException Locked="false" SemiHidden="true" UnhideWhenUsed="true"
   Name="Date"/>
  <w:LsdException Locked="false" SemiHidden="true" UnhideWhenUsed="true"
   Name="Body Text First Indent"/>
  <w:LsdException Locked="false" SemiHidden="true" UnhideWhenUsed="true"
   Name="Body Text First Indent 2"/>
  <w:LsdException Locked="false" SemiHidden="true" UnhideWhenUsed="true"
   Name="Note Heading"/>
  <w:LsdException Locked="false" SemiHidden="true" UnhideWhenUsed="true"
   Name="Body Text 2"/>
  <w:LsdException Locked="false" SemiHidden="true" UnhideWhenUsed="true"
   Name="Body Text 3"/>
  <w:LsdException Locked="false" SemiHidden="true" UnhideWhenUsed="true"
   Name="Body Text Indent 2"/>
  <w:LsdException Locked="false" SemiHidden="true" UnhideWhenUsed="true"
   Name="Body Text Indent 3"/>
  <w:LsdException Locked="false" SemiHidden="true" UnhideWhenUsed="true"
   Name="Block Text"/>
  <w:LsdException Locked="false" SemiHidden="true" UnhideWhenUsed="true"
   Name="Hyperlink"/>
  <w:LsdException Locked="false" SemiHidden="true" UnhideWhenUsed="true"
   Name="FollowedHyperlink"/>
  <w:LsdException Locked="false" Priority="22" QFormat="true" Name="Strong"/>
  <w:LsdException Locked="false" Priority="20" QFormat="true" Name="Emphasis"/>
  <w:LsdException Locked="false" SemiHidden="true" UnhideWhenUsed="true"
   Name="Document Map"/>
  <w:LsdException Locked="false" SemiHidden="true" UnhideWhenUsed="true"
   Name="Plain Text"/>
  <w:LsdException Locked="false" SemiHidden="true" UnhideWhenUsed="true"
   Name="E-mail Signature"/>
  <w:LsdException Locked="false" SemiHidden="true" UnhideWhenUsed="true"
   Name="HTML Top of Form"/>
  <w:LsdException Locked="false" SemiHidden="true" UnhideWhenUsed="true"
   Name="HTML Bottom of Form"/>
  <w:LsdException Locked="false" SemiHidden="true" UnhideWhenUsed="true"
   Name="Normal (Web)"/>
  <w:LsdException Locked="false" SemiHidden="true" UnhideWhenUsed="true"
   Name="HTML Acronym"/>
  <w:LsdException Locked="false" SemiHidden="true" UnhideWhenUsed="true"
   Name="HTML Address"/>
  <w:LsdException Locked="false" SemiHidden="true" UnhideWhenUsed="true"
   Name="HTML Cite"/>
  <w:LsdException Locked="false" SemiHidden="true" UnhideWhenUsed="true"
   Name="HTML Code"/>
  <w:LsdException Locked="false" SemiHidden="true" UnhideWhenUsed="true"
   Name="HTML Definition"/>
  <w:LsdException Locked="false" SemiHidden="true" UnhideWhenUsed="true"
   Name="HTML Keyboard"/>
  <w:LsdException Locked="false" SemiHidden="true" UnhideWhenUsed="true"
   Name="HTML Preformatted"/>
  <w:LsdException Locked="false" SemiHidden="true" UnhideWhenUsed="true"
   Name="HTML Sample"/>
  <w:LsdException Locked="false" SemiHidden="true" UnhideWhenUsed="true"
   Name="HTML Typewriter"/>
  <w:LsdException Locked="false" SemiHidden="true" UnhideWhenUsed="true"
   Name="HTML Variable"/>
  <w:LsdException Locked="false" SemiHidden="true" UnhideWhenUsed="true"
   Name="Normal Table"/>
  <w:LsdException Locked="false" SemiHidden="true" UnhideWhenUsed="true"
   Name="annotation subject"/>
  <w:LsdException Locked="false" SemiHidden="true" UnhideWhenUsed="true"
   Name="No List"/>
  <w:LsdException Locked="false" SemiHidden="true" UnhideWhenUsed="true"
   Name="Outline List 1"/>
  <w:LsdException Locked="false" SemiHidden="true" UnhideWhenUsed="true"
   Name="Outline List 2"/>
  <w:LsdException Locked="false" SemiHidden="true" UnhideWhenUsed="true"
   Name="Outline List 3"/>
  <w:LsdException Locked="false" SemiHidden="true" UnhideWhenUsed="true"
   Name="Table Simple 1"/>
  <w:LsdException Locked="false" SemiHidden="true" UnhideWhenUsed="true"
   Name="Table Simple 2"/>
  <w:LsdException Locked="false" SemiHidden="true" UnhideWhenUsed="true"
   Name="Table Simple 3"/>
  <w:LsdException Locked="false" SemiHidden="true" UnhideWhenUsed="true"
   Name="Table Classic 1"/>
  <w:LsdException Locked="false" SemiHidden="true" UnhideWhenUsed="true"
   Name="Table Classic 2"/>
  <w:LsdException Locked="false" SemiHidden="true" UnhideWhenUsed="true"
   Name="Table Classic 3"/>
  <w:LsdException Locked="false" SemiHidden="true" UnhideWhenUsed="true"
   Name="Table Classic 4"/>
  <w:LsdException Locked="false" SemiHidden="true" UnhideWhenUsed="true"
   Name="Table Colorful 1"/>
  <w:LsdException Locked="false" SemiHidden="true" UnhideWhenUsed="true"
   Name="Table Colorful 2"/>
  <w:LsdException Locked="false" SemiHidden="true" UnhideWhenUsed="true"
   Name="Table Colorful 3"/>
  <w:LsdException Locked="false" SemiHidden="true" UnhideWhenUsed="true"
   Name="Table Columns 1"/>
  <w:LsdException Locked="false" SemiHidden="true" UnhideWhenUsed="true"
   Name="Table Columns 2"/>
  <w:LsdException Locked="false" SemiHidden="true" UnhideWhenUsed="true"
   Name="Table Columns 3"/>
  <w:LsdException Locked="false" SemiHidden="true" UnhideWhenUsed="true"
   Name="Table Columns 4"/>
  <w:LsdException Locked="false" SemiHidden="true" UnhideWhenUsed="true"
   Name="Table Columns 5"/>
  <w:LsdException Locked="false" SemiHidden="true" UnhideWhenUsed="true"
   Name="Table Grid 1"/>
  <w:LsdException Locked="false" SemiHidden="true" UnhideWhenUsed="true"
   Name="Table Grid 2"/>
  <w:LsdException Locked="false" SemiHidden="true" UnhideWhenUsed="true"
   Name="Table Grid 3"/>
  <w:LsdException Locked="false" SemiHidden="true" UnhideWhenUsed="true"
   Name="Table Grid 4"/>
  <w:LsdException Locked="false" SemiHidden="true" UnhideWhenUsed="true"
   Name="Table Grid 5"/>
  <w:LsdException Locked="false" SemiHidden="true" UnhideWhenUsed="true"
   Name="Table Grid 6"/>
  <w:LsdException Locked="false" SemiHidden="true" UnhideWhenUsed="true"
   Name="Table Grid 7"/>
  <w:LsdException Locked="false" SemiHidden="true" UnhideWhenUsed="true"
   Name="Table Grid 8"/>
  <w:LsdException Locked="false" SemiHidden="true" UnhideWhenUsed="true"
   Name="Table List 1"/>
  <w:LsdException Locked="false" SemiHidden="true" UnhideWhenUsed="true"
   Name="Table List 2"/>
  <w:LsdException Locked="false" SemiHidden="true" UnhideWhenUsed="true"
   Name="Table List 3"/>
  <w:LsdException Locked="false" SemiHidden="true" UnhideWhenUsed="true"
   Name="Table List 4"/>
  <w:LsdException Locked="false" SemiHidden="true" UnhideWhenUsed="true"
   Name="Table List 5"/>
  <w:LsdException Locked="false" SemiHidden="true" UnhideWhenUsed="true"
   Name="Table List 6"/>
  <w:LsdException Locked="false" SemiHidden="true" UnhideWhenUsed="true"
   Name="Table List 7"/>
  <w:LsdException Locked="false" SemiHidden="true" UnhideWhenUsed="true"
   Name="Table List 8"/>
  <w:LsdException Locked="false" SemiHidden="true" UnhideWhenUsed="true"
   Name="Table 3D effects 1"/>
  <w:LsdException Locked="false" SemiHidden="true" UnhideWhenUsed="true"
   Name="Table 3D effects 2"/>
  <w:LsdException Locked="false" SemiHidden="true" UnhideWhenUsed="true"
   Name="Table 3D effects 3"/>
  <w:LsdException Locked="false" SemiHidden="true" UnhideWhenUsed="true"
   Name="Table Contemporary"/>
  <w:LsdException Locked="false" SemiHidden="true" UnhideWhenUsed="true"
   Name="Table Elegant"/>
  <w:LsdException Locked="false" SemiHidden="true" UnhideWhenUsed="true"
   Name="Table Professional"/>
  <w:LsdException Locked="false" SemiHidden="true" UnhideWhenUsed="true"
   Name="Table Subtle 1"/>
  <w:LsdException Locked="false" SemiHidden="true" UnhideWhenUsed="true"
   Name="Table Subtle 2"/>
  <w:LsdException Locked="false" SemiHidden="true" UnhideWhenUsed="true"
   Name="Table Web 1"/>
  <w:LsdException Locked="false" SemiHidden="true" UnhideWhenUsed="true"
   Name="Table Web 2"/>
  <w:LsdException Locked="false" SemiHidden="true" UnhideWhenUsed="true"
   Name="Table Web 3"/>
  <w:LsdException Locked="false" SemiHidden="true" UnhideWhenUsed="true"
   Name="Balloon Text"/>
  <w:LsdException Locked="false" Priority="39" Name="Table Grid"/>
  <w:LsdException Locked="false" SemiHidden="true" UnhideWhenUsed="true"
   Name="Table Theme"/>
  <w:LsdException Locked="false" SemiHidden="true" Name="Placeholder Text"/>
  <w:LsdException Locked="false" Priority="1" QFormat="true" Name="No Spacing"/>
  <w:LsdException Locked="false" Priority="60" Name="Light Shading"/>
  <w:LsdException Locked="false" Priority="61" Name="Light List"/>
  <w:LsdException Locked="false" Priority="62" Name="Light Grid"/>
  <w:LsdException Locked="false" Priority="63" Name="Medium Shading 1"/>
  <w:LsdException Locked="false" Priority="64" Name="Medium Shading 2"/>
  <w:LsdException Locked="false" Priority="65" Name="Medium List 1"/>
  <w:LsdException Locked="false" Priority="66" Name="Medium List 2"/>
  <w:LsdException Locked="false" Priority="67" Name="Medium Grid 1"/>
  <w:LsdException Locked="false" Priority="68" Name="Medium Grid 2"/>
  <w:LsdException Locked="false" Priority="69" Name="Medium Grid 3"/>
  <w:LsdException Locked="false" Priority="70" Name="Dark List"/>
  <w:LsdException Locked="false" Priority="71" Name="Colorful Shading"/>
  <w:LsdException Locked="false" Priority="72" Name="Colorful List"/>
  <w:LsdException Locked="false" Priority="73" Name="Colorful Grid"/>
  <w:LsdException Locked="false" Priority="60" Name="Light Shading Accent 1"/>
  <w:LsdException Locked="false" Priority="61" Name="Light List Accent 1"/>
  <w:LsdException Locked="false" Priority="62" Name="Light Grid Accent 1"/>
  <w:LsdException Locked="false" Priority="63" Name="Medium Shading 1 Accent 1"/>
  <w:LsdException Locked="false" Priority="64" Name="Medium Shading 2 Accent 1"/>
  <w:LsdException Locked="false" Priority="65" Name="Medium List 1 Accent 1"/>
  <w:LsdException Locked="false" SemiHidden="true" Name="Revision"/>
  <w:LsdException Locked="false" Priority="34" QFormat="true"
   Name="List Paragraph"/>
  <w:LsdException Locked="false" Priority="29" QFormat="true" Name="Quote"/>
  <w:LsdException Locked="false" Priority="30" QFormat="true"
   Name="Intense Quote"/>
  <w:LsdException Locked="false" Priority="66" Name="Medium List 2 Accent 1"/>
  <w:LsdException Locked="false" Priority="67" Name="Medium Grid 1 Accent 1"/>
  <w:LsdException Locked="false" Priority="68" Name="Medium Grid 2 Accent 1"/>
  <w:LsdException Locked="false" Priority="69" Name="Medium Grid 3 Accent 1"/>
  <w:LsdException Locked="false" Priority="70" Name="Dark List Accent 1"/>
  <w:LsdException Locked="false" Priority="71" Name="Colorful Shading Accent 1"/>
  <w:LsdException Locked="false" Priority="72" Name="Colorful List Accent 1"/>
  <w:LsdException Locked="false" Priority="73" Name="Colorful Grid Accent 1"/>
  <w:LsdException Locked="false" Priority="60" Name="Light Shading Accent 2"/>
  <w:LsdException Locked="false" Priority="61" Name="Light List Accent 2"/>
  <w:LsdException Locked="false" Priority="62" Name="Light Grid Accent 2"/>
  <w:LsdException Locked="false" Priority="63" Name="Medium Shading 1 Accent 2"/>
  <w:LsdException Locked="false" Priority="64" Name="Medium Shading 2 Accent 2"/>
  <w:LsdException Locked="false" Priority="65" Name="Medium List 1 Accent 2"/>
  <w:LsdException Locked="false" Priority="66" Name="Medium List 2 Accent 2"/>
  <w:LsdException Locked="false" Priority="67" Name="Medium Grid 1 Accent 2"/>
  <w:LsdException Locked="false" Priority="68" Name="Medium Grid 2 Accent 2"/>
  <w:LsdException Locked="false" Priority="69" Name="Medium Grid 3 Accent 2"/>
  <w:LsdException Locked="false" Priority="70" Name="Dark List Accent 2"/>
  <w:LsdException Locked="false" Priority="71" Name="Colorful Shading Accent 2"/>
  <w:LsdException Locked="false" Priority="72" Name="Colorful List Accent 2"/>
  <w:LsdException Locked="false" Priority="73" Name="Colorful Grid Accent 2"/>
  <w:LsdException Locked="false" Priority="60" Name="Light Shading Accent 3"/>
  <w:LsdException Locked="false" Priority="61" Name="Light List Accent 3"/>
  <w:LsdException Locked="false" Priority="62" Name="Light Grid Accent 3"/>
  <w:LsdException Locked="false" Priority="63" Name="Medium Shading 1 Accent 3"/>
  <w:LsdException Locked="false" Priority="64" Name="Medium Shading 2 Accent 3"/>
  <w:LsdException Locked="false" Priority="65" Name="Medium List 1 Accent 3"/>
  <w:LsdException Locked="false" Priority="66" Name="Medium List 2 Accent 3"/>
  <w:LsdException Locked="false" Priority="67" Name="Medium Grid 1 Accent 3"/>
  <w:LsdException Locked="false" Priority="68" Name="Medium Grid 2 Accent 3"/>
  <w:LsdException Locked="false" Priority="69" Name="Medium Grid 3 Accent 3"/>
  <w:LsdException Locked="false" Priority="70" Name="Dark List Accent 3"/>
  <w:LsdException Locked="false" Priority="71" Name="Colorful Shading Accent 3"/>
  <w:LsdException Locked="false" Priority="72" Name="Colorful List Accent 3"/>
  <w:LsdException Locked="false" Priority="73" Name="Colorful Grid Accent 3"/>
  <w:LsdException Locked="false" Priority="60" Name="Light Shading Accent 4"/>
  <w:LsdException Locked="false" Priority="61" Name="Light List Accent 4"/>
  <w:LsdException Locked="false" Priority="62" Name="Light Grid Accent 4"/>
  <w:LsdException Locked="false" Priority="63" Name="Medium Shading 1 Accent 4"/>
  <w:LsdException Locked="false" Priority="64" Name="Medium Shading 2 Accent 4"/>
  <w:LsdException Locked="false" Priority="65" Name="Medium List 1 Accent 4"/>
  <w:LsdException Locked="false" Priority="66" Name="Medium List 2 Accent 4"/>
  <w:LsdException Locked="false" Priority="67" Name="Medium Grid 1 Accent 4"/>
  <w:LsdException Locked="false" Priority="68" Name="Medium Grid 2 Accent 4"/>
  <w:LsdException Locked="false" Priority="69" Name="Medium Grid 3 Accent 4"/>
  <w:LsdException Locked="false" Priority="70" Name="Dark List Accent 4"/>
  <w:LsdException Locked="false" Priority="71" Name="Colorful Shading Accent 4"/>
  <w:LsdException Locked="false" Priority="72" Name="Colorful List Accent 4"/>
  <w:LsdException Locked="false" Priority="73" Name="Colorful Grid Accent 4"/>
  <w:LsdException Locked="false" Priority="60" Name="Light Shading Accent 5"/>
  <w:LsdException Locked="false" Priority="61" Name="Light List Accent 5"/>
  <w:LsdException Locked="false" Priority="62" Name="Light Grid Accent 5"/>
  <w:LsdException Locked="false" Priority="63" Name="Medium Shading 1 Accent 5"/>
  <w:LsdException Locked="false" Priority="64" Name="Medium Shading 2 Accent 5"/>
  <w:LsdException Locked="false" Priority="65" Name="Medium List 1 Accent 5"/>
  <w:LsdException Locked="false" Priority="66" Name="Medium List 2 Accent 5"/>
  <w:LsdException Locked="false" Priority="67" Name="Medium Grid 1 Accent 5"/>
  <w:LsdException Locked="false" Priority="68" Name="Medium Grid 2 Accent 5"/>
  <w:LsdException Locked="false" Priority="69" Name="Medium Grid 3 Accent 5"/>
  <w:LsdException Locked="false" Priority="70" Name="Dark List Accent 5"/>
  <w:LsdException Locked="false" Priority="71" Name="Colorful Shading Accent 5"/>
  <w:LsdException Locked="false" Priority="72" Name="Colorful List Accent 5"/>
  <w:LsdException Locked="false" Priority="73" Name="Colorful Grid Accent 5"/>
  <w:LsdException Locked="false" Priority="60" Name="Light Shading Accent 6"/>
  <w:LsdException Locked="false" Priority="61" Name="Light List Accent 6"/>
  <w:LsdException Locked="false" Priority="62" Name="Light Grid Accent 6"/>
  <w:LsdException Locked="false" Priority="63" Name="Medium Shading 1 Accent 6"/>
  <w:LsdException Locked="false" Priority="64" Name="Medium Shading 2 Accent 6"/>
  <w:LsdException Locked="false" Priority="65" Name="Medium List 1 Accent 6"/>
  <w:LsdException Locked="false" Priority="66" Name="Medium List 2 Accent 6"/>
  <w:LsdException Locked="false" Priority="67" Name="Medium Grid 1 Accent 6"/>
  <w:LsdException Locked="false" Priority="68" Name="Medium Grid 2 Accent 6"/>
  <w:LsdException Locked="false" Priority="69" Name="Medium Grid 3 Accent 6"/>
  <w:LsdException Locked="false" Priority="70" Name="Dark List Accent 6"/>
  <w:LsdException Locked="false" Priority="71" Name="Colorful Shading Accent 6"/>
  <w:LsdException Locked="false" Priority="72" Name="Colorful List Accent 6"/>
  <w:LsdException Locked="false" Priority="73" Name="Colorful Grid Accent 6"/>
  <w:LsdException Locked="false" Priority="19" QFormat="true"
   Name="Subtle Emphasis"/>
  <w:LsdException Locked="false" Priority="21" QFormat="true"
   Name="Intense Emphasis"/>
  <w:LsdException Locked="false" Priority="31" QFormat="true"
   Name="Subtle Reference"/>
  <w:LsdException Locked="false" Priority="32" QFormat="true"
   Name="Intense Reference"/>
  <w:LsdException Locked="false" Priority="33" QFormat="true" Name="Book Title"/>
  <w:LsdException Locked="false" Priority="37" SemiHidden="true"
   UnhideWhenUsed="true" Name="Bibliography"/>
  <w:LsdException Locked="false" Priority="39" SemiHidden="true"
   UnhideWhenUsed="true" QFormat="true" Name="TOC Heading"/>
  <w:LsdException Locked="false" Priority="41" Name="Plain Table 1"/>
  <w:LsdException Locked="false" Priority="42" Name="Plain Table 2"/>
  <w:LsdException Locked="false" Priority="43" Name="Plain Table 3"/>
  <w:LsdException Locked="false" Priority="44" Name="Plain Table 4"/>
  <w:LsdException Locked="false" Priority="45" Name="Plain Table 5"/>
  <w:LsdException Locked="false" Priority="40" Name="Grid Table Light"/>
  <w:LsdException Locked="false" Priority="46" Name="Grid Table 1 Light"/>
  <w:LsdException Locked="false" Priority="47" Name="Grid Table 2"/>
  <w:LsdException Locked="false" Priority="48" Name="Grid Table 3"/>
  <w:LsdException Locked="false" Priority="49" Name="Grid Table 4"/>
  <w:LsdException Locked="false" Priority="50" Name="Grid Table 5 Dark"/>
  <w:LsdException Locked="false" Priority="51" Name="Grid Table 6 Colorful"/>
  <w:LsdException Locked="false" Priority="52" Name="Grid Table 7 Colorful"/>
  <w:LsdException Locked="false" Priority="46"
   Name="Grid Table 1 Light Accent 1"/>
  <w:LsdException Locked="false" Priority="47" Name="Grid Table 2 Accent 1"/>
  <w:LsdException Locked="false" Priority="48" Name="Grid Table 3 Accent 1"/>
  <w:LsdException Locked="false" Priority="49" Name="Grid Table 4 Accent 1"/>
  <w:LsdException Locked="false" Priority="50" Name="Grid Table 5 Dark Accent 1"/>
  <w:LsdException Locked="false" Priority="51"
   Name="Grid Table 6 Colorful Accent 1"/>
  <w:LsdException Locked="false" Priority="52"
   Name="Grid Table 7 Colorful Accent 1"/>
  <w:LsdException Locked="false" Priority="46"
   Name="Grid Table 1 Light Accent 2"/>
  <w:LsdException Locked="false" Priority="47" Name="Grid Table 2 Accent 2"/>
  <w:LsdException Locked="false" Priority="48" Name="Grid Table 3 Accent 2"/>
  <w:LsdException Locked="false" Priority="49" Name="Grid Table 4 Accent 2"/>
  <w:LsdException Locked="false" Priority="50" Name="Grid Table 5 Dark Accent 2"/>
  <w:LsdException Locked="false" Priority="51"
   Name="Grid Table 6 Colorful Accent 2"/>
  <w:LsdException Locked="false" Priority="52"
   Name="Grid Table 7 Colorful Accent 2"/>
  <w:LsdException Locked="false" Priority="46"
   Name="Grid Table 1 Light Accent 3"/>
  <w:LsdException Locked="false" Priority="47" Name="Grid Table 2 Accent 3"/>
  <w:LsdException Locked="false" Priority="48" Name="Grid Table 3 Accent 3"/>
  <w:LsdException Locked="false" Priority="49" Name="Grid Table 4 Accent 3"/>
  <w:LsdException Locked="false" Priority="50" Name="Grid Table 5 Dark Accent 3"/>
  <w:LsdException Locked="false" Priority="51"
   Name="Grid Table 6 Colorful Accent 3"/>
  <w:LsdException Locked="false" Priority="52"
   Name="Grid Table 7 Colorful Accent 3"/>
  <w:LsdException Locked="false" Priority="46"
   Name="Grid Table 1 Light Accent 4"/>
  <w:LsdException Locked="false" Priority="47" Name="Grid Table 2 Accent 4"/>
  <w:LsdException Locked="false" Priority="48" Name="Grid Table 3 Accent 4"/>
  <w:LsdException Locked="false" Priority="49" Name="Grid Table 4 Accent 4"/>
  <w:LsdException Locked="false" Priority="50" Name="Grid Table 5 Dark Accent 4"/>
  <w:LsdException Locked="false" Priority="51"
   Name="Grid Table 6 Colorful Accent 4"/>
  <w:LsdException Locked="false" Priority="52"
   Name="Grid Table 7 Colorful Accent 4"/>
  <w:LsdException Locked="false" Priority="46"
   Name="Grid Table 1 Light Accent 5"/>
  <w:LsdException Locked="false" Priority="47" Name="Grid Table 2 Accent 5"/>
  <w:LsdException Locked="false" Priority="48" Name="Grid Table 3 Accent 5"/>
  <w:LsdException Locked="false" Priority="49" Name="Grid Table 4 Accent 5"/>
  <w:LsdException Locked="false" Priority="50" Name="Grid Table 5 Dark Accent 5"/>
  <w:LsdException Locked="false" Priority="51"
   Name="Grid Table 6 Colorful Accent 5"/>
  <w:LsdException Locked="false" Priority="52"
   Name="Grid Table 7 Colorful Accent 5"/>
  <w:LsdException Locked="false" Priority="46"
   Name="Grid Table 1 Light Accent 6"/>
  <w:LsdException Locked="false" Priority="47" Name="Grid Table 2 Accent 6"/>
  <w:LsdException Locked="false" Priority="48" Name="Grid Table 3 Accent 6"/>
  <w:LsdException Locked="false" Priority="49" Name="Grid Table 4 Accent 6"/>
  <w:LsdException Locked="false" Priority="50" Name="Grid Table 5 Dark Accent 6"/>
  <w:LsdException Locked="false" Priority="51"
   Name="Grid Table 6 Colorful Accent 6"/>
  <w:LsdException Locked="false" Priority="52"
   Name="Grid Table 7 Colorful Accent 6"/>
  <w:LsdException Locked="false" Priority="46" Name="List Table 1 Light"/>
  <w:LsdException Locked="false" Priority="47" Name="List Table 2"/>
  <w:LsdException Locked="false" Priority="48" Name="List Table 3"/>
  <w:LsdException Locked="false" Priority="49" Name="List Table 4"/>
  <w:LsdException Locked="false" Priority="50" Name="List Table 5 Dark"/>
  <w:LsdException Locked="false" Priority="51" Name="List Table 6 Colorful"/>
  <w:LsdException Locked="false" Priority="52" Name="List Table 7 Colorful"/>
  <w:LsdException Locked="false" Priority="46"
   Name="List Table 1 Light Accent 1"/>
  <w:LsdException Locked="false" Priority="47" Name="List Table 2 Accent 1"/>
  <w:LsdException Locked="false" Priority="48" Name="List Table 3 Accent 1"/>
  <w:LsdException Locked="false" Priority="49" Name="List Table 4 Accent 1"/>
  <w:LsdException Locked="false" Priority="50" Name="List Table 5 Dark Accent 1"/>
  <w:LsdException Locked="false" Priority="51"
   Name="List Table 6 Colorful Accent 1"/>
  <w:LsdException Locked="false" Priority="52"
   Name="List Table 7 Colorful Accent 1"/>
  <w:LsdException Locked="false" Priority="46"
   Name="List Table 1 Light Accent 2"/>
  <w:LsdException Locked="false" Priority="47" Name="List Table 2 Accent 2"/>
  <w:LsdException Locked="false" Priority="48" Name="List Table 3 Accent 2"/>
  <w:LsdException Locked="false" Priority="49" Name="List Table 4 Accent 2"/>
  <w:LsdException Locked="false" Priority="50" Name="List Table 5 Dark Accent 2"/>
  <w:LsdException Locked="false" Priority="51"
   Name="List Table 6 Colorful Accent 2"/>
  <w:LsdException Locked="false" Priority="52"
   Name="List Table 7 Colorful Accent 2"/>
  <w:LsdException Locked="false" Priority="46"
   Name="List Table 1 Light Accent 3"/>
  <w:LsdException Locked="false" Priority="47" Name="List Table 2 Accent 3"/>
  <w:LsdException Locked="false" Priority="48" Name="List Table 3 Accent 3"/>
  <w:LsdException Locked="false" Priority="49" Name="List Table 4 Accent 3"/>
  <w:LsdException Locked="false" Priority="50" Name="List Table 5 Dark Accent 3"/>
  <w:LsdException Locked="false" Priority="51"
   Name="List Table 6 Colorful Accent 3"/>
  <w:LsdException Locked="false" Priority="52"
   Name="List Table 7 Colorful Accent 3"/>
  <w:LsdException Locked="false" Priority="46"
   Name="List Table 1 Light Accent 4"/>
  <w:LsdException Locked="false" Priority="47" Name="List Table 2 Accent 4"/>
  <w:LsdException Locked="false" Priority="48" Name="List Table 3 Accent 4"/>
  <w:LsdException Locked="false" Priority="49" Name="List Table 4 Accent 4"/>
  <w:LsdException Locked="false" Priority="50" Name="List Table 5 Dark Accent 4"/>
  <w:LsdException Locked="false" Priority="51"
   Name="List Table 6 Colorful Accent 4"/>
  <w:LsdException Locked="false" Priority="52"
   Name="List Table 7 Colorful Accent 4"/>
  <w:LsdException Locked="false" Priority="46"
   Name="List Table 1 Light Accent 5"/>
  <w:LsdException Locked="false" Priority="47" Name="List Table 2 Accent 5"/>
  <w:LsdException Locked="false" Priority="48" Name="List Table 3 Accent 5"/>
  <w:LsdException Locked="false" Priority="49" Name="List Table 4 Accent 5"/>
  <w:LsdException Locked="false" Priority="50" Name="List Table 5 Dark Accent 5"/>
  <w:LsdException Locked="false" Priority="51"
   Name="List Table 6 Colorful Accent 5"/>
  <w:LsdException Locked="false" Priority="52"
   Name="List Table 7 Colorful Accent 5"/>
  <w:LsdException Locked="false" Priority="46"
   Name="List Table 1 Light Accent 6"/>
  <w:LsdException Locked="false" Priority="47" Name="List Table 2 Accent 6"/>
  <w:LsdException Locked="false" Priority="48" Name="List Table 3 Accent 6"/>
  <w:LsdException Locked="false" Priority="49" Name="List Table 4 Accent 6"/>
  <w:LsdException Locked="false" Priority="50" Name="List Table 5 Dark Accent 6"/>
  <w:LsdException Locked="false" Priority="51"
   Name="List Table 6 Colorful Accent 6"/>
  <w:LsdException Locked="false" Priority="52"
   Name="List Table 7 Colorful Accent 6"/>
  <w:LsdException Locked="false" SemiHidden="true" UnhideWhenUsed="true"
   Name="Mention"/>
  <w:LsdException Locked="false" SemiHidden="true" UnhideWhenUsed="true"
   Name="Smart Hyperlink"/>
  <w:LsdException Locked="false" SemiHidden="true" UnhideWhenUsed="true"
   Name="Hashtag"/>
  <w:LsdException Locked="false" SemiHidden="true" UnhideWhenUsed="true"
   Name="Unresolved Mention"/>
  <w:LsdException Locked="false" SemiHidden="true" UnhideWhenUsed="true"
   Name="Smart Link"/>
 </w:LatentStyles>
</xml><![endif]-->
<style scoped>
<!--
\n",
       "    .dataframe tbody tr th:only-of-type {\n",
       "        vertical-align: middle;\n",
       "    }\n",
       "\n",
       "    .dataframe tbody tr th {\n",
       "        vertical-align: top;\n",
       "    }\n",
       "\n",
       "    .dataframe thead th {\n",
       "        text-align: right;\n",
       "    }\n",
       "</style>\n",
       "<table border=\"1\" class=\"dataframe\">\n",
       "  <thead>\n",
       "    <tr style=\"text-align: right;\">\n",
       "      <th></th>\n",
       "      <th>Respondent</th>\n",
       "      <th>MainBranch</th>\n",
       "      <th>Hobbyist</th>\n",
       "      <th>OpenSourcer</th>\n",
       "      <th>OpenSource</th>\n",
       "      <th>Employment</th>\n",
       "      <th>Country</th>\n",
       "      <th>Student</th>\n",
       "      <th>EdLevel</th>\n",
       "      <th>UndergradMajor</th>\n",
       "      <th>...</th>\n",
       "      <th>WelcomeChange</th>\n",
       "      <th>SONewContent</th>\n",
       "      <th>Age</th>\n",
       "      <th>Gender</th>\n",
       "      <th>Trans</th>\n",
       "      <th>Sexuality</th>\n",
       "      <th>Ethnicity</th>\n",
       "      <th>Dependents</th>\n",
       "      <th>SurveyLength</th>\n",
       "      <th>SurveyEase</th>\n",
       "    </tr>\n",
       "  </thead>\n",
       "  <tbody>\n",
       "    <tr>\n",
       "      <th>0</th>\n",
       "      <td>1</td>\n",
       "      <td>I am a student who is learning to code</td>\n",
       "      <td>Yes</td>\n",
       "      <td>Never</td>\n",
       "      <td>The quality of OSS and closed source software ...</td>\n",
       "      <td>Not employed, and not looking for work</td>\n",
       "      <td>United Kingdom</td>\n",
       "      <td>No</td>\n",
       "      <td>Primary/elementary school</td>\n",
       "      <td>NaN</td>\n",
       "      <td>...</td>\n",
       "      <td>Just as welcome now as I felt last year</td>\n",
       "      <td>Tech articles written by other developers;Indu...</td>\n",
       "      <td>14.0</td>\n",
       "      <td>Man</td>\n",
       "      <td>No</td>\n",
       "      <td>Straight / Heterosexual</td>\n",
       "      <td>NaN</td>\n",
       "      <td>No</td>\n",
       "      <td>Appropriate in length</td>\n",
       "      <td>Neither easy nor difficult</td>\n",
       "    </tr>\n",
       "    <tr>\n",
       "      <th>1</th>\n",
       "      <td>2</td>\n",
       "      <td>I am a student who is learning to code</td>\n",
       "      <td>No</td>\n",
       "      <td>Less than once per year</td>\n",
       "      <td>The quality of OSS and closed source software ...</td>\n",
       "      <td>Not employed, but looking for work</td>\n",
       "      <td>Bosnia and Herzegovina</td>\n",
       "      <td>Yes, full-time</td>\n",
       "      <td>Secondary school (e.g. American high school, G...</td>\n",
       "      <td>NaN</td>\n",
       "      <td>...</td>\n",
       "      <td>Just as welcome now as I felt last year</td>\n",
       "      <td>Tech articles written by other developers;Indu...</td>\n",
       "      <td>19.0</td>\n",
       "      <td>Man</td>\n",
       "      <td>No</td>\n",
       "      <td>Straight / Heterosexual</td>\n",
       "      <td>NaN</td>\n",
       "      <td>No</td>\n",
       "      <td>Appropriate in length</td>\n",
       "      <td>Neither easy nor difficult</td>\n",
       "    </tr>\n",
       "    <tr>\n",
       "      <th>2</th>\n",
       "      <td>3</td>\n",
       "      <td>I am not primarily a developer, but I write co...</td>\n",
       "      <td>Yes</td>\n",
       "      <td>Never</td>\n",
       "      <td>The quality of OSS and closed source software ...</td>\n",
       "      <td>Employed full-time</td>\n",
       "      <td>Thailand</td>\n",
       "      <td>No</td>\n",
       "      <td>Bachelor’s degree (BA, BS, B.Eng., etc.)</td>\n",
       "      <td>Web development or web design</td>\n",
       "      <td>...</td>\n",
       "      <td>Just as welcome now as I felt last year</td>\n",
       "      <td>Tech meetups or events in your area;Courses on...</td>\n",
       "      <td>28.0</td>\n",
       "      <td>Man</td>\n",
       "      <td>No</td>\n",
       "      <td>Straight / Heterosexual</td>\n",
       "      <td>NaN</td>\n",
       "      <td>Yes</td>\n",
       "      <td>Appropriate in length</td>\n",
       "      <td>Neither easy nor difficult</td>\n",
       "    </tr>\n",
       "    <tr>\n",
       "      <th>3</th>\n",
       "      <td>4</td>\n",
       "      <td>I am a developer by profession</td>\n",
       "      <td>No</td>\n",
       "      <td>Never</td>\n",
       "      <td>The quality of OSS and closed source software ...</td>\n",
       "      <td>Employed full-time</td>\n",
       "      <td>United States</td>\n",
       "      <td>No</td>\n",
       "      <td>Bachelor’s degree (BA, BS, B.Eng., etc.)</td>\n",
       "      <td>Computer science, computer engineering, or sof...</td>\n",
       "      <td>...</td>\n",
       "      <td>Just as welcome now as I felt last year</td>\n",
       "      <td>Tech articles written by other developers;Indu...</td>\n",
       "      <td>22.0</td>\n",
       "      <td>Man</td>\n",
       "      <td>No</td>\n",
       "      <td>Straight / Heterosexual</td>\n",
       "      <td>White or of European descent</td>\n",
       "      <td>No</td>\n",
       "      <td>Appropriate in length</td>\n",
       "      <td>Easy</td>\n",
       "    </tr>\n",
       "    <tr>\n",
       "      <th>4</th>\n",
       "      <td>5</td>\n",
       "      <td>I am a developer by profession</td>\n",
       "      <td>Yes</td>\n",
       "      <td>Once a month or more often</td>\n",
       "      <td>OSS is, on average, of HIGHER quality than pro...</td>\n",
       "      <td>Employed full-time</td>\n",
       "      <td>Ukraine</td>\n",
       "      <td>No</td>\n",
       "      <td>Bachelor’s degree (BA, BS, B.Eng., etc.)</td>\n",
       "      <td>Computer science, computer engineering, or sof...</td>\n",
       "      <td>...</td>\n",
       "      <td>Just as welcome now as I felt last year</td>\n",
       "      <td>Tech meetups or events in your area;Courses on...</td>\n",
       "      <td>30.0</td>\n",
       "      <td>Man</td>\n",
       "      <td>No</td>\n",
       "      <td>Straight / Heterosexual</td>\n",
       "      <td>White or of European descent;Multiracial</td>\n",
       "      <td>No</td>\n",
       "      <td>Appropriate in length</td>\n",
       "      <td>Easy</td>\n",
       "    </tr>\n",
       "  </tbody>\n",
       "</table>\n",
       "<p>5 rows × 85 columns</p>\n",
       "</div>"
      ],
      "text/plain": [
       "   Respondent                                         MainBranch Hobbyist  \\\n",
       "0           1             I am a student who is learning to code      Yes   \n",
       "1           2             I am a student who is learning to code       No   \n",
       "2           3  I am not primarily a developer, but I write co...      Yes   \n",
       "3           4                     I am a developer by profession       No   \n",
       "4           5                     I am a developer by profession      Yes   \n",
       "\n",
       "                  OpenSourcer  \\\n",
       "0                       Never   \n",
       "1     Less than once per year   \n",
       "2                       Never   \n",
       "3                       Never   \n",
       "4  Once a month or more often   \n",
       "\n",
       "                                          OpenSource  \\\n",
       "0  The quality of OSS and closed source software ...   \n",
       "1  The quality of OSS and closed source software ...   \n",
       "2  The quality of OSS and closed source software ...   \n",
       "3  The quality of OSS and closed source software ...   \n",
       "4  OSS is, on average, of HIGHER quality than pro...   \n",
       "\n",
       "                               Employment                 Country  \\\n",
       "0  Not employed, and not looking for work          United Kingdom   \n",
       "1      Not employed, but looking for work  Bosnia and Herzegovina   \n",
       "2                      Employed full-time                Thailand   \n",
       "3                      Employed full-time           United States   \n",
       "4                      Employed full-time                 Ukraine   \n",
       "\n",
       "          Student                                            EdLevel  \\\n",
       "0              No                          Primary/elementary school   \n",
       "1  Yes, full-time  Secondary school (e.g. American high school, G...   \n",
       "2              No           Bachelor’s degree (BA, BS, B.Eng., etc.)   \n",
       "3              No           Bachelor’s degree (BA, BS, B.Eng., etc.)   \n",
       "4              No           Bachelor’s degree (BA, BS, B.Eng., etc.)   \n",
       "\n",
       "                                      UndergradMajor  ...  \\\n",
       "0                                                NaN  ...   \n",
       "1                                                NaN  ...   \n",
       "2                      Web development or web design  ...   \n",
       "3  Computer science, computer engineering, or sof...  ...   \n",
       "4  Computer science, computer engineering, or sof...  ...   \n",
       "\n",
       "                             WelcomeChange  \\\n",
       "0  Just as welcome now as I felt last year   \n",
       "1  Just as welcome now as I felt last year   \n",
       "2  Just as welcome now as I felt last year   \n",
       "3  Just as welcome now as I felt last year   \n",
       "4  Just as welcome now as I felt last year   \n",
       "\n",
       "                                        SONewContent   Age Gender Trans  \\\n",
       "0  Tech articles written by other developers;Indu...  14.0    Man    No   \n",
       "1  Tech articles written by other developers;Indu...  19.0    Man    No   \n",
       "2  Tech meetups or events in your area;Courses on...  28.0    Man    No   \n",
       "3  Tech articles written by other developers;Indu...  22.0    Man    No   \n",
       "4  Tech meetups or events in your area;Courses on...  30.0    Man    No   \n",
       "\n",
       "                 Sexuality                                 Ethnicity  \\\n",
       "0  Straight / Heterosexual                                       NaN   \n",
       "1  Straight / Heterosexual                                       NaN   \n",
       "2  Straight / Heterosexual                                       NaN   \n",
       "3  Straight / Heterosexual              White or of European descent   \n",
       "4  Straight / Heterosexual  White or of European descent;Multiracial   \n",
       "\n",
       "  Dependents           SurveyLength                  SurveyEase  \n",
       "0         No  Appropriate in length  Neither easy nor difficult  \n",
       "1         No  Appropriate in length  Neither easy nor difficult  \n",
       "2        Yes  Appropriate in length  Neither easy nor difficult  \n",
       "3         No  Appropriate in length                        Easy  \n",
       "4         No  Appropriate in length                        Easy  \n",
       "\n",
       "[5 rows x 85 columns]"
      ]
     },
     "execution_count": 2,
     "metadata": {}
],
   "source": [
    "data1=pd.read_csv('survey_results_public.csv')\n",
    "data1.head()"
   ]
  },
  {
   "cell_type": "code",
   "execution_count": 3,
   "id": "3ecc959e",
   "metadata": {},
   "outputs": [
    {
     "data": {
      "text/html": [
       "<div>\n",
       "<style scoped>\n",
       "    .dataframe tbody tr th:only-of-type {\n",
       "        vertical-align: middle;\n",
       "    }\n",
       "\n",
       "    .dataframe tbody tr th {\n",
       "        vertical-align: top;\n",
       "    }\n",
       "\n",
       "    .dataframe thead th {\n",
       "        text-align: right;\n",
       "    }\n",
       "</style>\n",
       "<table border=\"1\" class=\"dataframe\">\n",
       "  <thead>\n",
       "    <tr style=\"text-align: right;\">\n",
       "      <th></th>\n",
       "      <th>Column</th>\n",
       "      <th>QuestionText</th>\n",
       "    </tr>\n",
       "  </thead>\n",
       "  <tbody>\n",
       "    <tr>\n",
       "      <th>0</th>\n",
       "      <td>Respondent</td>\n",
       "      <td>Randomized respondent ID number (not in order ...</td>\n",
       "    </tr>\n",
       "    <tr>\n",
       "      <th>1</th>\n",
       "      <td>MainBranch</td>\n",
       "      <td>Which of the following options best describes ...</td>\n",
       "    </tr>\n",
       "    <tr>\n",
       "      <th>2</th>\n",
       "      <td>Hobbyist</td>\n",
       "      <td>Do you code as a hobby?</td>\n",
       "    </tr>\n",
       "    <tr>\n",
       "      <th>3</th>\n",
       "      <td>OpenSourcer</td>\n",
       "      <td>How often do you contribute to open source?</td>\n",
       "    </tr>\n",
       "    <tr>\n",
       "      <th>4</th>\n",
       "      <td>OpenSource</td>\n",
       "      <td>How do you feel about the quality of open sour...</td>\n",
       "    </tr>\n",
       "  </tbody>\n",
       "</table>\n",
       "</div>"
      ],
      "text/plain": [
       "        Column                                       QuestionText\n",
       "0   Respondent  Randomized respondent ID number (not in order ...\n",
       "1   MainBranch  Which of the following options best describes ...\n",
       "2     Hobbyist                            Do you code as a hobby?\n",
       "3  OpenSourcer        How often do you contribute to open source?\n",
       "4   OpenSource  How do you feel about the quality of open sour..."
      ]
     },
     "execution_count": 3,
     "metadata": {},
     "output_type": "execute_result"
    }
   ],
   "source": [
    "data2=pd.read_csv('survey_results_schema.csv')\n",
    "data2.head()"
   ]
  }
: 4,
   "id": "cb697498",
   "metadata": {}
: [
    {
     "data": {
      "text/plain": [
       "(88883, 85)"
      ]
     },
     "execution_count": 4,
     "metadata": {},
     "output_type": "execute_result"
    }
],
   "source": [
    "data1.shape"
   ]
  },
  {
   "cell_type": "code",
   "execution_count": 5,
   "id": "2dab0827",
   "metadata": {},
   "outputs": [
    {
     "data": {
      "text/plain": [
       "(85, 2)"
      ]
     },
     "execution_count": 5,
     "metadata": {},
     "output_type": "execute_result"
    }
   ],
   "source": [
    "data2.shape"
   ]
  }
: 6,
   "id": "26e6cd6b",
   "metadata": {}
: [
    {
     "data": {
      "text/plain": [
       "Index(['Respondent', 'MainBranch', 'Hobbyist', 'OpenSourcer', 'OpenSource',\n",
       "       'Employment', 'Country', 'Student', 'EdLevel', 'UndergradMajor',\n",
       "       'EduOther', 'OrgSize', 'DevType', 'YearsCode', 'Age1stCode',\n",
       "       'YearsCodePro', 'CareerSat', 'JobSat', 'MgrIdiot', 'MgrMoney',\n",
       "       'MgrWant', 'JobSeek', 'LastHireDate', 'LastInt', 'FizzBuzz',\n",
       "       'JobFactors', 'ResumeUpdate', 'CurrencySymbol', 'CurrencyDesc',\n",
       "       'CompTotal', 'CompFreq', 'ConvertedComp', 'WorkWeekHrs', 'WorkPlan',\n",
       "       'WorkChallenge', 'WorkRemote', 'WorkLoc', 'ImpSyn', 'CodeRev',\n",
       "       'CodeRevHrs', 'UnitTests', 'PurchaseHow', 'PurchaseWhat',\n",
       "       'LanguageWorkedWith', 'LanguageDesireNextYear', 'DatabaseWorkedWith',\n",
       "       'DatabaseDesireNextYear', 'PlatformWorkedWith',\n",
       "       'PlatformDesireNextYear', 'WebFrameWorkedWith',\n",
       "       'WebFrameDesireNextYear', 'MiscTechWorkedWith',\n",
       "       'MiscTechDesireNextYear', 'DevEnviron', 'OpSys', 'Containers',\n",
       "       'BlockchainOrg', 'BlockchainIs', 'BetterLife', 'ITperson', 'OffOn',\n",
       "       'SocialMedia', 'Extraversion', 'ScreenName', 'SOVisit1st',\n",
       "       'SOVisitFreq', 'SOVisitTo', 'SOFindAnswer', 'SOTimeSaved',\n",
       "       'SOHowMuchTime', 'SOAccount', 'SOPartFreq', 'SOJobs', 'EntTeams',\n",
       "       'SOComm', 'WelcomeChange', 'SONewContent', 'Age', 'Gender', 'Trans',\n",
       "       'Sexuality', 'Ethnicity', 'Dependents', 'SurveyLength', 'SurveyEase'],\n",
       "      dtype='object')"
      ]
     },
     "execution_count": 6,
     "metadata": {},
     "output_type": "execute_result"
    }
],
   "source": [
    "data1.columns"
   ]
  },
  {
   "cell_type": "markdown",
   "id": "a61f99c1",
   "metadata": {},
   "source": [
    "### Checking null values"
   ]
  }
: 7,
   "id": "17edb0b9",
   "metadata": {}
: [
    {
     "data": {
      "text/plain": [
       "Respondent          0\n",
       "MainBranch        552\n",
       "Hobbyist            0\n",
       "OpenSourcer         0\n",
       "OpenSource       2041\n",
       "                ...  \n",
       "Sexuality       12736\n",
       "Ethnicity       12215\n",
       "Dependents       5824\n",
       "SurveyLength     1899\n",
       "SurveyEase       1802\n",
       "Length: 85, dtype: int64"
      ]
     },
     "execution_count": 7,
     "metadata": {},
     "output_type": "execute_result"
    }
],
   "source": [
    "data1.isnull().sum()"
   ]
  },
  {
   "cell_type": "code",
   "execution_count": 9,
   "id": "9858b47c",
   "metadata": {},
   "outputs": [],
   "source": [
    "pd.set_option('display.max_columns',None)"
   ]
  }
: 13,
   "id": "4296d1bf",
   "metadata": {}
: [
    {
     "data": {
      "text/html": [
       "<div>\n",
       "<style scoped>\n",
       "    .dataframe tbody tr th:only-of-type {\n",
       "        vertical-align: middle;\n",
       "    }\n",
       "\n",
       "    .dataframe tbody tr th {\n",
       "        vertical-align: top;\n",
       "    }\n",
       "\n",
       "    .dataframe thead th {\n",
       "        text-align: right;\n",
       "    }\n",
       "</style>\n",
       "<table border=\"1\" class=\"dataframe\">\n",
       "  <thead>\n",
       "    <tr style=\"text-align: right;\">\n",
       "      <th></th>\n",
       "      <th>Respondent</th>\n",
       "      <th>MainBranch</th>\n",
       "      <th>Hobbyist</th>\n",
       "      <th>OpenSourcer</th>\n",
       "      <th>OpenSource</th>\n",
       "      <th>Employment</th>\n",
       "      <th>Country</th>\n",
       "      <th>Student</th>\n",
       "      <th>EdLevel</th>\n",
       "      <th>UndergradMajor</th>\n",
       "      <th>EduOther</th>\n",
       "      <th>OrgSize</th>\n",
       "      <th>DevType</th>\n",
       "      <th>YearsCode</th>\n",
       "      <th>Age1stCode</th>\n",
       "      <th>YearsCodePro</th>\n",
       "      <th>CareerSat</th>\n",
       "      <th>JobSat</th>\n",
       "      <th>MgrIdiot</th>\n",
       "      <th>MgrMoney</th>\n",
       "      <th>MgrWant</th>\n",
       "      <th>JobSeek</th>\n",
       "      <th>LastHireDate</th>\n",
       "      <th>LastInt</th>\n",
       "      <th>FizzBuzz</th>\n",
       "      <th>JobFactors</th>\n",
       "      <th>ResumeUpdate</th>\n",
       "      <th>CurrencySymbol</th>\n",
       "      <th>CurrencyDesc</th>\n",
       "      <th>CompTotal</th>\n",
       "      <th>CompFreq</th>\n",
       "      <th>ConvertedComp</th>\n",
       "      <th>WorkWeekHrs</th>\n",
       "      <th>WorkPlan</th>\n",
       "      <th>WorkChallenge</th>\n",
       "      <th>WorkRemote</th>\n",
       "      <th>WorkLoc</th>\n",
       "      <th>ImpSyn</th>\n",
       "      <th>CodeRev</th>\n",
       "      <th>CodeRevHrs</th>\n",
       "      <th>UnitTests</th>\n",
       "      <th>PurchaseHow</th>\n",
       "      <th>PurchaseWhat</th>\n",
       "      <th>LanguageWorkedWith</th>\n",
       "      <th>LanguageDesireNextYear</th>\n",
       "      <th>DatabaseWorkedWith</th>\n",
       "      <th>DatabaseDesireNextYear</th>\n",
       "      <th>PlatformWorkedWith</th>\n",
       "      <th>PlatformDesireNextYear</th>\n",
       "      <th>WebFrameWorkedWith</th>\n",
       "      <th>WebFrameDesireNextYear</th>\n",
       "      <th>MiscTechWorkedWith</th>\n",
       "      <th>MiscTechDesireNextYear</th>\n",
       "      <th>DevEnviron</th>\n",
       "      <th>OpSys</th>\n",
       "      <th>Containers</th>\n",
       "      <th>BlockchainOrg</th>\n",
       "      <th>BlockchainIs</th>\n",
       "      <th>BetterLife</th>\n",
       "      <th>ITperson</th>\n",
       "      <th>OffOn</th>\n",
       "      <th>SocialMedia</th>\n",
       "      <th>Extraversion</th>\n",
       "      <th>ScreenName</th>\n",
       "      <th>SOVisit1st</th>\n",
       "      <th>SOVisitFreq</th>\n",
       "      <th>SOVisitTo</th>\n",
       "      <th>SOFindAnswer</th>\n",
       "      <th>SOTimeSaved</th>\n",
       "      <th>SOHowMuchTime</th>\n",
       "      <th>SOAccount</th>\n",
       "      <th>SOPartFreq</th>\n",
       "      <th>SOJobs</th>\n",
       "      <th>EntTeams</th>\n",
       "      <th>SOComm</th>\n",
       "      <th>WelcomeChange</th>\n",
       "      <th>SONewContent</th>\n",
       "      <th>Age</th>\n",
       "      <th>Gender</th>\n",
       "      <th>Trans</th>\n",
       "      <th>Sexuality</th>\n",
       "      <th>Ethnicity</th>\n",
       "      <th>Dependents</th>\n",
       "      <th>SurveyLength</th>\n",
       "      <th>SurveyEase</th>\n",
       "    </tr>\n",
       "  </thead>\n",
       "  <tbody>\n",
       "    <tr>\n",
       "      <th>0</th>\n",
       "      <td>1</td>\n",
       "      <td>I am a student who is learning to code</td>\n",
       "      <td>Yes</td>\n",
       "      <td>Never</td>\n",
       "      <td>The quality of OSS and closed source software ...</td>\n",
       "      <td>Not employed, and not looking for work</td>\n",
       "      <td>United Kingdom</td>\n",
       "      <td>No</td>\n",
       "      <td>Primary/elementary school</td>\n",
       "      <td>NaN</td>\n",
       "      <td>Taught yourself a new language, framework, or ...</td>\n",
       "      <td>NaN</td>\n",
       "      <td>NaN</td>\n",
       "      <td>4</td>\n",
       "      <td>10</td>\n",
       "      <td>NaN</td>\n",
       "      <td>NaN</td>\n",
       "      <td>NaN</td>\n",
       "      <td>NaN</td>\n",
       "      <td>NaN</td>\n",
       "      <td>NaN</td>\n",
       "      <td>NaN</td>\n",
       "      <td>NaN</td>\n",
       "      <td>NaN</td>\n",
       "      <td>NaN</td>\n",
       "      <td>NaN</td>\n",
       "      <td>NaN</td>\n",
       "      <td>NaN</td>\n",
       "      <td>NaN</td>\n",
       "      <td>NaN</td>\n",
       "      <td>NaN</td>\n",
       "      <td>NaN</td>\n",
       "      <td>NaN</td>\n",
       "      <td>NaN</td>\n",
       "      <td>NaN</td>\n",
       "      <td>NaN</td>\n",
       "      <td>NaN</td>\n",
       "      <td>NaN</td>\n",
       "      <td>NaN</td>\n",
       "      <td>NaN</td>\n",
       "      <td>NaN</td>\n",
       "      <td>NaN</td>\n",
       "      <td>NaN</td>\n",
       "      <td>HTML/CSS;Java;JavaScript;Python</td>\n",
       "      <td>C;C++;C#;Go;HTML/CSS;Java;JavaScript;Python;SQL</td>\n",
       "      <td>SQLite</td>\n",
       "      <td>MySQL</td>\n",
       "      <td>MacOS;Windows</td>\n",
       "      <td>Android;Arduino;Windows</td>\n",
       "      <td>Django;Flask</td>\n",
       "      <td>Flask;jQuery</td>\n",
       "      <td>Node.js</td>\n",
       "      <td>Node.js</td>\n",
       "      <td>IntelliJ;Notepad++;PyCharm</td>\n",
       "      <td>Windows</td>\n",
       "      <td>I do not use containers</td>\n",
       "      <td>NaN</td>\n",
       "      <td>NaN</td>\n",
       "      <td>Yes</td>\n",
       "      <td>Fortunately, someone else has that title</td>\n",
       "      <td>Yes</td>\n",
       "      <td>Twitter</td>\n",
       "      <td>Online</td>\n",
       "      <td>Username</td>\n",
       "      <td>2017</td>\n",
       "      <td>A few times per month or weekly</td>\n",
       "      <td>Find answers to specific questions;Learn how t...</td>\n",
       "      <td>3-5 times per week</td>\n",
       "      <td>Stack Overflow was much faster</td>\n",
       "      <td>31-60 minutes</td>\n",
       "      <td>No</td>\n",
       "      <td>NaN</td>\n",
       "      <td>No, I didn't know that Stack Overflow had a jo...</td>\n",
       "      <td>No, and I don't know what those are</td>\n",
       "      <td>Neutral</td>\n",
       "      <td>Just as welcome now as I felt last year</td>\n",
       "      <td>Tech articles written by other developers;Indu...</td>\n",
       "      <td>14.0</td>\n",
       "      <td>Man</td>\n",
       "      <td>No</td>\n",
       "      <td>Straight / Heterosexual</td>\n",
       "      <td>NaN</td>\n",
       "      <td>No</td>\n",
       "      <td>Appropriate in length</td>\n",
       "      <td>Neither easy nor difficult</td>\n",
       "    </tr>\n",
       "    <tr>\n",
       "      <th>1</th>\n",
       "      <td>2</td>\n",
       "      <td>I am a student who is learning to code</td>\n",
       "      <td>No</td>\n",
       "      <td>Less than once per year</td>\n",
       "      <td>The quality of OSS and closed source software ...</td>\n",
       "      <td>Not employed, but looking for work</td>\n",
       "      <td>Bosnia and Herzegovina</td>\n",
       "      <td>Yes, full-time</td>\n",
       "      <td>Secondary school (e.g. American high school, G...</td>\n",
       "      <td>NaN</td>\n",
       "      <td>Taken an online course in programming or softw...</td>\n",
       "      <td>NaN</td>\n",
       "      <td>Developer, desktop or enterprise applications;...</td>\n",
       "      <td>NaN</td>\n",
       "      <td>17</td>\n",
       "      <td>NaN</td>\n",
       "      <td>NaN</td>\n",
       "      <td>NaN</td>\n",
       "      <td>NaN</td>\n",
       "      <td>NaN</td>\n",
       "      <td>NaN</td>\n",
       "      <td>I am actively looking for a job</td>\n",
       "      <td>I've never had a job</td>\n",
       "      <td>NaN</td>\n",
       "      <td>NaN</td>\n",
       "      <td>Financial performance or funding status of the...</td>\n",
       "      <td>Something else changed (education, award, medi...</td>\n",
       "      <td>NaN</td>\n",
       "      <td>NaN</td>\n",
       "      <td>NaN</td>\n",
       "      <td>NaN</td>\n",
       "      <td>NaN</td>\n",
       "      <td>NaN</td>\n",
       "      <td>NaN</td>\n",
       "      <td>NaN</td>\n",
       "      <td>NaN</td>\n",
       "      <td>NaN</td>\n",
       "      <td>NaN</td>\n",
       "      <td>NaN</td>\n",
       "      <td>NaN</td>\n",
       "      <td>NaN</td>\n",
       "      <td>NaN</td>\n",
       "      <td>NaN</td>\n",
       "      <td>C++;HTML/CSS;Python</td>\n",
       "      <td>C++;HTML/CSS;JavaScript;SQL</td>\n",
       "      <td>NaN</td>\n",
       "      <td>MySQL</td>\n",
       "      <td>Windows</td>\n",
       "      <td>Windows</td>\n",
       "      <td>Django</td>\n",
       "      <td>Django</td>\n",
       "      <td>NaN</td>\n",
       "      <td>NaN</td>\n",
       "      <td>Atom;PyCharm</td>\n",
       "      <td>Windows</td>\n",
       "      <td>I do not use containers</td>\n",
       "      <td>NaN</td>\n",
       "      <td>Useful across many domains and could change ma...</td>\n",
       "      <td>Yes</td>\n",
       "      <td>Yes</td>\n",
       "      <td>Yes</td>\n",
       "      <td>Instagram</td>\n",
       "      <td>Online</td>\n",
       "      <td>Username</td>\n",
       "      <td>2017</td>\n",
       "      <td>Daily or almost daily</td>\n",
       "      <td>Find answers to specific questions;Learn how t...</td>\n",
       "      <td>3-5 times per week</td>\n",
       "      <td>Stack Overflow was much faster</td>\n",
       "      <td>11-30 minutes</td>\n",
       "      <td>Yes</td>\n",
       "      <td>A few times per month or weekly</td>\n",
       "      <td>No, I knew that Stack Overflow had a job board...</td>\n",
       "      <td>No, and I don't know what those are</td>\n",
       "      <td>Yes, somewhat</td>\n",
       "      <td>Just as welcome now as I felt last year</td>\n",
       "      <td>Tech articles written by other developers;Indu...</td>\n",
       "      <td>19.0</td>\n",
       "      <td>Man</td>\n",
       "      <td>No</td>\n",
       "      <td>Straight / Heterosexual</td>\n",
       "      <td>NaN</td>\n",
       "      <td>No</td>\n",
       "      <td>Appropriate in length</td>\n",
       "      <td>Neither easy nor difficult</td>\n",
       "    </tr>\n",
       "    <tr>\n",
       "      <th>2</th>\n",
       "      <td>3</td>\n",
       "      <td>I am not primarily a developer, but I write co...</td>\n",
       "      <td>Yes</td>\n",
       "      <td>Never</td>\n",
       "      <td>The quality of OSS and closed source software ...</td>\n",
       "      <td>Employed full-time</td>\n",
       "      <td>Thailand</td>\n",
       "      <td>No</td>\n",
       "      <td>Bachelor’s degree (BA, BS, B.Eng., etc.)</td>\n",
       "      <td>Web development or web design</td>\n",
       "      <td>Taught yourself a new language, framework, or ...</td>\n",
       "      <td>100 to 499 employees</td>\n",
       "      <td>Designer;Developer, back-end;Developer, front-...</td>\n",
       "      <td>3</td>\n",
       "      <td>22</td>\n",
       "      <td>1</td>\n",
       "      <td>Slightly satisfied</td>\n",
       "      <td>Slightly satisfied</td>\n",
       "      <td>Not at all confident</td>\n",
       "      <td>Not sure</td>\n",
       "      <td>Not sure</td>\n",
       "      <td>I’m not actively looking, but I am open to new...</td>\n",
       "      <td>1-2 years ago</td>\n",
       "      <td>Interview with people in peer roles</td>\n",
       "      <td>No</td>\n",
       "      <td>Languages, frameworks, and other technologies ...</td>\n",
       "      <td>I was preparing for a job search</td>\n",
       "      <td>THB</td>\n",
       "      <td>Thai baht</td>\n",
       "      <td>23000.0</td>\n",
       "      <td>Monthly</td>\n",
       "      <td>8820.0</td>\n",
       "      <td>40.0</td>\n",
       "      <td>There's no schedule or spec; I work on what se...</td>\n",
       "      <td>Distracting work environment;Inadequate access...</td>\n",
       "      <td>Less than once per month / Never</td>\n",
       "      <td>Home</td>\n",
       "      <td>Average</td>\n",
       "      <td>No</td>\n",
       "      <td>NaN</td>\n",
       "      <td>No, but I think we should</td>\n",
       "      <td>Not sure</td>\n",
       "      <td>I have little or no influence</td>\n",
       "      <td>HTML/CSS</td>\n",
       "      <td>Elixir;HTML/CSS</td>\n",
       "      <td>PostgreSQL</td>\n",
       "      <td>PostgreSQL</td>\n",
       "      <td>NaN</td>\n",
       "      <td>NaN</td>\n",
       "      <td>NaN</td>\n",
       "      <td>Other(s):</td>\n",
       "      <td>NaN</td>\n",
       "      <td>NaN</td>\n",
       "      <td>Vim;Visual Studio Code</td>\n",
       "      <td>Linux-based</td>\n",
       "      <td>I do not use containers</td>\n",
       "      <td>NaN</td>\n",
       "      <td>NaN</td>\n",
       "      <td>Yes</td>\n",
       "      <td>Yes</td>\n",
       "      <td>Yes</td>\n",
       "      <td>Reddit</td>\n",
       "      <td>In real life (in person)</td>\n",
       "      <td>Username</td>\n",
       "      <td>2011</td>\n",
       "      <td>A few times per week</td>\n",
       "      <td>Find answers to specific questions;Learn how t...</td>\n",
       "      <td>6-10 times per week</td>\n",
       "      <td>They were about the same</td>\n",
       "      <td>NaN</td>\n",
       "      <td>Yes</td>\n",
       "      <td>Less than once per month or monthly</td>\n",
       "      <td>Yes</td>\n",
       "      <td>No, I've heard of them, but I am not part of a...</td>\n",
       "      <td>Neutral</td>\n",
       "      <td>Just as welcome now as I felt last year</td>\n",
       "      <td>Tech meetups or events in your area;Courses on...</td>\n",
       "      <td>28.0</td>\n",
       "      <td>Man</td>\n",
       "      <td>No</td>\n",
       "      <td>Straight / Heterosexual</td>\n",
       "      <td>NaN</td>\n",
       "      <td>Yes</td>\n",
       "      <td>Appropriate in length</td>\n",
       "      <td>Neither easy nor difficult</td>\n",
       "    </tr>\n",
       "    <tr>\n",
       "      <th>3</th>\n",
       "      <td>4</td>\n",
       "      <td>I am a developer by profession</td>\n",
       "      <td>No</td>\n",
       "      <td>Never</td>\n",
       "      <td>The quality of OSS and closed source software ...</td>\n",
       "      <td>Employed full-time</td>\n",
       "      <td>United States</td>\n",
       "      <td>No</td>\n",
       "      <td>Bachelor’s degree (BA, BS, B.Eng., etc.)</td>\n",
       "      <td>Computer science, computer engineering, or sof...</td>\n",
       "      <td>Taken an online course in programming or softw...</td>\n",
       "      <td>100 to 499 employees</td>\n",
       "      <td>Developer, full-stack</td>\n",
       "      <td>3</td>\n",
       "      <td>16</td>\n",
       "      <td>Less than 1 year</td>\n",
       "      <td>Very satisfied</td>\n",
       "      <td>Slightly satisfied</td>\n",
       "      <td>Very confident</td>\n",
       "      <td>No</td>\n",
       "      <td>Not sure</td>\n",
       "      <td>I am not interested in new job opportunities</td>\n",
       "      <td>Less than a year ago</td>\n",
       "      <td>Write code by hand (e.g., on a whiteboard);Int...</td>\n",
       "      <td>No</td>\n",
       "      <td>Languages, frameworks, and other technologies ...</td>\n",
       "      <td>I was preparing for a job search</td>\n",
       "      <td>USD</td>\n",
       "      <td>United States dollar</td>\n",
       "      <td>61000.0</td>\n",
       "      <td>Yearly</td>\n",
       "      <td>61000.0</td>\n",
       "      <td>80.0</td>\n",
       "      <td>There's no schedule or spec; I work on what se...</td>\n",
       "      <td>NaN</td>\n",
       "      <td>Less than once per month / Never</td>\n",
       "      <td>Home</td>\n",
       "      <td>A little below average</td>\n",
       "      <td>No</td>\n",
       "      <td>NaN</td>\n",
       "      <td>No, but I think we should</td>\n",
       "      <td>Developers typically have the most influence o...</td>\n",
       "      <td>I have little or no influence</td>\n",
       "      <td>C;C++;C#;Python;SQL</td>\n",
       "      <td>C;C#;JavaScript;SQL</td>\n",
       "      <td>MySQL;SQLite</td>\n",
       "      <td>MySQL;SQLite</td>\n",
       "      <td>Linux;Windows</td>\n",
       "      <td>Linux;Windows</td>\n",
       "      <td>NaN</td>\n",
       "      <td>NaN</td>\n",
       "      <td>.NET</td>\n",
       "      <td>.NET</td>\n",
       "      <td>Eclipse;Vim;Visual Studio;Visual Studio Code</td>\n",
       "      <td>Windows</td>\n",
       "      <td>I do not use containers</td>\n",
       "      <td>Not at all</td>\n",
       "      <td>Useful for decentralized currency (i.e., Bitcoin)</td>\n",
       "      <td>Yes</td>\n",
       "      <td>SIGH</td>\n",
       "      <td>Yes</td>\n",
       "      <td>Reddit</td>\n",
       "      <td>In real life (in person)</td>\n",
       "      <td>Username</td>\n",
       "      <td>2014</td>\n",
       "      <td>Daily or almost daily</td>\n",
       "      <td>Find answers to specific questions;Pass the ti...</td>\n",
       "      <td>1-2 times per week</td>\n",
       "      <td>Stack Overflow was much faster</td>\n",
       "      <td>31-60 minutes</td>\n",
       "      <td>Yes</td>\n",
       "      <td>Less than once per month or monthly</td>\n",
       "      <td>Yes</td>\n",
       "      <td>No, and I don't know what those are</td>\n",
       "      <td>No, not really</td>\n",
       "      <td>Just as welcome now as I felt last year</td>\n",
       "      <td>Tech articles written by other developers;Indu...</td>\n",
       "      <td>22.0</td>\n",
       "      <td>Man</td>\n",
       "      <td>No</td>\n",
       "      <td>Straight / Heterosexual</td>\n",
       "      <td>White or of European descent</td>\n",
       "      <td>No</td>\n",
       "      <td>Appropriate in length</td>\n",
       "      <td>Easy</td>\n",
       "    </tr>\n",
       "    <tr>\n",
       "      <th>4</th>\n",
       "      <td>5</td>\n",
       "      <td>I am a developer by profession</td>\n",
       "      <td>Yes</td>\n",
       "      <td>Once a month or more often</td>\n",
       "      <td>OSS is, on average, of HIGHER quality than pro...</td>\n",
       "      <td>Employed full-time</td>\n",
       "      <td>Ukraine</td>\n",
       "      <td>No</td>\n",
       "      <td>Bachelor’s degree (BA, BS, B.Eng., etc.)</td>\n",
       "      <td>Computer science, computer engineering, or sof...</td>\n",
       "      <td>Taken an online course in programming or softw...</td>\n",
       "      <td>10,000 or more employees</td>\n",
       "      <td>Academic researcher;Developer, desktop or ente...</td>\n",
       "      <td>16</td>\n",
       "      <td>14</td>\n",
       "      <td>9</td>\n",
       "      <td>Very dissatisfied</td>\n",
       "      <td>Slightly dissatisfied</td>\n",
       "      <td>Somewhat confident</td>\n",
       "      <td>Yes</td>\n",
       "      <td>No</td>\n",
       "      <td>I am not interested in new job opportunities</td>\n",
       "      <td>Less than a year ago</td>\n",
       "      <td>Write any code;Write code by hand (e.g., on a ...</td>\n",
       "      <td>No</td>\n",
       "      <td>Industry that I'd be working in;Languages, fra...</td>\n",
       "      <td>I was preparing for a job search</td>\n",
       "      <td>UAH</td>\n",
       "      <td>Ukrainian hryvnia</td>\n",
       "      <td>NaN</td>\n",
       "      <td>NaN</td>\n",
       "      <td>NaN</td>\n",
       "      <td>55.0</td>\n",
       "      <td>There is a schedule and/or spec (made by me or...</td>\n",
       "      <td>Being tasked with non-development work;Inadequ...</td>\n",
       "      <td>A few days each month</td>\n",
       "      <td>Office</td>\n",
       "      <td>A little above average</td>\n",
       "      <td>Yes, because I see value in code review</td>\n",
       "      <td>NaN</td>\n",
       "      <td>Yes, it's part of our process</td>\n",
       "      <td>Not sure</td>\n",
       "      <td>I have little or no influence</td>\n",
       "      <td>C++;HTML/CSS;Java;JavaScript;Python;SQL;VBA</td>\n",
       "      <td>HTML/CSS;Java;JavaScript;SQL;WebAssembly</td>\n",
       "      <td>Couchbase;MongoDB;MySQL;Oracle;PostgreSQL;SQLite</td>\n",
       "      <td>Couchbase;Firebase;MongoDB;MySQL;Oracle;Postgr...</td>\n",
       "      <td>Android;Linux;MacOS;Slack;Windows</td>\n",
       "      <td>Android;Docker;Kubernetes;Linux;Slack</td>\n",
       "      <td>Django;Express;Flask;jQuery;React.js;Spring</td>\n",
       "      <td>Flask;jQuery;React.js;Spring</td>\n",
       "      <td>Cordova;Node.js</td>\n",
       "      <td>Apache Spark;Hadoop;Node.js;React Native</td>\n",
       "      <td>IntelliJ;Notepad++;Vim</td>\n",
       "      <td>Linux-based</td>\n",
       "      <td>Outside of work, for personal projects</td>\n",
       "      <td>Not at all</td>\n",
       "      <td>NaN</td>\n",
       "      <td>Yes</td>\n",
       "      <td>Also Yes</td>\n",
       "      <td>Yes</td>\n",
       "      <td>Facebook</td>\n",
       "      <td>In real life (in person)</td>\n",
       "      <td>Username</td>\n",
       "      <td>I don't remember</td>\n",
       "      <td>Multiple times per day</td>\n",
       "      <td>Find answers to specific questions</td>\n",
       "      <td>More than 10 times per week</td>\n",
       "      <td>Stack Overflow was much faster</td>\n",
       "      <td>NaN</td>\n",
       "      <td>Yes</td>\n",
       "      <td>A few times per month or weekly</td>\n",
       "      <td>No, I knew that Stack Overflow had a job board...</td>\n",
       "      <td>No, I've heard of them, but I am not part of a...</td>\n",
       "      <td>Yes, definitely</td>\n",
       "      <td>Just as welcome now as I felt last year</td>\n",
       "      <td>Tech meetups or events in your area;Courses on...</td>\n",
       "      <td>30.0</td>\n",
       "      <td>Man</td>\n",
       "      <td>No</td>\n",
       "      <td>Straight / Heterosexual</td>\n",
       "      <td>White or of European descent;Multiracial</td>\n",
       "      <td>No</td>\n",
       "      <td>Appropriate in length</td>\n",
       "      <td>Easy</td>\n",
       "    </tr>\n",
       "  </tbody>\n",
       "</table>\n",
       "</div>"
      ],
      "text/plain": [
       "   Respondent                                         MainBranch Hobbyist  \\\n",
       "0           1             I am a student who is learning to code      Yes   \n",
       "1           2             I am a student who is learning to code       No   \n",
       "2           3  I am not primarily a developer, but I write co...      Yes   \n",
       "3           4                     I am a developer by profession       No   \n",
       "4           5                     I am a developer by profession      Yes   \n",
       "\n",
       "                  OpenSourcer  \\\n",
       "0                       Never   \n",
       "1     Less than once per year   \n",
       "2                       Never   \n",
       "3                       Never   \n",
       "4  Once a month or more often   \n",
       "\n",
       "                                          OpenSource  \\\n",
       "0  The quality of OSS and closed source software ...   \n",
       "1  The quality of OSS and closed source software ...   \n",
       "2  The quality of OSS and closed source software ...   \n",
       "3  The quality of OSS and closed source software ...   \n",
       "4  OSS is, on average, of HIGHER quality than pro...   \n",
       "\n",
       "                               Employment                 Country  \\\n",
       "0  Not employed, and not looking for work          United Kingdom   \n",
       "1      Not employed, but looking for work  Bosnia and Herzegovina   \n",
       "2                      Employed full-time                Thailand   \n",
       "3                      Employed full-time           United States   \n",
       "4                      Employed full-time                 Ukraine   \n",
       "\n",
       "          Student                                            EdLevel  \\\n",
       "0              No                          Primary/elementary school   \n",
       "1  Yes, full-time  Secondary school (e.g. American high school, G...   \n",
       "2              No           Bachelor’s degree (BA, BS, B.Eng., etc.)   \n",
       "3              No           Bachelor’s degree (BA, BS, B.Eng., etc.)   \n",
       "4              No           Bachelor’s degree (BA, BS, B.Eng., etc.)   \n",
       "\n",
       "                                      UndergradMajor  \\\n",
       "0                                                NaN   \n",
       "1                                                NaN   \n",
       "2                      Web development or web design   \n",
       "3  Computer science, computer engineering, or sof...   \n",
       "4  Computer science, computer engineering, or sof...   \n",
       "\n",
       "                                            EduOther  \\\n",
       "0  Taught yourself a new language, framework, or ...   \n",
       "1  Taken an online course in programming or softw...   \n",
       "2  Taught yourself a new language, framework, or ...   \n",
       "3  Taken an online course in programming or softw...   \n",
       "4  Taken an online course in programming or softw...   \n",
       "\n",
       "                    OrgSize  \\\n",
       "0                       NaN   \n",
       "1                       NaN   \n",
       "2      100 to 499 employees   \n",
       "3      100 to 499 employees   \n",
       "4  10,000 or more employees   \n",
       "\n",
       "                                             DevType YearsCode Age1stCode  \\\n",
       "0                                                NaN         4         10   \n",
       "1  Developer, desktop or enterprise applications;...       NaN         17   \n",
       "2  Designer;Developer, back-end;Developer, front-...         3         22   \n",
       "3                              Developer, full-stack         3         16   \n",
       "4  Academic researcher;Developer, desktop or ente...        16         14   \n",
       "\n",
       "       YearsCodePro           CareerSat                 JobSat  \\\n",
       "0               NaN                 NaN                    NaN   \n",
       "1               NaN                 NaN                    NaN   \n",
       "2                 1  Slightly satisfied     Slightly satisfied   \n",
       "3  Less than 1 year      Very satisfied     Slightly satisfied   \n",
       "4                 9   Very dissatisfied  Slightly dissatisfied   \n",
       "\n",
       "               MgrIdiot  MgrMoney   MgrWant  \\\n",
       "0                   NaN       NaN       NaN   \n",
       "1                   NaN       NaN       NaN   \n",
       "2  Not at all confident  Not sure  Not sure   \n",
       "3        Very confident        No  Not sure   \n",
       "4    Somewhat confident       Yes        No   \n",
       "\n",
       "                                             JobSeek          LastHireDate  \\\n",
       "0                                                NaN                   NaN   \n",
       "1                    I am actively looking for a job  I've never had a job   \n",
       "2  I’m not actively looking, but I am open to new...         1-2 years ago   \n",
       "3       I am not interested in new job opportunities  Less than a year ago   \n",
       "4       I am not interested in new job opportunities  Less than a year ago   \n",
       "\n",
       "                                             LastInt FizzBuzz  \\\n",
       "0                                                NaN      NaN   \n",
       "1                                                NaN      NaN   \n",
       "2                Interview with people in peer roles       No   \n",
       "3  Write code by hand (e.g., on a whiteboard);Int...       No   \n",
       "4  Write any code;Write code by hand (e.g., on a ...       No   \n",
       "\n",
       "                                          JobFactors  \\\n",
       "0                                                NaN   \n",
       "1  Financial performance or funding status of the...   \n",
       "2  Languages, frameworks, and other technologies ...   \n",
       "3  Languages, frameworks, and other technologies ...   \n",
       "4  Industry that I'd be working in;Languages, fra...   \n",
       "\n",
       "                                        ResumeUpdate CurrencySymbol  \\\n",
       "0                                                NaN            NaN   \n",
       "1  Something else changed (education, award, medi...            NaN   \n",
       "2                   I was preparing for a job search            THB   \n",
       "3                   I was preparing for a job search            USD   \n",
       "4                   I was preparing for a job search            UAH   \n",
       "\n",
       "           CurrencyDesc  CompTotal CompFreq  ConvertedComp  WorkWeekHrs  \\\n",
       "0                   NaN        NaN      NaN            NaN          NaN   \n",
       "1                   NaN        NaN      NaN            NaN          NaN   \n",
       "2             Thai baht    23000.0  Monthly         8820.0         40.0   \n",
       "3  United States dollar    61000.0   Yearly        61000.0         80.0   \n",
       "4     Ukrainian hryvnia        NaN      NaN            NaN         55.0   \n",
       "\n",
       "                                            WorkPlan  \\\n",
       "0                                                NaN   \n",
       "1                                                NaN   \n",
       "2  There's no schedule or spec; I work on what se...   \n",
       "3  There's no schedule or spec; I work on what se...   \n",
       "4  There is a schedule and/or spec (made by me or...   \n",
       "\n",
       "                                       WorkChallenge  \\\n",
       "0                                                NaN   \n",
       "1                                                NaN   \n",
       "2  Distracting work environment;Inadequate access...   \n",
       "3                                                NaN   \n",
       "4  Being tasked with non-development work;Inadequ...   \n",
       "\n",
       "                         WorkRemote WorkLoc                  ImpSyn  \\\n",
       "0                               NaN     NaN                     NaN   \n",
       "1                               NaN     NaN                     NaN   \n",
       "2  Less than once per month / Never    Home                 Average   \n",
       "3  Less than once per month / Never    Home  A little below average   \n",
       "4             A few days each month  Office  A little above average   \n",
       "\n",
       "                                   CodeRev  CodeRevHrs  \\\n",
       "0                                      NaN         NaN   \n",
       "1                                      NaN         NaN   \n",
       "2                                       No         NaN   \n",
       "3                                       No         NaN   \n",
       "4  Yes, because I see value in code review         NaN   \n",
       "\n",
       "                       UnitTests  \\\n",
       "0                            NaN   \n",
       "1                            NaN   \n",
       "2      No, but I think we should   \n",
       "3      No, but I think we should   \n",
       "4  Yes, it's part of our process   \n",
       "\n",
       "                                         PurchaseHow  \\\n",
       "0                                                NaN   \n",
       "1                                                NaN   \n",
       "2                                           Not sure   \n",
       "3  Developers typically have the most influence o...   \n",
       "4                                           Not sure   \n",
       "\n",
       "                    PurchaseWhat                           LanguageWorkedWith  \\\n",
       "0                            NaN              HTML/CSS;Java;JavaScript;Python   \n",
       "1                            NaN                          C++;HTML/CSS;Python   \n",
       "2  I have little or no influence                                     HTML/CSS   \n",
       "3  I have little or no influence                          C;C++;C#;Python;SQL   \n",
       "4  I have little or no influence  C++;HTML/CSS;Java;JavaScript;Python;SQL;VBA   \n",
       "\n",
       "                            LanguageDesireNextYear  \\\n",
       "0  C;C++;C#;Go;HTML/CSS;Java;JavaScript;Python;SQL   \n",
       "1                      C++;HTML/CSS;JavaScript;SQL   \n",
       "2                                  Elixir;HTML/CSS   \n",
       "3                              C;C#;JavaScript;SQL   \n",
       "4         HTML/CSS;Java;JavaScript;SQL;WebAssembly   \n",
       "\n",
       "                                 DatabaseWorkedWith  \\\n",
       "0                                            SQLite   \n",
       "1                                               NaN   \n",
       "2                                        PostgreSQL   \n",
       "3                                      MySQL;SQLite   \n",
       "4  Couchbase;MongoDB;MySQL;Oracle;PostgreSQL;SQLite   \n",
       "\n",
       "                              DatabaseDesireNextYear  \\\n",
       "0                                              MySQL   \n",
       "1                                              MySQL   \n",
       "2                                         PostgreSQL   \n",
       "3                                       MySQL;SQLite   \n",
       "4  Couchbase;Firebase;MongoDB;MySQL;Oracle;Postgr...   \n",
       "\n",
       "                  PlatformWorkedWith                 PlatformDesireNextYear  \\\n",
       "0                      MacOS;Windows                Android;Arduino;Windows   \n",
       "1                            Windows                                Windows   \n",
       "2                                NaN                                    NaN   \n",
       "3                      Linux;Windows                          Linux;Windows   \n",
       "4  Android;Linux;MacOS;Slack;Windows  Android;Docker;Kubernetes;Linux;Slack   \n",
       "\n",
       "                            WebFrameWorkedWith        WebFrameDesireNextYear  \\\n",
       "0                                 Django;Flask                  Flask;jQuery   \n",
       "1                                       Django                        Django   \n",
       "2                                          NaN                     Other(s):   \n",
       "3                                          NaN                           NaN   \n",
       "4  Django;Express;Flask;jQuery;React.js;Spring  Flask;jQuery;React.js;Spring   \n",
       "\n",
       "  MiscTechWorkedWith                    MiscTechDesireNextYear  \\\n",
       "0            Node.js                                   Node.js   \n",
       "1                NaN                                       NaN   \n",
       "2                NaN                                       NaN   \n",
       "3               .NET                                      .NET   \n",
       "4    Cordova;Node.js  Apache Spark;Hadoop;Node.js;React Native   \n",
       "\n",
       "                                     DevEnviron        OpSys  \\\n",
       "0                    IntelliJ;Notepad++;PyCharm      Windows   \n",
       "1                                  Atom;PyCharm      Windows   \n",
       "2                        Vim;Visual Studio Code  Linux-based   \n",
       "3  Eclipse;Vim;Visual Studio;Visual Studio Code      Windows   \n",
       "4                        IntelliJ;Notepad++;Vim  Linux-based   \n",
       "\n",
       "                               Containers BlockchainOrg  \\\n",
       "0                 I do not use containers           NaN   \n",
       "1                 I do not use containers           NaN   \n",
       "2                 I do not use containers           NaN   \n",
       "3                 I do not use containers    Not at all   \n",
       "4  Outside of work, for personal projects    Not at all   \n",
       "\n",
       "                                        BlockchainIs BetterLife  \\\n",
       "0                                                NaN        Yes   \n",
       "1  Useful across many domains and could change ma...        Yes   \n",
       "2                                                NaN        Yes   \n",
       "3  Useful for decentralized currency (i.e., Bitcoin)        Yes   \n",
       "4                                                NaN        Yes   \n",
       "\n",
       "                                   ITperson OffOn SocialMedia  \\\n",
       "0  Fortunately, someone else has that title   Yes     Twitter   \n",
       "1                                       Yes   Yes   Instagram   \n",
       "2                                       Yes   Yes      Reddit   \n",
       "3                                      SIGH   Yes      Reddit   \n",
       "4                                  Also Yes   Yes    Facebook   \n",
       "\n",
       "               Extraversion ScreenName        SOVisit1st  \\\n",
       "0                    Online   Username              2017   \n",
       "1                    Online   Username              2017   \n",
       "2  In real life (in person)   Username              2011   \n",
       "3  In real life (in person)   Username              2014   \n",
       "4  In real life (in person)   Username  I don't remember   \n",
       "\n",
       "                       SOVisitFreq  \\\n",
       "0  A few times per month or weekly   \n",
       "1            Daily or almost daily   \n",
       "2             A few times per week   \n",
       "3            Daily or almost daily   \n",
       "4           Multiple times per day   \n",
       "\n",
       "                                           SOVisitTo  \\\n",
       "0  Find answers to specific questions;Learn how t...   \n",
       "1  Find answers to specific questions;Learn how t...   \n",
       "2  Find answers to specific questions;Learn how t...   \n",
       "3  Find answers to specific questions;Pass the ti...   \n",
       "4                 Find answers to specific questions   \n",
       "\n",
       "                  SOFindAnswer                     SOTimeSaved  SOHowMuchTime  \\\n",
       "0           3-5 times per week  Stack Overflow was much faster  31-60 minutes   \n",
       "1           3-5 times per week  Stack Overflow was much faster  11-30 minutes   \n",
       "2          6-10 times per week        They were about the same            NaN   \n",
       "3           1-2 times per week  Stack Overflow was much faster  31-60 minutes   \n",
       "4  More than 10 times per week  Stack Overflow was much faster            NaN   \n",
       "\n",
       "  SOAccount                           SOPartFreq  \\\n",
       "0        No                                  NaN   \n",
       "1       Yes      A few times per month or weekly   \n",
       "2       Yes  Less than once per month or monthly   \n",
       "3       Yes  Less than once per month or monthly   \n",
       "4       Yes      A few times per month or weekly   \n",
       "\n",
       "                                              SOJobs  \\\n",
       "0  No, I didn't know that Stack Overflow had a jo...   \n",
       "1  No, I knew that Stack Overflow had a job board...   \n",
       "2                                                Yes   \n",
       "3                                                Yes   \n",
       "4  No, I knew that Stack Overflow had a job board...   \n",
       "\n",
       "                                            EntTeams           SOComm  \\\n",
       "0                No, and I don't know what those are          Neutral   \n",
       "1                No, and I don't know what those are    Yes, somewhat   \n",
       "2  No, I've heard of them, but I am not part of a...          Neutral   \n",
       "3                No, and I don't know what those are   No, not really   \n",
       "4  No, I've heard of them, but I am not part of a...  Yes, definitely   \n",
       "\n",
       "                             WelcomeChange  \\\n",
       "0  Just as welcome now as I felt last year   \n",
       "1  Just as welcome now as I felt last year   \n",
       "2  Just as welcome now as I felt last year   \n",
       "3  Just as welcome now as I felt last year   \n",
       "4  Just as welcome now as I felt last year   \n",
       "\n",
       "                                        SONewContent   Age Gender Trans  \\\n",
       "0  Tech articles written by other developers;Indu...  14.0    Man    No   \n",
       "1  Tech articles written by other developers;Indu...  19.0    Man    No   \n",
       "2  Tech meetups or events in your area;Courses on...  28.0    Man    No   \n",
       "3  Tech articles written by other developers;Indu...  22.0    Man    No   \n",
       "4  Tech meetups or events in your area;Courses on...  30.0    Man    No   \n",
       "\n",
       "                 Sexuality                                 Ethnicity  \\\n",
       "0  Straight / Heterosexual                                       NaN   \n",
       "1  Straight / Heterosexual                                       NaN   \n",
       "2  Straight / Heterosexual                                       NaN   \n",
       "3  Straight / Heterosexual              White or of European descent   \n",
       "4  Straight / Heterosexual  White or of European descent;Multiracial   \n",
       "\n",
       "  Dependents           SurveyLength                  SurveyEase  \n",
       "0         No  Appropriate in length  Neither easy nor difficult  \n",
       "1         No  Appropriate in length  Neither easy nor difficult  \n",
       "2        Yes  Appropriate in length  Neither easy nor difficult  \n",
       "3         No  Appropriate in length                        Easy  \n",
       "4         No  Appropriate in length                        Easy  "
      ]
     },
     "execution_count": 13,
     "metadata": {},
     "output_type": "execute_result"
    }
],
   "source": [
    "data1.head()"
   ]
  },
  {
   "cell_type": "code",
   "execution_count": 11,
   "id": "d4307f2c",
   "metadata": {},
   "outputs": [
    {
     "data": {
      "text/plain": [
       "1249"
      ]
     },
     "execution_count": 11,
     "metadata": {},
     "output_type": "execute_result"
    }
   ],
   "source": [
    "data1['Age1stCode'].isnull().sum()"
   ]
  }
: 14,
   "id": "a2a8f01d",
   "metadata": {}
: [
    {
     "data": {
      "text/html": [
       "<div>\n",
       "<style scoped>\n",
       "    .dataframe tbody tr th:only-of-type {\n",
       "        vertical-align: middle;\n",
       "    }\n",
       "\n",
       "    .dataframe tbody tr th {\n",
       "        vertical-align: top;\n",
       "    }\n",
       "\n",
       "    .dataframe thead th {\n",
       "        text-align: right;\n",
       "    }\n",
       "</style>\n",
       "<table border=\"1\" class=\"dataframe\">\n",
       "  <thead>\n",
       "    <tr style=\"text-align: right;\">\n",
       "      <th></th>\n",
       "      <th>Respondent</th>\n",
       "      <th>CompTotal</th>\n",
       "      <th>ConvertedComp</th>\n",
       "      <th>WorkWeekHrs</th>\n",
       "      <th>CodeRevHrs</th>\n",
       "      <th>Age</th>\n",
       "    </tr>\n",
       "  </thead>\n",
       "  <tbody>\n",
       "    <tr>\n",
       "      <th>count</th>\n",
       "      <td>88883.000000</td>\n",
       "      <td>5.594500e+04</td>\n",
       "      <td>5.582300e+04</td>\n",
       "      <td>64503.000000</td>\n",
       "      <td>49790.000000</td>\n",
       "      <td>79210.000000</td>\n",
       "    </tr>\n",
       "    <tr>\n",
       "      <th>mean</th>\n",
       "      <td>44442.000000</td>\n",
       "      <td>5.519014e+11</td>\n",
       "      <td>1.271107e+05</td>\n",
       "      <td>42.127197</td>\n",
       "      <td>5.084308</td>\n",
       "      <td>30.336699</td>\n",
       "    </tr>\n",
       "    <tr>\n",
       "      <th>std</th>\n",
       "      <td>25658.456325</td>\n",
       "      <td>7.331926e+13</td>\n",
       "      <td>2.841523e+05</td>\n",
       "      <td>37.287610</td>\n",
       "      <td>5.513931</td>\n",
       "      <td>9.178390</td>\n",
       "    </tr>\n",
       "    <tr>\n",
       "      <th>min</th>\n",
       "      <td>1.000000</td>\n",
       "      <td>0.000000e+00</td>\n",
       "      <td>0.000000e+00</td>\n",
       "      <td>1.000000</td>\n",
       "      <td>0.000000</td>\n",
       "      <td>1.000000</td>\n",
       "    </tr>\n",
       "    <tr>\n",
       "      <th>25%</th>\n",
       "      <td>22221.500000</td>\n",
       "      <td>2.000000e+04</td>\n",
       "      <td>2.577750e+04</td>\n",
       "      <td>40.000000</td>\n",
       "      <td>2.000000</td>\n",
       "      <td>24.000000</td>\n",
       "    </tr>\n",
       "    <tr>\n",
       "      <th>50%</th>\n",
       "      <td>44442.000000</td>\n",
       "      <td>6.200000e+04</td>\n",
       "      <td>5.728700e+04</td>\n",
       "      <td>40.000000</td>\n",
       "      <td>4.000000</td>\n",
       "      <td>29.000000</td>\n",
       "    </tr>\n",
       "    <tr>\n",
       "      <th>75%</th>\n",
       "      <td>66662.500000</td>\n",
       "      <td>1.200000e+05</td>\n",
       "      <td>1.000000e+05</td>\n",
       "      <td>44.750000</td>\n",
       "      <td>6.000000</td>\n",
       "      <td>35.000000</td>\n",
       "    </tr>\n",
       "    <tr>\n",
       "      <th>max</th>\n",
       "      <td>88883.000000</td>\n",
       "      <td>1.000000e+16</td>\n",
       "      <td>2.000000e+06</td>\n",
       "      <td>4850.000000</td>\n",
       "      <td>99.000000</td>\n",
       "      <td>99.000000</td>\n",
       "    </tr>\n",
       "  </tbody>\n",
       "</table>\n",
       "</div>"
      ],
      "text/plain": [
       "         Respondent     CompTotal  ConvertedComp   WorkWeekHrs    CodeRevHrs  \\\n",
       "count  88883.000000  5.594500e+04   5.582300e+04  64503.000000  49790.000000   \n",
       "mean   44442.000000  5.519014e+11   1.271107e+05     42.127197      5.084308   \n",
       "std    25658.456325  7.331926e+13   2.841523e+05     37.287610      5.513931   \n",
       "min        1.000000  0.000000e+00   0.000000e+00      1.000000      0.000000   \n",
       "25%    22221.500000  2.000000e+04   2.577750e+04     40.000000      2.000000   \n",
       "50%    44442.000000  6.200000e+04   5.728700e+04     40.000000      4.000000   \n",
       "75%    66662.500000  1.200000e+05   1.000000e+05     44.750000      6.000000   \n",
       "max    88883.000000  1.000000e+16   2.000000e+06   4850.000000     99.000000   \n",
       "\n",
       "                Age  \n",
       "count  79210.000000  \n",
       "mean      30.336699  \n",
       "std        9.178390  \n",
       "min        1.000000  \n",
       "25%       24.000000  \n",
       "50%       29.000000  \n",
       "75%       35.000000  \n",
       "max       99.000000  "
      ]
     },
     "execution_count": 14,
     "metadata": {},
     "output_type": "execute_result"
    }
],
   "source": [
    "data1.describe()"
   ]
  },
  {
   "cell_type": "markdown",
   "id": "ffbfbb3b",
   "metadata": {},
   "source": [
    "### Q.1 Find the average age of developers when they wrote their first line of code."
   ]
  }
: 16,
   "id": "f4a4bd50",
   "metadata": {}
: [],
   "source": [
    "pd.set_option('display.max_rows',None)"
   ]
  },
  {
   "cell_type": "code",
   "execution_count": 17,
   "id": "0f95fd73",
   "metadata": {},
   "outputs": [
    {
     "data": {
      "text/plain": [
       "array(['10', '17', '22', '16', '14', '15', '11', '20', '13', '18', '12',\n",
       "       '19', '21', '8', '35', '6', '9', '29', '7', '5', '23', '30', nan,\n",
       "       '27', '24', 'Younger than 5 years', '33', '25', '26', '39', '36',\n",
       "       '38', '28', '31', 'Older than 85', '32', '37', '50', '65', '42',\n",
       "       '34', '40', '67', '43', '44', '60', '46', '45', '49', '51', '41',\n",
       "       '55', '83', '48', '53', '54', '47', '56', '79', '61', '68', '77',\n",
       "       '66', '52', '80', '62', '84', '57', '58', '63'], dtype=object)"
      ]
     },
     "execution_count": 17,
     "metadata": {},
     "output_type": "execute_result"
    }
   ],
   "source": [
    "data1['Age1stCode'].unique()"
   ]
  }
: 18,
   "id": "3ae6ad46",
   "metadata": {}
: [],
   "source": [
    "mask=data1['Age1stCode']=='Older than 85'\n",
    "data1.loc[mask,('Age1stCode')]=86"
   ]
  },
  {
   "cell_type": "code",
   "execution_count": 19,
   "id": "8ca423e6",
   "metadata": {},
   "outputs": [],
   "source": [
    "mask=data1['Age1stCode']=='Younger than 5 years'\n",
    "data1.loc[mask,('Age1stCode')]=4"
   ]
  }
: 20,
   "id": "4dd5b38a",
   "metadata": {}
: [
    {
     "data": {
      "text/plain": [
       "array(['10', '17', '22', '16', '14', '15', '11', '20', '13', '18', '12',\n",
       "       '19', '21', '8', '35', '6', '9', '29', '7', '5', '23', '30', nan,\n",
       "       '27', '24', 4, '33', '25', '26', '39', '36', '38', '28', '31', 86,\n",
       "       '32', '37', '50', '65', '42', '34', '40', '67', '43', '44', '60',\n",
       "       '46', '45', '49', '51', '41', '55', '83', '48', '53', '54', '47',\n",
       "       '56', '79', '61', '68', '77', '66', '52', '80', '62', '84', '57',\n",
       "       '58', '63'], dtype=object)"
      ]
     },
     "execution_count": 20,
     "metadata": {},
     "output_type": "execute_result"
    }
],
   "source": [
    "data1['Age1stCode'].unique()"
   ]
  },
  {
   "cell_type": "code",
   "execution_count": 22,
   "id": "7b5930a0",
   "metadata": {},
   "outputs": [
    {
     "data": {
      "text/plain": [
       "1249"
      ]
     },
     "execution_count": 22,
     "metadata": {},
     "output_type": "execute_result"
    }
   ],
   "source": [
    "data1['Age1stCode'].isnull().sum()"
   ]
  }
: 23,
   "id": "a7ab8131",
   "metadata": {}
: [],
   "source": [
    "data1['Age1stCode']=data1['Age1stCode'].astype('float')"
   ]
  },
  {
   "cell_type": "code",
   "execution_count": 24,
   "id": "2ff02c94",
   "metadata": {},
   "outputs": [
    {
     "data": {
      "text/plain": [
       "<AxesSubplot:xlabel='Age1stCode', ylabel='count'>"
      ]
     },
     "execution_count": 24,
     "metadata": {},
     "output_type": "execute_result"
    },
    {
     "data": {
      "image/png": "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\n",
      "text/plain": [
       "<Figure size 1152x360 with 1 Axes>"
      ]
     },
     "metadata": {
      "needs_background": "light"
     },
     "output_type": "display_data"
    }
   ],
   "source": [
    "plt.figure(figsize=(16,5))\n",
    "sns.countplot(x='Age1stCode',data=data1,order=data1['Age1stCode'].value_counts().iloc[:20].index)"
   ]
  }
: 25,
   "id": "001873fb",
   "metadata": {}
: [
    {
     "data": {
      "text/plain": [
       "15.409395896569825"
      ]
     },
     "execution_count": 25,
     "metadata": {},
     "output_type": "execute_result"
    }
],
   "source": [
    "np.mean(data1['Age1stCode'])"
   ]
  },
  {
   "cell_type": "markdown",
   "id": "ba5b5ce9",
   "metadata": {},
   "source": [
    "### Average age of developers when they wrote their first line of code is 15."
   ]
  }
: [
    "### Q.2. Deduce the percentage of developers who know python in each country. "
   ]
  },
  {
   "cell_type": "code",
   "execution_count": 26,
   "id": "8ca587c9",
   "metadata": {},
   "outputs": [
    {
     "data": {
      "text/plain": [
       "179"
      ]
     },
     "execution_count": 26,
     "metadata": {},
     "output_type": "execute_result"
    }
   ],
   "source": [
    "data1['Country'].nunique()"
   ]
  }
: 27,
   "id": "cf1c340a",
   "metadata": {}
: [],
   "source": [
    "languages=data1[data1['LanguageWorkedWith'].notnull()]"
   ]
  },
  {
   "cell_type": "code",
   "execution_count": 35,
   "id": "026c9aed",
   "metadata": {},
   "outputs": [
    {
     "data": {
      "text/html": [
       "<div>\n",
       "<style scoped>\n",
       "    .dataframe tbody tr th:only-of-type {\n",
       "        vertical-align: middle;\n",
       "    }\n",
       "\n",
       "    .dataframe tbody tr th {\n",
       "        vertical-align: top;\n",
       "    }\n",
       "\n",
       "    .dataframe thead th {\n",
       "        text-align: right;\n",
       "    }\n",
       "</style>\n",
       "<table border=\"1\" class=\"dataframe\">\n",
       "  <thead>\n",
       "    <tr style=\"text-align: right;\">\n",
       "      <th></th>\n",
       "      <th>Respondent</th>\n",
       "      <th>MainBranch</th>\n",
       "      <th>Hobbyist</th>\n",
       "      <th>OpenSourcer</th>\n",
       "      <th>OpenSource</th>\n",
       "      <th>Employment</th>\n",
       "      <th>Country</th>\n",
       "      <th>Student</th>\n",
       "      <th>EdLevel</th>\n",
       "      <th>UndergradMajor</th>\n",
       "      <th>EduOther</th>\n",
       "      <th>OrgSize</th>\n",
       "      <th>DevType</th>\n",
       "      <th>YearsCode</th>\n",
       "      <th>Age1stCode</th>\n",
       "      <th>YearsCodePro</th>\n",
       "      <th>CareerSat</th>\n",
       "      <th>JobSat</th>\n",
       "      <th>MgrIdiot</th>\n",
       "      <th>MgrMoney</th>\n",
       "      <th>MgrWant</th>\n",
       "      <th>JobSeek</th>\n",
       "      <th>LastHireDate</th>\n",
       "      <th>LastInt</th>\n",
       "      <th>FizzBuzz</th>\n",
       "      <th>JobFactors</th>\n",
       "      <th>ResumeUpdate</th>\n",
       "      <th>CurrencySymbol</th>\n",
       "      <th>CurrencyDesc</th>\n",
       "      <th>CompTotal</th>\n",
       "      <th>CompFreq</th>\n",
       "      <th>ConvertedComp</th>\n",
       "      <th>WorkWeekHrs</th>\n",
       "      <th>WorkPlan</th>\n",
       "      <th>WorkChallenge</th>\n",
       "      <th>WorkRemote</th>\n",
       "      <th>WorkLoc</th>\n",
       "      <th>ImpSyn</th>\n",
       "      <th>CodeRev</th>\n",
       "      <th>CodeRevHrs</th>\n",
       "      <th>UnitTests</th>\n",
       "      <th>PurchaseHow</th>\n",
       "      <th>PurchaseWhat</th>\n",
       "      <th>LanguageWorkedWith</th>\n",
       "      <th>LanguageDesireNextYear</th>\n",
       "      <th>DatabaseWorkedWith</th>\n",
       "      <th>DatabaseDesireNextYear</th>\n",
       "      <th>PlatformWorkedWith</th>\n",
       "      <th>PlatformDesireNextYear</th>\n",
       "      <th>WebFrameWorkedWith</th>\n",
       "      <th>WebFrameDesireNextYear</th>\n",
       "      <th>MiscTechWorkedWith</th>\n",
       "      <th>MiscTechDesireNextYear</th>\n",
       "      <th>DevEnviron</th>\n",
       "      <th>OpSys</th>\n",
       "      <th>Containers</th>\n",
       "      <th>BlockchainOrg</th>\n",
       "      <th>BlockchainIs</th>\n",
       "      <th>BetterLife</th>\n",
       "      <th>ITperson</th>\n",
       "      <th>OffOn</th>\n",
       "      <th>SocialMedia</th>\n",
       "      <th>Extraversion</th>\n",
       "      <th>ScreenName</th>\n",
       "      <th>SOVisit1st</th>\n",
       "      <th>SOVisitFreq</th>\n",
       "      <th>SOVisitTo</th>\n",
       "      <th>SOFindAnswer</th>\n",
       "      <th>SOTimeSaved</th>\n",
       "      <th>SOHowMuchTime</th>\n",
       "      <th>SOAccount</th>\n",
       "      <th>SOPartFreq</th>\n",
       "      <th>SOJobs</th>\n",
       "      <th>EntTeams</th>\n",
       "      <th>SOComm</th>\n",
       "      <th>WelcomeChange</th>\n",
       "      <th>SONewContent</th>\n",
       "      <th>Age</th>\n",
       "      <th>Gender</th>\n",
       "      <th>Trans</th>\n",
       "      <th>Sexuality</th>\n",
       "      <th>Ethnicity</th>\n",
       "      <th>Dependents</th>\n",
       "      <th>SurveyLength</th>\n",
       "      <th>SurveyEase</th>\n",
       "    </tr>\n",
       "  </thead>\n",
       "  <tbody>\n",
       "    <tr>\n",
       "      <th>0</th>\n",
       "      <td>1</td>\n",
       "      <td>I am a student who is learning to code</td>\n",
       "      <td>Yes</td>\n",
       "      <td>Never</td>\n",
       "      <td>The quality of OSS and closed source software ...</td>\n",
       "      <td>Not employed, and not looking for work</td>\n",
       "      <td>United Kingdom</td>\n",
       "      <td>No</td>\n",
       "      <td>Primary/elementary school</td>\n",
       "      <td>NaN</td>\n",
       "      <td>Taught yourself a new language, framework, or ...</td>\n",
       "      <td>NaN</td>\n",
       "      <td>NaN</td>\n",
       "      <td>4</td>\n",
       "      <td>10.0</td>\n",
       "      <td>NaN</td>\n",
       "      <td>NaN</td>\n",
       "      <td>NaN</td>\n",
       "      <td>NaN</td>\n",
       "      <td>NaN</td>\n",
       "      <td>NaN</td>\n",
       "      <td>NaN</td>\n",
       "      <td>NaN</td>\n",
       "      <td>NaN</td>\n",
       "      <td>NaN</td>\n",
       "      <td>NaN</td>\n",
       "      <td>NaN</td>\n",
       "      <td>NaN</td>\n",
       "      <td>NaN</td>\n",
       "      <td>NaN</td>\n",
       "      <td>NaN</td>\n",
       "      <td>NaN</td>\n",
       "      <td>NaN</td>\n",
       "      <td>NaN</td>\n",
       "      <td>NaN</td>\n",
       "      <td>NaN</td>\n",
       "      <td>NaN</td>\n",
       "      <td>NaN</td>\n",
       "      <td>NaN</td>\n",
       "      <td>NaN</td>\n",
       "      <td>NaN</td>\n",
       "      <td>NaN</td>\n",
       "      <td>NaN</td>\n",
       "      <td>HTML/CSS;Java;JavaScript;Python</td>\n",
       "      <td>C;C++;C#;Go;HTML/CSS;Java;JavaScript;Python;SQL</td>\n",
       "      <td>SQLite</td>\n",
       "      <td>MySQL</td>\n",
       "      <td>MacOS;Windows</td>\n",
       "      <td>Android;Arduino;Windows</td>\n",
       "      <td>Django;Flask</td>\n",
       "      <td>Flask;jQuery</td>\n",
       "      <td>Node.js</td>\n",
       "      <td>Node.js</td>\n",
       "      <td>IntelliJ;Notepad++;PyCharm</td>\n",
       "      <td>Windows</td>\n",
       "      <td>I do not use containers</td>\n",
       "      <td>NaN</td>\n",
       "      <td>NaN</td>\n",
       "      <td>Yes</td>\n",
       "      <td>Fortunately, someone else has that title</td>\n",
       "      <td>Yes</td>\n",
       "      <td>Twitter</td>\n",
       "      <td>Online</td>\n",
       "      <td>Username</td>\n",
       "      <td>2017</td>\n",
       "      <td>A few times per month or weekly</td>\n",
       "      <td>Find answers to specific questions;Learn how t...</td>\n",
       "      <td>3-5 times per week</td>\n",
       "      <td>Stack Overflow was much faster</td>\n",
       "      <td>31-60 minutes</td>\n",
       "      <td>No</td>\n",
       "      <td>NaN</td>\n",
       "      <td>No, I didn't know that Stack Overflow had a jo...</td>\n",
       "      <td>No, and I don't know what those are</td>\n",
       "      <td>Neutral</td>\n",
       "      <td>Just as welcome now as I felt last year</td>\n",
       "      <td>Tech articles written by other developers;Indu...</td>\n",
       "      <td>14.0</td>\n",
       "      <td>Man</td>\n",
       "      <td>No</td>\n",
       "      <td>Straight / Heterosexual</td>\n",
       "      <td>NaN</td>\n",
       "      <td>No</td>\n",
       "      <td>Appropriate in length</td>\n",
       "      <td>Neither easy nor difficult</td>\n",
       "    </tr>\n",
       "    <tr>\n",
       "      <th>1</th>\n",
       "      <td>2</td>\n",
       "      <td>I am a student who is learning to code</td>\n",
       "      <td>No</td>\n",
       "      <td>Less than once per year</td>\n",
       "      <td>The quality of OSS and closed source software ...</td>\n",
       "      <td>Not employed, but looking for work</td>\n",
       "      <td>Bosnia and Herzegovina</td>\n",
       "      <td>Yes, full-time</td>\n",
       "      <td>Secondary school (e.g. American high school, G...</td>\n",
       "      <td>NaN</td>\n",
       "      <td>Taken an online course in programming or softw...</td>\n",
       "      <td>NaN</td>\n",
       "      <td>Developer, desktop or enterprise applications;...</td>\n",
       "      <td>NaN</td>\n",
       "      <td>17.0</td>\n",
       "      <td>NaN</td>\n",
       "      <td>NaN</td>\n",
       "      <td>NaN</td>\n",
       "      <td>NaN</td>\n",
       "      <td>NaN</td>\n",
       "      <td>NaN</td>\n",
       "      <td>I am actively looking for a job</td>\n",
       "      <td>I've never had a job</td>\n",
       "      <td>NaN</td>\n",
       "      <td>NaN</td>\n",
       "      <td>Financial performance or funding status of the...</td>\n",
       "      <td>Something else changed (education, award, medi...</td>\n",
       "      <td>NaN</td>\n",
       "      <td>NaN</td>\n",
       "      <td>NaN</td>\n",
       "      <td>NaN</td>\n",
       "      <td>NaN</td>\n",
       "      <td>NaN</td>\n",
       "      <td>NaN</td>\n",
       "      <td>NaN</td>\n",
       "      <td>NaN</td>\n",
       "      <td>NaN</td>\n",
       "      <td>NaN</td>\n",
       "      <td>NaN</td>\n",
       "      <td>NaN</td>\n",
       "      <td>NaN</td>\n",
       "      <td>NaN</td>\n",
       "      <td>NaN</td>\n",
       "      <td>C++;HTML/CSS;Python</td>\n",
       "      <td>C++;HTML/CSS;JavaScript;SQL</td>\n",
       "      <td>NaN</td>\n",
       "      <td>MySQL</td>\n",
       "      <td>Windows</td>\n",
       "      <td>Windows</td>\n",
       "      <td>Django</td>\n",
       "      <td>Django</td>\n",
       "      <td>NaN</td>\n",
       "      <td>NaN</td>\n",
       "      <td>Atom;PyCharm</td>\n",
       "      <td>Windows</td>\n",
       "      <td>I do not use containers</td>\n",
       "      <td>NaN</td>\n",
       "      <td>Useful across many domains and could change ma...</td>\n",
       "      <td>Yes</td>\n",
       "      <td>Yes</td>\n",
       "      <td>Yes</td>\n",
       "      <td>Instagram</td>\n",
       "      <td>Online</td>\n",
       "      <td>Username</td>\n",
       "      <td>2017</td>\n",
       "      <td>Daily or almost daily</td>\n",
       "      <td>Find answers to specific questions;Learn how t...</td>\n",
       "      <td>3-5 times per week</td>\n",
       "      <td>Stack Overflow was much faster</td>\n",
       "      <td>11-30 minutes</td>\n",
       "      <td>Yes</td>\n",
       "      <td>A few times per month or weekly</td>\n",
       "      <td>No, I knew that Stack Overflow had a job board...</td>\n",
       "      <td>No, and I don't know what those are</td>\n",
       "      <td>Yes, somewhat</td>\n",
       "      <td>Just as welcome now as I felt last year</td>\n",
       "      <td>Tech articles written by other developers;Indu...</td>\n",
       "      <td>19.0</td>\n",
       "      <td>Man</td>\n",
       "      <td>No</td>\n",
       "      <td>Straight / Heterosexual</td>\n",
       "      <td>NaN</td>\n",
       "      <td>No</td>\n",
       "      <td>Appropriate in length</td>\n",
       "      <td>Neither easy nor difficult</td>\n",
       "    </tr>\n",
       "    <tr>\n",
       "      <th>2</th>\n",
       "      <td>3</td>\n",
       "      <td>I am not primarily a developer, but I write co...</td>\n",
       "      <td>Yes</td>\n",
       "      <td>Never</td>\n",
       "      <td>The quality of OSS and closed source software ...</td>\n",
       "      <td>Employed full-time</td>\n",
       "      <td>Thailand</td>\n",
       "      <td>No</td>\n",
       "      <td>Bachelor’s degree (BA, BS, B.Eng., etc.)</td>\n",
       "      <td>Web development or web design</td>\n",
       "      <td>Taught yourself a new language, framework, or ...</td>\n",
       "      <td>100 to 499 employees</td>\n",
       "      <td>Designer;Developer, back-end;Developer, front-...</td>\n",
       "      <td>3</td>\n",
       "      <td>22.0</td>\n",
       "      <td>1</td>\n",
       "      <td>Slightly satisfied</td>\n",
       "      <td>Slightly satisfied</td>\n",
       "      <td>Not at all confident</td>\n",
       "      <td>Not sure</td>\n",
       "      <td>Not sure</td>\n",
       "      <td>I’m not actively looking, but I am open to new...</td>\n",
       "      <td>1-2 years ago</td>\n",
       "      <td>Interview with people in peer roles</td>\n",
       "      <td>No</td>\n",
       "      <td>Languages, frameworks, and other technologies ...</td>\n",
       "      <td>I was preparing for a job search</td>\n",
       "      <td>THB</td>\n",
       "      <td>Thai baht</td>\n",
       "      <td>23000.0</td>\n",
       "      <td>Monthly</td>\n",
       "      <td>8820.0</td>\n",
       "      <td>40.0</td>\n",
       "      <td>There's no schedule or spec; I work on what se...</td>\n",
       "      <td>Distracting work environment;Inadequate access...</td>\n",
       "      <td>Less than once per month / Never</td>\n",
       "      <td>Home</td>\n",
       "      <td>Average</td>\n",
       "      <td>No</td>\n",
       "      <td>NaN</td>\n",
       "      <td>No, but I think we should</td>\n",
       "      <td>Not sure</td>\n",
       "      <td>I have little or no influence</td>\n",
       "      <td>HTML/CSS</td>\n",
       "      <td>Elixir;HTML/CSS</td>\n",
       "      <td>PostgreSQL</td>\n",
       "      <td>PostgreSQL</td>\n",
       "      <td>NaN</td>\n",
       "      <td>NaN</td>\n",
       "      <td>NaN</td>\n",
       "      <td>Other(s):</td>\n",
       "      <td>NaN</td>\n",
       "      <td>NaN</td>\n",
       "      <td>Vim;Visual Studio Code</td>\n",
       "      <td>Linux-based</td>\n",
       "      <td>I do not use containers</td>\n",
       "      <td>NaN</td>\n",
       "      <td>NaN</td>\n",
       "      <td>Yes</td>\n",
       "      <td>Yes</td>\n",
       "      <td>Yes</td>\n",
       "      <td>Reddit</td>\n",
       "      <td>In real life (in person)</td>\n",
       "      <td>Username</td>\n",
       "      <td>2011</td>\n",
       "      <td>A few times per week</td>\n",
       "      <td>Find answers to specific questions;Learn how t...</td>\n",
       "      <td>6-10 times per week</td>\n",
       "      <td>They were about the same</td>\n",
       "      <td>NaN</td>\n",
       "      <td>Yes</td>\n",
       "      <td>Less than once per month or monthly</td>\n",
       "      <td>Yes</td>\n",
       "      <td>No, I've heard of them, but I am not part of a...</td>\n",
       "      <td>Neutral</td>\n",
       "      <td>Just as welcome now as I felt last year</td>\n",
       "      <td>Tech meetups or events in your area;Courses on...</td>\n",
       "      <td>28.0</td>\n",
       "      <td>Man</td>\n",
       "      <td>No</td>\n",
       "      <td>Straight / Heterosexual</td>\n",
       "      <td>NaN</td>\n",
       "      <td>Yes</td>\n",
       "      <td>Appropriate in length</td>\n",
       "      <td>Neither easy nor difficult</td>\n",
       "    </tr>\n",
       "    <tr>\n",
       "      <th>3</th>\n",
       "      <td>4</td>\n",
       "      <td>I am a developer by profession</td>\n",
       "      <td>No</td>\n",
       "      <td>Never</td>\n",
       "      <td>The quality of OSS and closed source software ...</td>\n",
       "      <td>Employed full-time</td>\n",
       "      <td>United States</td>\n",
       "      <td>No</td>\n",
       "      <td>Bachelor’s degree (BA, BS, B.Eng., etc.)</td>\n",
       "      <td>Computer science, computer engineering, or sof...</td>\n",
       "      <td>Taken an online course in programming or softw...</td>\n",
       "      <td>100 to 499 employees</td>\n",
       "      <td>Developer, full-stack</td>\n",
       "      <td>3</td>\n",
       "      <td>16.0</td>\n",
       "      <td>Less than 1 year</td>\n",
       "      <td>Very satisfied</td>\n",
       "      <td>Slightly satisfied</td>\n",
       "      <td>Very confident</td>\n",
       "      <td>No</td>\n",
       "      <td>Not sure</td>\n",
       "      <td>I am not interested in new job opportunities</td>\n",
       "      <td>Less than a year ago</td>\n",
       "      <td>Write code by hand (e.g., on a whiteboard);Int...</td>\n",
       "      <td>No</td>\n",
       "      <td>Languages, frameworks, and other technologies ...</td>\n",
       "      <td>I was preparing for a job search</td>\n",
       "      <td>USD</td>\n",
       "      <td>United States dollar</td>\n",
       "      <td>61000.0</td>\n",
       "      <td>Yearly</td>\n",
       "      <td>61000.0</td>\n",
       "      <td>80.0</td>\n",
       "      <td>There's no schedule or spec; I work on what se...</td>\n",
       "      <td>NaN</td>\n",
       "      <td>Less than once per month / Never</td>\n",
       "      <td>Home</td>\n",
       "      <td>A little below average</td>\n",
       "      <td>No</td>\n",
       "      <td>NaN</td>\n",
       "      <td>No, but I think we should</td>\n",
       "      <td>Developers typically have the most influence o...</td>\n",
       "      <td>I have little or no influence</td>\n",
       "      <td>C;C++;C#;Python;SQL</td>\n",
       "      <td>C;C#;JavaScript;SQL</td>\n",
       "      <td>MySQL;SQLite</td>\n",
       "      <td>MySQL;SQLite</td>\n",
       "      <td>Linux;Windows</td>\n",
       "      <td>Linux;Windows</td>\n",
       "      <td>NaN</td>\n",
       "      <td>NaN</td>\n",
       "      <td>.NET</td>\n",
       "      <td>.NET</td>\n",
       "      <td>Eclipse;Vim;Visual Studio;Visual Studio Code</td>\n",
       "      <td>Windows</td>\n",
       "      <td>I do not use containers</td>\n",
       "      <td>Not at all</td>\n",
       "      <td>Useful for decentralized currency (i.e., Bitcoin)</td>\n",
       "      <td>Yes</td>\n",
       "      <td>SIGH</td>\n",
       "      <td>Yes</td>\n",
       "      <td>Reddit</td>\n",
       "      <td>In real life (in person)</td>\n",
       "      <td>Username</td>\n",
       "      <td>2014</td>\n",
       "      <td>Daily or almost daily</td>\n",
       "      <td>Find answers to specific questions;Pass the ti...</td>\n",
       "      <td>1-2 times per week</td>\n",
       "      <td>Stack Overflow was much faster</td>\n",
       "      <td>31-60 minutes</td>\n",
       "      <td>Yes</td>\n",
       "      <td>Less than once per month or monthly</td>\n",
       "      <td>Yes</td>\n",
       "      <td>No, and I don't know what those are</td>\n",
       "      <td>No, not really</td>\n",
       "      <td>Just as welcome now as I felt last year</td>\n",
       "      <td>Tech articles written by other developers;Indu...</td>\n",
       "      <td>22.0</td>\n",
       "      <td>Man</td>\n",
       "      <td>No</td>\n",
       "      <td>Straight / Heterosexual</td>\n",
       "      <td>White or of European descent</td>\n",
       "      <td>No</td>\n",
       "      <td>Appropriate in length</td>\n",
       "      <td>Easy</td>\n",
       "    </tr>\n",
       "    <tr>\n",
       "      <th>4</th>\n",
       "      <td>5</td>\n",
       "      <td>I am a developer by profession</td>\n",
       "      <td>Yes</td>\n",
       "      <td>Once a month or more often</td>\n",
       "      <td>OSS is, on average, of HIGHER quality than pro...</td>\n",
       "      <td>Employed full-time</td>\n",
       "      <td>Ukraine</td>\n",
       "      <td>No</td>\n",
       "      <td>Bachelor’s degree (BA, BS, B.Eng., etc.)</td>\n",
       "      <td>Computer science, computer engineering, or sof...</td>\n",
       "      <td>Taken an online course in programming or softw...</td>\n",
       "      <td>10,000 or more employees</td>\n",
       "      <td>Academic researcher;Developer, desktop or ente...</td>\n",
       "      <td>16</td>\n",
       "      <td>14.0</td>\n",
       "      <td>9</td>\n",
       "      <td>Very dissatisfied</td>\n",
       "      <td>Slightly dissatisfied</td>\n",
       "      <td>Somewhat confident</td>\n",
       "      <td>Yes</td>\n",
       "      <td>No</td>\n",
       "      <td>I am not interested in new job opportunities</td>\n",
       "      <td>Less than a year ago</td>\n",
       "      <td>Write any code;Write code by hand (e.g., on a ...</td>\n",
       "      <td>No</td>\n",
       "      <td>Industry that I'd be working in;Languages, fra...</td>\n",
       "      <td>I was preparing for a job search</td>\n",
       "      <td>UAH</td>\n",
       "      <td>Ukrainian hryvnia</td>\n",
       "      <td>NaN</td>\n",
       "      <td>NaN</td>\n",
       "      <td>NaN</td>\n",
       "      <td>55.0</td>\n",
       "      <td>There is a schedule and/or spec (made by me or...</td>\n",
       "      <td>Being tasked with non-development work;Inadequ...</td>\n",
       "      <td>A few days each month</td>\n",
       "      <td>Office</td>\n",
       "      <td>A little above average</td>\n",
       "      <td>Yes, because I see value in code review</td>\n",
       "      <td>NaN</td>\n",
       "      <td>Yes, it's part of our process</td>\n",
       "      <td>Not sure</td>\n",
       "      <td>I have little or no influence</td>\n",
       "      <td>C++;HTML/CSS;Java;JavaScript;Python;SQL;VBA</td>\n",
       "      <td>HTML/CSS;Java;JavaScript;SQL;WebAssembly</td>\n",
       "      <td>Couchbase;MongoDB;MySQL;Oracle;PostgreSQL;SQLite</td>\n",
       "      <td>Couchbase;Firebase;MongoDB;MySQL;Oracle;Postgr...</td>\n",
       "      <td>Android;Linux;MacOS;Slack;Windows</td>\n",
       "      <td>Android;Docker;Kubernetes;Linux;Slack</td>\n",
       "      <td>Django;Express;Flask;jQuery;React.js;Spring</td>\n",
       "      <td>Flask;jQuery;React.js;Spring</td>\n",
       "      <td>Cordova;Node.js</td>\n",
       "      <td>Apache Spark;Hadoop;Node.js;React Native</td>\n",
       "      <td>IntelliJ;Notepad++;Vim</td>\n",
       "      <td>Linux-based</td>\n",
       "      <td>Outside of work, for personal projects</td>\n",
       "      <td>Not at all</td>\n",
       "      <td>NaN</td>\n",
       "      <td>Yes</td>\n",
       "      <td>Also Yes</td>\n",
       "      <td>Yes</td>\n",
       "      <td>Facebook</td>\n",
       "      <td>In real life (in person)</td>\n",
       "      <td>Username</td>\n",
       "      <td>I don't remember</td>\n",
       "      <td>Multiple times per day</td>\n",
       "      <td>Find answers to specific questions</td>\n",
       "      <td>More than 10 times per week</td>\n",
       "      <td>Stack Overflow was much faster</td>\n",
       "      <td>NaN</td>\n",
       "      <td>Yes</td>\n",
       "      <td>A few times per month or weekly</td>\n",
       "      <td>No, I knew that Stack Overflow had a job board...</td>\n",
       "      <td>No, I've heard of them, but I am not part of a...</td>\n",
       "      <td>Yes, definitely</td>\n",
       "      <td>Just as welcome now as I felt last year</td>\n",
       "      <td>Tech meetups or events in your area;Courses on...</td>\n",
       "      <td>30.0</td>\n",
       "      <td>Man</td>\n",
       "      <td>No</td>\n",
       "      <td>Straight / Heterosexual</td>\n",
       "      <td>White or of European descent;Multiracial</td>\n",
       "      <td>No</td>\n",
       "      <td>Appropriate in length</td>\n",
       "      <td>Easy</td>\n",
       "    </tr>\n",
       "  </tbody>\n",
       "</table>\n",
       "</div>"
      ],
      "text/plain": [
       "   Respondent                                         MainBranch Hobbyist  \\\n",
       "0           1             I am a student who is learning to code      Yes   \n",
       "1           2             I am a student who is learning to code       No   \n",
       "2           3  I am not primarily a developer, but I write co...      Yes   \n",
       "3           4                     I am a developer by profession       No   \n",
       "4           5                     I am a developer by profession      Yes   \n",
       "\n",
       "                  OpenSourcer  \\\n",
       "0                       Never   \n",
       "1     Less than once per year   \n",
       "2                       Never   \n",
       "3                       Never   \n",
       "4  Once a month or more often   \n",
       "\n",
       "                                          OpenSource  \\\n",
       "0  The quality of OSS and closed source software ...   \n",
       "1  The quality of OSS and closed source software ...   \n",
       "2  The quality of OSS and closed source software ...   \n",
       "3  The quality of OSS and closed source software ...   \n",
       "4  OSS is, on average, of HIGHER quality than pro...   \n",
       "\n",
       "                               Employment                 Country  \\\n",
       "0  Not employed, and not looking for work          United Kingdom   \n",
       "1      Not employed, but looking for work  Bosnia and Herzegovina   \n",
       "2                      Employed full-time                Thailand   \n",
       "3                      Employed full-time           United States   \n",
       "4                      Employed full-time                 Ukraine   \n",
       "\n",
       "          Student                                            EdLevel  \\\n",
       "0              No                          Primary/elementary school   \n",
       "1  Yes, full-time  Secondary school (e.g. American high school, G...   \n",
       "2              No           Bachelor’s degree (BA, BS, B.Eng., etc.)   \n",
       "3              No           Bachelor’s degree (BA, BS, B.Eng., etc.)   \n",
       "4              No           Bachelor’s degree (BA, BS, B.Eng., etc.)   \n",
       "\n",
       "                                      UndergradMajor  \\\n",
       "0                                                NaN   \n",
       "1                                                NaN   \n",
       "2                      Web development or web design   \n",
       "3  Computer science, computer engineering, or sof...   \n",
       "4  Computer science, computer engineering, or sof...   \n",
       "\n",
       "                                            EduOther  \\\n",
       "0  Taught yourself a new language, framework, or ...   \n",
       "1  Taken an online course in programming or softw...   \n",
       "2  Taught yourself a new language, framework, or ...   \n",
       "3  Taken an online course in programming or softw...   \n",
       "4  Taken an online course in programming or softw...   \n",
       "\n",
       "                    OrgSize  \\\n",
       "0                       NaN   \n",
       "1                       NaN   \n",
       "2      100 to 499 employees   \n",
       "3      100 to 499 employees   \n",
       "4  10,000 or more employees   \n",
       "\n",
       "                                             DevType YearsCode  Age1stCode  \\\n",
       "0                                                NaN         4        10.0   \n",
       "1  Developer, desktop or enterprise applications;...       NaN        17.0   \n",
       "2  Designer;Developer, back-end;Developer, front-...         3        22.0   \n",
       "3                              Developer, full-stack         3        16.0   \n",
       "4  Academic researcher;Developer, desktop or ente...        16        14.0   \n",
       "\n",
       "       YearsCodePro           CareerSat                 JobSat  \\\n",
       "0               NaN                 NaN                    NaN   \n",
       "1               NaN                 NaN                    NaN   \n",
       "2                 1  Slightly satisfied     Slightly satisfied   \n",
       "3  Less than 1 year      Very satisfied     Slightly satisfied   \n",
       "4                 9   Very dissatisfied  Slightly dissatisfied   \n",
       "\n",
       "               MgrIdiot  MgrMoney   MgrWant  \\\n",
       "0                   NaN       NaN       NaN   \n",
       "1                   NaN       NaN       NaN   \n",
       "2  Not at all confident  Not sure  Not sure   \n",
       "3        Very confident        No  Not sure   \n",
       "4    Somewhat confident       Yes        No   \n",
       "\n",
       "                                             JobSeek          LastHireDate  \\\n",
       "0                                                NaN                   NaN   \n",
       "1                    I am actively looking for a job  I've never had a job   \n",
       "2  I’m not actively looking, but I am open to new...         1-2 years ago   \n",
       "3       I am not interested in new job opportunities  Less than a year ago   \n",
       "4       I am not interested in new job opportunities  Less than a year ago   \n",
       "\n",
       "                                             LastInt FizzBuzz  \\\n",
       "0                                                NaN      NaN   \n",
       "1                                                NaN      NaN   \n",
       "2                Interview with people in peer roles       No   \n",
       "3  Write code by hand (e.g., on a whiteboard);Int...       No   \n",
       "4  Write any code;Write code by hand (e.g., on a ...       No   \n",
       "\n",
       "                                          JobFactors  \\\n",
       "0                                                NaN   \n",
       "1  Financial performance or funding status of the...   \n",
       "2  Languages, frameworks, and other technologies ...   \n",
       "3  Languages, frameworks, and other technologies ...   \n",
       "4  Industry that I'd be working in;Languages, fra...   \n",
       "\n",
       "                                        ResumeUpdate CurrencySymbol  \\\n",
       "0                                                NaN            NaN   \n",
       "1  Something else changed (education, award, medi...            NaN   \n",
       "2                   I was preparing for a job search            THB   \n",
       "3                   I was preparing for a job search            USD   \n",
       "4                   I was preparing for a job search            UAH   \n",
       "\n",
       "           CurrencyDesc  CompTotal CompFreq  ConvertedComp  WorkWeekHrs  \\\n",
       "0                   NaN        NaN      NaN            NaN          NaN   \n",
       "1                   NaN        NaN      NaN            NaN          NaN   \n",
       "2             Thai baht    23000.0  Monthly         8820.0         40.0   \n",
       "3  United States dollar    61000.0   Yearly        61000.0         80.0   \n",
       "4     Ukrainian hryvnia        NaN      NaN            NaN         55.0   \n",
       "\n",
       "                                            WorkPlan  \\\n",
       "0                                                NaN   \n",
       "1                                                NaN   \n",
       "2  There's no schedule or spec; I work on what se...   \n",
       "3  There's no schedule or spec; I work on what se...   \n",
       "4  There is a schedule and/or spec (made by me or...   \n",
       "\n",
       "                                       WorkChallenge  \\\n",
       "0                                                NaN   \n",
       "1                                                NaN   \n",
       "2  Distracting work environment;Inadequate access...   \n",
       "3                                                NaN   \n",
       "4  Being tasked with non-development work;Inadequ...   \n",
       "\n",
       "                         WorkRemote WorkLoc                  ImpSyn  \\\n",
       "0                               NaN     NaN                     NaN   \n",
       "1                               NaN     NaN                     NaN   \n",
       "2  Less than once per month / Never    Home                 Average   \n",
       "3  Less than once per month / Never    Home  A little below average   \n",
       "4             A few days each month  Office  A little above average   \n",
       "\n",
       "                                   CodeRev  CodeRevHrs  \\\n",
       "0                                      NaN         NaN   \n",
       "1                                      NaN         NaN   \n",
       "2                                       No         NaN   \n",
       "3                                       No         NaN   \n",
       "4  Yes, because I see value in code review         NaN   \n",
       "\n",
       "                       UnitTests  \\\n",
       "0                            NaN   \n",
       "1                            NaN   \n",
       "2      No, but I think we should   \n",
       "3      No, but I think we should   \n",
       "4  Yes, it's part of our process   \n",
       "\n",
       "                                         PurchaseHow  \\\n",
       "0                                                NaN   \n",
       "1                                                NaN   \n",
       "2                                           Not sure   \n",
       "3  Developers typically have the most influence o...   \n",
       "4                                           Not sure   \n",
       "\n",
       "                    PurchaseWhat                           LanguageWorkedWith  \\\n",
       "0                            NaN              HTML/CSS;Java;JavaScript;Python   \n",
       "1                            NaN                          C++;HTML/CSS;Python   \n",
       "2  I have little or no influence                                     HTML/CSS   \n",
       "3  I have little or no influence                          C;C++;C#;Python;SQL   \n",
       "4  I have little or no influence  C++;HTML/CSS;Java;JavaScript;Python;SQL;VBA   \n",
       "\n",
       "                            LanguageDesireNextYear  \\\n",
       "0  C;C++;C#;Go;HTML/CSS;Java;JavaScript;Python;SQL   \n",
       "1                      C++;HTML/CSS;JavaScript;SQL   \n",
       "2                                  Elixir;HTML/CSS   \n",
       "3                              C;C#;JavaScript;SQL   \n",
       "4         HTML/CSS;Java;JavaScript;SQL;WebAssembly   \n",
       "\n",
       "                                 DatabaseWorkedWith  \\\n",
       "0                                            SQLite   \n",
       "1                                               NaN   \n",
       "2                                        PostgreSQL   \n",
       "3                                      MySQL;SQLite   \n",
       "4  Couchbase;MongoDB;MySQL;Oracle;PostgreSQL;SQLite   \n",
       "\n",
       "                              DatabaseDesireNextYear  \\\n",
       "0                                              MySQL   \n",
       "1                                              MySQL   \n",
       "2                                         PostgreSQL   \n",
       "3                                       MySQL;SQLite   \n",
       "4  Couchbase;Firebase;MongoDB;MySQL;Oracle;Postgr...   \n",
       "\n",
       "                  PlatformWorkedWith                 PlatformDesireNextYear  \\\n",
       "0                      MacOS;Windows                Android;Arduino;Windows   \n",
       "1                            Windows                                Windows   \n",
       "2                                NaN                                    NaN   \n",
       "3                      Linux;Windows                          Linux;Windows   \n",
       "4  Android;Linux;MacOS;Slack;Windows  Android;Docker;Kubernetes;Linux;Slack   \n",
       "\n",
       "                            WebFrameWorkedWith        WebFrameDesireNextYear  \\\n",
       "0                                 Django;Flask                  Flask;jQuery   \n",
       "1                                       Django                        Django   \n",
       "2                                          NaN                     Other(s):   \n",
       "3                                          NaN                           NaN   \n",
       "4  Django;Express;Flask;jQuery;React.js;Spring  Flask;jQuery;React.js;Spring   \n",
       "\n",
       "  MiscTechWorkedWith                    MiscTechDesireNextYear  \\\n",
       "0            Node.js                                   Node.js   \n",
       "1                NaN                                       NaN   \n",
       "2                NaN                                       NaN   \n",
       "3               .NET                                      .NET   \n",
       "4    Cordova;Node.js  Apache Spark;Hadoop;Node.js;React Native   \n",
       "\n",
       "                                     DevEnviron        OpSys  \\\n",
       "0                    IntelliJ;Notepad++;PyCharm      Windows   \n",
       "1                                  Atom;PyCharm      Windows   \n",
       "2                        Vim;Visual Studio Code  Linux-based   \n",
       "3  Eclipse;Vim;Visual Studio;Visual Studio Code      Windows   \n",
       "4                        IntelliJ;Notepad++;Vim  Linux-based   \n",
       "\n",
       "                               Containers BlockchainOrg  \\\n",
       "0                 I do not use containers           NaN   \n",
       "1                 I do not use containers           NaN   \n",
       "2                 I do not use containers           NaN   \n",
       "3                 I do not use containers    Not at all   \n",
       "4  Outside of work, for personal projects    Not at all   \n",
       "\n",
       "                                        BlockchainIs BetterLife  \\\n",
       "0                                                NaN        Yes   \n",
       "1  Useful across many domains and could change ma...        Yes   \n",
       "2                                                NaN        Yes   \n",
       "3  Useful for decentralized currency (i.e., Bitcoin)        Yes   \n",
       "4                                                NaN        Yes   \n",
       "\n",
       "                                   ITperson OffOn SocialMedia  \\\n",
       "0  Fortunately, someone else has that title   Yes     Twitter   \n",
       "1                                       Yes   Yes   Instagram   \n",
       "2                                       Yes   Yes      Reddit   \n",
       "3                                      SIGH   Yes      Reddit   \n",
       "4                                  Also Yes   Yes    Facebook   \n",
       "\n",
       "               Extraversion ScreenName        SOVisit1st  \\\n",
       "0                    Online   Username              2017   \n",
       "1                    Online   Username              2017   \n",
       "2  In real life (in person)   Username              2011   \n",
       "3  In real life (in person)   Username              2014   \n",
       "4  In real life (in person)   Username  I don't remember   \n",
       "\n",
       "                       SOVisitFreq  \\\n",
       "0  A few times per month or weekly   \n",
       "1            Daily or almost daily   \n",
       "2             A few times per week   \n",
       "3            Daily or almost daily   \n",
       "4           Multiple times per day   \n",
       "\n",
       "                                           SOVisitTo  \\\n",
       "0  Find answers to specific questions;Learn how t...   \n",
       "1  Find answers to specific questions;Learn how t...   \n",
       "2  Find answers to specific questions;Learn how t...   \n",
       "3  Find answers to specific questions;Pass the ti...   \n",
       "4                 Find answers to specific questions   \n",
       "\n",
       "                  SOFindAnswer                     SOTimeSaved  SOHowMuchTime  \\\n",
       "0           3-5 times per week  Stack Overflow was much faster  31-60 minutes   \n",
       "1           3-5 times per week  Stack Overflow was much faster  11-30 minutes   \n",
       "2          6-10 times per week        They were about the same            NaN   \n",
       "3           1-2 times per week  Stack Overflow was much faster  31-60 minutes   \n",
       "4  More than 10 times per week  Stack Overflow was much faster            NaN   \n",
       "\n",
       "  SOAccount                           SOPartFreq  \\\n",
       "0        No                                  NaN   \n",
       "1       Yes      A few times per month or weekly   \n",
       "2       Yes  Less than once per month or monthly   \n",
       "3       Yes  Less than once per month or monthly   \n",
       "4       Yes      A few times per month or weekly   \n",
       "\n",
       "                                              SOJobs  \\\n",
       "0  No, I didn't know that Stack Overflow had a jo...   \n",
       "1  No, I knew that Stack Overflow had a job board...   \n",
       "2                                                Yes   \n",
       "3                                                Yes   \n",
       "4  No, I knew that Stack Overflow had a job board...   \n",
       "\n",
       "                                            EntTeams           SOComm  \\\n",
       "0                No, and I don't know what those are          Neutral   \n",
       "1                No, and I don't know what those are    Yes, somewhat   \n",
       "2  No, I've heard of them, but I am not part of a...          Neutral   \n",
       "3                No, and I don't know what those are   No, not really   \n",
       "4  No, I've heard of them, but I am not part of a...  Yes, definitely   \n",
       "\n",
       "                             WelcomeChange  \\\n",
       "0  Just as welcome now as I felt last year   \n",
       "1  Just as welcome now as I felt last year   \n",
       "2  Just as welcome now as I felt last year   \n",
       "3  Just as welcome now as I felt last year   \n",
       "4  Just as welcome now as I felt last year   \n",
       "\n",
       "                                        SONewContent   Age Gender Trans  \\\n",
       "0  Tech articles written by other developers;Indu...  14.0    Man    No   \n",
       "1  Tech articles written by other developers;Indu...  19.0    Man    No   \n",
       "2  Tech meetups or events in your area;Courses on...  28.0    Man    No   \n",
       "3  Tech articles written by other developers;Indu...  22.0    Man    No   \n",
       "4  Tech meetups or events in your area;Courses on...  30.0    Man    No   \n",
       "\n",
       "                 Sexuality                                 Ethnicity  \\\n",
       "0  Straight / Heterosexual                                       NaN   \n",
       "1  Straight / Heterosexual                                       NaN   \n",
       "2  Straight / Heterosexual                                       NaN   \n",
       "3  Straight / Heterosexual              White or of European descent   \n",
       "4  Straight / Heterosexual  White or of European descent;Multiracial   \n",
       "\n",
       "  Dependents           SurveyLength                  SurveyEase  \n",
       "0         No  Appropriate in length  Neither easy nor difficult  \n",
       "1         No  Appropriate in length  Neither easy nor difficult  \n",
       "2        Yes  Appropriate in length  Neither easy nor difficult  \n",
       "3         No  Appropriate in length                        Easy  \n",
       "4         No  Appropriate in length                        Easy  "
      ]
     },
     "execution_count": 35,
     "metadata": {},
     "output_type": "execute_result"
    }
   ],
   "source": [
    "languages.head()"
   ]
  }
: 33,
   "id": "53edf306",
   "metadata": {}
: [],
   "source": [
    "countries,
       "                                           HTML/CSS;Java;JavaScript;Swift                                                                                                                                                                        1\n",
       "                                           HTML/CSS;JavaScript;PHP;Python;SQL;TypeScript                                                                                                                                                         1\n",
       "                                           HTML/CSS;JavaScript;PHP;SQL                                                                                                                                                                           1\n",
       "                                           HTML/CSS;JavaScript;PHP;SQL;TypeScript                                                                                                                                                                1\n",
       "                                           Java                                                                                                                                                                                                  1\n",
       "                                           Java;Other(s):                                                                                                                                                                                        1\n",
       "                                           Java;SQL                                                                                                                                                                                              1\n",
       "                                           SQL                                                                                                                                                                                                   1\n",
       "Zambia                                     C#;HTML/CSS;JavaScript;PHP;SQL                                                                                                                                                                        2\n",
       "                                           HTML/CSS;JavaScript                                                                                                                                                                                   2\n",
       "                                           Assembly;SQL;Other(s):                                                                                                                                                                                1\n",
       "                                           C#;HTML/CSS;Java;JavaScript;PHP;SQL                                                                                                                                                                   1\n",
       "                                           C#;HTML/CSS;Java;Kotlin;Python;R;SQL                                                                                                                                                                  1\n",
       "                                           C;C++;C#;HTML/CSS;JavaScript;PHP;SQL                                                                                                                                                                  1\n",
       "                                           Dart;JavaScript;Python                                                                                                                                                                                1\n",
       "                                           HTML/CSS;Java;JavaScript;PHP;Python;SQL                                                                                                                                                               1\n",
       "                                           HTML/CSS;Java;JavaScript;PHP;SQL                                                                                                                                                                      1\n",
       "                                           HTML/CSS;PHP;Python;SQL                                                                                                                                                                               1\n",
       "Zimbabwe                                   Java;SQL                                                                                                                                                                                              2\n",
       "                                           Assembly;C++;C#;HTML/CSS;Java;JavaScript;PHP;VBA                                                                                                                                                      1\n",
       "                                           Assembly;C;C#;HTML/CSS;Java;JavaScript;PHP;Python;SQL;VBA                                                                                                                                             1\n",
       "                                           Assembly;C;C++;C#;HTML/CSS;JavaScript;Python;VBA                                                                                                                                                      1\n",
       "                                           Assembly;HTML/CSS;JavaScript;TypeScript                                                                                                                                                               1\n",
       "                                           Assembly;Java;Python                                                                                                                                                                                  1\n",
       "                                           Bash/Shell/PowerShell;HTML/CSS;Java;JavaScript;SQL;TypeScript                                                                                                                                         1\n",
       "                                           Bash/Shell/PowerShell;HTML/CSS;JavaScript;PHP;Python;R                                                                                                                                                1\n",
       "                                           C#;HTML/CSS;Java;JavaScript;PHP;Python;SQL                                                                                                                                                            1\n",
       "                                           C#;HTML/CSS;Java;JavaScript;Python;SQL;TypeScript                                                                                                                                                     1\n",
       "                                           C#;HTML/CSS;Java;JavaScript;SQL;VBA                                                                                                                                                                   1\n",
       "                                           C#;HTML/CSS;JavaScript;PHP;SQL                                                                                                                                                                        1\n",
       "                                           C#;HTML/CSS;VBA                                                                                                                                                                                       1\n",
       "                                           C++;C#;HTML/CSS;Java;PHP;SQL                                                                                                                                                                          1\n",
       "                                           C++;HTML/CSS;Java;PHP                                                                                                                                                                                 1\n",
       "                                           C++;HTML/CSS;JavaScript;PHP;R;SQL                                                                                                                                                                     1\n",
       "                                           C;C++;C#;HTML/CSS;Java;JavaScript;PHP;SQL;VBA                                                                                                                                                         1\n",
       "                                           C;C++;C#;Java;PHP;SQL;Swift                                                                                                                                                                           1\n",
       "                                           C;C++;HTML/CSS;Python                                                                                                                                                                                 1\n",
       "                                           C;Java;Python;SQL                                                                                                                                                                                     1\n",
       "                                           Dart;HTML/CSS;Java                                                                                                                                                                                    1\n",
       "                                           Dart;HTML/CSS;Java;JavaScript;PHP;SQL;TypeScript                                                                                                                                                      1\n",
       "                                           Elixir;Erlang;HTML/CSS;Java;JavaScript;PHP;Python;SQL                                                                                                                                                 1\n",
       "                                           HTML/CSS;Java;JavaScript;Kotlin;PHP;Swift                                                                                                                                                             1\n",
       "                                           HTML/CSS;Java;JavaScript;Kotlin;R;Scala                                                                                                                                                               1\n",
       "                                           HTML/CSS;Java;JavaScript;PHP;SQL                                                                                                                                                                      1\n",
       "                                           HTML/CSS;Java;SQL                                                                                                                                                                                     1\n",
       "                                           HTML/CSS;JavaScript                                                                                                                                                                                   1\n",
       "                                           HTML/CSS;JavaScript;PHP                                                                                                                                                                               1\n",
       "                                           HTML/CSS;JavaScript;PHP;Python;SQL;Swift;VBA                                                                                                                                                          1\n",
       "                                           HTML/CSS;JavaScript;PHP;SQL                                                                                                                                                                           1\n",
       "                                           HTML/CSS;PHP;VBA                                                                                                                                                                                      1\n",
       "                                           HTML/CSS;Python                                                                                                                                                                                       1\n",
       "                                           HTML/CSS;Python;SQL                                                                                                                                                                                   1\n",
       "                                           Java;JavaScript;Kotlin;Python                                                                                                                                                                         1\n",
       "                                           Java;JavaScript;SQL                                                                                                                                                                                   1\n",
       "                                           Objective-C                                                                                                                                                                                           1\n",
       "                                           Python                                                                                                                                                                                                1\n",
       "Name: LanguageWorkedWith, dtype: int64"
      ]
     },
     "execution_count": 39,
     "metadata": {},
     "output_type": "execute_result"
    }
   ],
   "source": [
    "languages.groupby(['Country'])['LanguageWorkedWith'].value_counts()"
   ]
  }
: 36,
   "id": "63f3cc17",
   "metadata": {}
: [],
   "source": [
    "country_python={}"
   ]
  },
  {
   "cell_type": "code",
   "execution_count": 49,
   "id": "b0f8dac5",
   "metadata": {},
   "outputs": [],
   "source": [
    "for country in countries:\n",
    "    for i in languages.groupby(['Country'])['LanguageWorkedWith'].value_counts()[country].index:\n",
    "        l=[]\n",
    "        l.append(i.split(';'))\n",
    "        for j in l:\n",
    "            if 'Python' in j:\n",
    "                if country not in country_python.keys():\n",
    "                    country_python[country]=1\n",
    "                else:\n",
    "                    country_python[country]+=1"
   ]
  }
: 50,
   "id": "a9a56b18",
   "metadata": {}
: [
    {
     "data": {
      "text/plain": [
       "{'United Kingdom': 1336,\n",
       " 'Bosnia and Herzegovina': 29,\n",
       " 'Thailand': 84,\n",
       " 'United States': 4504,\n",
       " 'Ukraine': 192,\n",
       " 'Canada': 1044,\n",
       " 'India': 1391,\n",
       " 'New Zealand': 216,\n",
       " 'Germany': 1494,\n",
       " 'Australia': 592,\n",
       " 'Russian Federation': 504,\n",
       " 'Brazil': 549,\n",
       " 'Lithuania': 72,\n",
       " 'Israel': 327,\n",
       " 'South Africa': 167,\n",
       " 'Colombia': 85,\n",
       " 'Turkey': 296,\n",
       " 'Argentina': 153,\n",
       " 'Sri Lanka': 121,\n",
       " 'Czech Republic': 228,\n",
       " 'Denmark': 204,\n",
       " 'Malaysia': 94,\n",
       " 'Bangladesh': 161,\n",
       " 'Spain': 468,\n",
       " 'Serbia': 105,\n",
       " 'Poland': 504,\n",
       " 'Sweden': 384,\n",
       " 'China': 217,\n",
       " 'France': 748,\n",
       " 'Netherlands': 559,\n",
       " 'Italy': 484,\n",
       " 'Switzerland': 373,\n",
       " 'Philippines': 106,\n",
       " 'Ireland': 183,\n",
       " 'Pakistan': 209,\n",
       " 'Azerbaijan': 16,\n",
       " 'Austria': 290,\n",
       " 'Estonia': 75,\n",
       " 'Croatia': 80,\n",
       " 'South Korea': 73,\n",
       " 'Greece': 184,\n",
       " 'Japan': 162,\n",
       " 'Romania': 193,\n",
       " 'Finland': 224,\n",
       " 'Bulgaria': 152,\n",
       " 'Viet Nam': 74,\n",
       " 'Slovenia': 112,\n",
       " 'Iran': 211,\n",
       " 'Belarus': 62,\n",
       " 'Hungary': 165,\n",
       " 'Latvia': 37,\n",
       " 'Hong Kong (S.A.R.)': 82,\n",
       " 'United Arab Emirates': 47,\n",
       " 'Portugal': 153,\n",
       " 'Nigeria': 109,\n",
       " 'Norway': 196,\n",
       " 'Nicaragua': 10,\n",
       " 'Zimbabwe': 14,\n",
       " 'Egypt': 101,\n",
       " 'Dominican Republic': 21,\n",
       " 'Guatemala': 25,\n",
       " 'Chile': 93,\n",
       " 'Mexico': 213,\n",
       " 'Ecuador': 39,\n",
       " 'Ghana': 32,\n",
       " 'Uganda': 44,\n",
       " 'Cambodia': 9,\n",
       " 'Mauritius': 8,\n",
       " 'Nepal': 88,\n",
       " 'Singapore': 125,\n",
       " 'Sierra Leone': 1,\n",
       " 'Republic of Moldova': 7,\n",
       " 'Belgium': 248,\n",
       " 'Armenia': 28,\n",
       " 'Bahrain': 4,\n",
       " 'Mongolia': 8,\n",
       " 'Georgia': 23,\n",
       " 'Cyprus': 20,\n",
       " 'Kenya': 100,\n",
       " 'Luxembourg': 23,\n",
       " 'Peru': 46,\n",
       " 'Burundi': 1,\n",
       " 'Iraq': 17,\n",
       " 'Slovakia': 82,\n",
       " 'Algeria': 37,\n",
       " 'Taiwan': 82,\n",
       " 'Yemen': 3,\n",
       " 'Indonesia': 130,\n",
       " 'Morocco': 48,\n",
       " 'Libyan Arab Jamahiriya': 2,\n",
       " 'Belize': 1,\n",
       " 'Mali': 1,\n",
       " 'Trinidad and Tobago': 5,\n",
       " 'Venezuela, Bolivarian Republic of...': 27,\n",
       " 'Saudi Arabia': 33,\n",
       " 'Panama': 13,\n",
       " 'Lebanon': 41,\n",
       " 'Tunisia': 36,\n",
       " 'Kuwait': 6,\n",
       " \"Côte d'Ivoire\": 11,\n",
       " 'Syrian Arab Republic': 7,\n",
       " 'El Salvador': 19,\n",
       " 'Cameroon': 16,\n",
       " 'Malta': 19,\n",
       " 'Turkmenistan': 6,\n",
       " 'Other Country (Not Listed Above)': 35,\n",
       " 'Costa Rica': 30,\n",
       " 'Jordan': 21,\n",
       " 'Albania': 23,\n",
       " 'Uzbekistan': 14,\n",
       " 'Sudan': 16,\n",
       " 'Kazakhstan': 14,\n",
       " 'The former Yugoslav Republic of Macedonia': 8,\n",
       " 'Ethiopia': 20,\n",
       " 'Paraguay': 18,\n",
       " 'Myanmar': 8,\n",
       " 'Somalia': 3,\n",
       " 'Guyana': 2,\n",
       " 'Honduras': 12,\n",
       " 'Qatar': 5,\n",
       " 'Jamaica': 8,\n",
       " 'Fiji': 1,\n",
       " 'Haiti': 3,\n",
       " 'Democratic Republic of the Congo': 3,\n",
       " 'Benin': 3,\n",
       " 'Namibia': 3,\n",
       " 'Montenegro': 8,\n",
       " 'Rwanda': 5,\n",
       " 'Uruguay': 36,\n",
       " 'Mauritania': 5,\n",
       " 'Bolivia': 10,\n",
       " 'Liechtenstein': 1,\n",
       " 'United Republic of Tanzania': 15,\n",
       " 'Kyrgyzstan': 6,\n",
       " 'Madagascar': 4,\n",
       " 'Guinea': 2,\n",
       " 'Afghanistan': 6,\n",
       " 'Republic of Korea': 20,\n",
       " 'Cuba': 16,\n",
       " 'Maldives': 6,\n",
       " 'Monaco': 2,\n",
       " 'Senegal': 8,\n",
       " 'Angola': 2,\n",
       " 'Iceland': 29,\n",
       " 'Togo': 1,\n",
       " 'Swaziland': 2,\n",
       " 'Congo, Republic of the...': 4,\n",
       " 'Zambia': 4,\n",
       " 'Oman': 6,\n",
       " 'Timor-Leste': 1,\n",
       " 'Niger': 1,\n",
       " 'Mozambique': 1,\n",
       " 'Botswana': 1,\n",
       " 'Dominica': 1,\n",
       " 'Barbados': 1,\n",
       " 'Seychelles': 1,\n",
       " 'Lesotho': 1,\n",
       " \"Democratic People's Republic of Korea\": 1,\n",
       " 'Bahamas': 2,\n",
       " 'Bhutan': 1,\n",
       " 'San Marino': 1,\n",
       " 'Sao Tome and Principe': 1}"
      ]
     },
     "execution_count": 50,
     "metadata": {},
     "output_type": "execute_result"
    }
],
   "source": [
    "country_python"
   ]
  },
  {
   "cell_type": "code",
   "execution_count": 54,
   "id": "dd611a5e",
   "metadata": {},
   "outputs": [],
   "source": [
    "def plot_dimension_count(unique_dim_dict,plot_title):\n",
    "    dim_count=pd.DataFrame.from_dict(unique_dim_dict,orient='index',dtype=None)\n",
    "    dim_count.columns=['Count']\n",
    "    dim_count.sort_values('Count',ascending=False,inplace=True)\n",
    "    dim_count[:10].plot(kind='pie',figsize=(12,12),fontsize=10,title=plot_title,subplots=True,autopct='%1.1f%%');\n",
    "    print(dim_count[:10])"
   ]
  }
: 55,
   "id": "7048e02c",
   "metadata": {}
: [
    {
     "name": "stdout",
     "output_type": "stream",
     "text": [
      "                    Count\n",
      "United States        4504\n",
      "Germany              1494\n",
      "India                1391\n",
      "United Kingdom       1336\n",
      "Canada               1044\n",
      "France                748\n",
      "Australia             592\n",
      "Netherlands           559\n",
      "Brazil                549\n",
      "Russian Federation    504\n"
     ]
    }
: [
       "<Figure size 864x864 with 1 Axes>"
      ]
     },
     "metadata": {}
],
   "source": [
    "plot_dimension_count(country_python,'The most popular languages')"
   ]
  },
  {
   "cell_type": "markdown",
   "id": "964db99b",
   "metadata": {},
   "source": [
    "### Q.3. Generate a report for the average salary of developer based on continent. "
   ]
  }
: 60,
   "id": "179429bc",
   "metadata": {}
: [],
   "source": [
    "import pycountry_convert as pc"
   ]
  },
  {
   "cell_type": "code",
   "execution_count": 61,
   "id": "a23a575a",
   "metadata": {},
   "outputs": [],
   "source": [
    "def country_to_continent(country_name):\n",
    "    if country_name!='Other Country (Not Listed Above)':\n",
    "        try:\n",
    "            country_alpha2=pc.country_name_to_country_alpha2(country_name)\n",
    "            country_continent_code=pc.country_alpha2_to_continent_code(country_alpha2)\n",
    "            country_continent_name=pc.convert_continent_code_to_continent_name(country_continent_code)\n",
    "            return country_continent_name\n",
    "        except:\n",
    "            return \"unknown\"\n",
    "    else:\n",
    "        return \"unknown\""
   ]
  }
: 63,
   "id": "7d4d368e",
   "metadata": {}
: [],
   "source": [
    "data1['Country'].replace({'Hong Kong (S.A.R.)':'Hong Kong'},inplace=True)\n",
    "data1['Country'].replace({'Libyan Arab Jamahiriya':'Libya'},inplace=True)\n",
    "data1['Country'].replace({'Venezuela, Bolivarian Republic of...':'Venezuela'},inplace=True)\n",
    "data1['Country'].replace({'The former Yugoslav Republic of Macedonia':'North Macedonia'},inplace=True)\n",
    "data1['Country'].replace({'Republic of Korea':'South Korea'},inplace=True)\n",
    "data1['Country'].replace({'Congo, Republic of the...':'Republic of the Congo'},inplace=True)\n",
    "data1['Country'].replace({'Timor-Leste':'East Timor'},inplace=True)"
   ]
  },
  {
   "cell_type": "code",
   "execution_count": 65,
   "id": "cccc9cbf",
   "metadata": {},
   "outputs": [],
   "source": [
    "names=[country_to_continent(i) for i in data1['Country']]\n",
    "data1['Continent']=names"
   ]
  }
: 66,
   "id": "1e9c1c99",
   "metadata": {}
: [],
   "source": [
    "salary_notnull=data1[data1['ConvertedComp'].notnull()]"
   ]
  },
  {
   "cell_type": "code",
   "execution_count": 67,
   "id": "592e6f04",
   "metadata": {},
   "outputs": [],
   "source": [
    "a=salary_notnull.groupby(['Continent'])['ConvertedComp'].mean().sort_values(ascending=False)"
   ]
  }
: 68,
   "id": "5e120b7b",
   "metadata": {}
: [
    {
     "data": {
      "text/plain": [
       "Index(['North America', 'Oceania', 'unknown', 'Europe', 'Asia', 'Africa',\n",
       "       'South America'],\n",
       "      dtype='object', name='Continent')"
      ]
     },
     "execution_count": 68,
     "metadata": {},
     "output_type": "execute_result"
    }
],
   "source": [
    "a.index"
   ]
  },
  {
   "cell_type": "code",
   "execution_count": 70,
   "id": "bb94e839",
   "metadata": {},
   "outputs": [
    {
     "data": {
      "text/plain": [
       "<AxesSubplot:title={'center':'Salary countplot based on Continent'}, xlabel='Continent', ylabel='Salary'>"
      ]
     },
     "execution_count": 70,
     "metadata": {},
     "output_type": "execute_result"
    },
    {
     "data": {
      "image/png": "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\n",
      "text/plain": [
       "<Figure size 1152x648 with 1 Axes>"
      ]
     },
     "metadata": {
      "needs_background": "light"
     },
     "output_type": "display_data"
    }
   ],
   "source": [
    "plt.figure(figsize=(16,9))\n",
    "plt.title('Salary countplot based on Continent',fontsize=20,fontweight='bold',y=1.05,)\n",
    "plt.ylabel('Salary',fontsize=15)\n",
    "plt.xlabel('Continent',fontsize=15)\n",
    "a.plot(kind='bar')"
   ]
  }
: [
    "### Q.4.  Based on this survey, what will be the most desired programming language for the year 2020? "
   ]
  },
  {
   "cell_type": "code",
   "execution_count": 71,
   "id": "ebeb099e",
   "metadata": {},
   "outputs": [],
   "source": [
    "language_desired=data1[data1['LanguageDesireNextYear'].notnull()]"
   ]
  }
: 73,
   "id": "4a692c88",
   "metadata": {}
: [],
   "source": [
    "unique_lang={}"
   ]
  },
  {
   "cell_type": "code",
   "execution_count": 74,
   "id": "a1ed7c9e",
   "metadata": {},
   "outputs": [],
   "source": [
    "for language_set in languages['LanguageDesireNextYear'].apply(lambda row: str(row).split(';')):\n",
    "    for language in language_set:\n",
    "        if language not in unique_lang.keys():\n",
    "            unique_lang[language]=1\n",
    "        else:\n",
    "            unique_lang[language]+=1"
   ]
  }
: 75,
   "id": "b782719c",
   "metadata": {}
: [
    {
     "data": {
      "text/plain": [
       "{'C': 11008,\n",
       " 'C++': 16681,\n",
       " 'C#': 22300,\n",
       " 'Go': 16995,\n",
       " 'HTML/CSS': 36389,\n",
       " 'Java': 23259,\n",
       " 'JavaScript': 44428,\n",
       " 'Python': 39720,\n",
       " 'SQL': 33349,\n",
       " 'Elixir': 3758,\n",
       " 'WebAssembly': 8384,\n",
       " 'Scala': 5533,\n",
       " 'Bash/Shell/PowerShell': 21217,\n",
       " 'Erlang': 2095,\n",
       " 'Ruby': 7188,\n",
       " 'Rust': 10463,\n",
       " 'TypeScript': 23640,\n",
       " 'Other(s):': 7862,\n",
       " 'Kotlin': 13192,\n",
       " 'R': 6665,\n",
       " 'Assembly': 4496,\n",
       " 'Objective-C': 2804,\n",
       " 'PHP': 12688,\n",
       " 'Swift': 8743,\n",
       " 'VBA': 1591,\n",
       " 'Clojure': 2717,\n",
       " 'Dart': 4391,\n",
       " 'nan': 4109,\n",
       " 'F#': 3489}"
      ]
     },
     "execution_count": 75,
     "metadata": {},
     "output_type": "execute_result"
    }
],
   "source": [
    "unique_lang"
   ]
  },
  {
   "cell_type": "code",
   "execution_count": 76,
   "id": "1ab16673",
   "metadata": {},
   "outputs": [],
   "source": [
    "def plot_dimension_count(unique_dim_dict,plot_title):\n",
    "    dim_count=pd.DataFrame.from_dict(unique_dim_dict,orient='index',dtype=None)\n",
    "    dim_count.columns=['Count']\n",
    "    dim_count.sort_values('Count',ascending=True,inplace=True)\n",
    "    dim_count.plot(kind='barh',figsize=(12,12),fontsize=10,title=plot_title);"
   ]
  }
: 77,
   "id": "45b4e075",
   "metadata": {}
: [
    {
     "data": {
      "image/png": "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\n",
      "text/plain": [
       "<Figure size 864x864 with 1 Axes>"
      ]
     },
     "metadata": {
      "needs_background": "light"
     },
     "output_type": "display_data"
    }
],
   "source": [
    "plot_dimension_count(unique_lang,'The most popular Languages')"
   ]
  },
  {
   "cell_type": "markdown",
   "id": "c8bcccd4",
   "metadata": {},
   "source": [
    "### Q.5. What is the distribution of people who code as a hobby based on gender and continent (hint: use your mapping of country to continent)? "
   ]
  }
: 78,
   "id": "53cea199",
   "metadata": {}
: [
    {
     "data": {
      "text/plain": [
       "array(['Man', nan, 'Woman',\n",
       "       'Non-binary, genderqueer, or gender non-conforming',\n",
       "       'Woman;Non-binary, genderqueer, or gender non-conforming',\n",
       "       'Woman;Man;Non-binary, genderqueer, or gender non-conforming',\n",
       "       'Woman;Man',\n",
       "       'Man;Non-binary, genderqueer, or gender non-conforming'],\n",
       "      dtype=object)"
      ]
     },
     "execution_count": 78,
     "metadata": {},
     "output_type": "execute_result"
    }
],
   "source": [
    "data1['Gender'].unique()"
   ]
  },
  {
   "cell_type": "code",
   "execution_count": 79,
   "id": "b6d4ee6a",
   "metadata": {},
   "outputs": [],
   "source": [
    "df=data1[data1['Hobbyist']=='Yes']"
   ]
  }
: 81,
   "id": "b44a1c02",
   "metadata": {}
: [],
   "source": [
    "data1['Hobbyist']=data1['Hobbyist'].map({'Yes':1,'No':0})"
   ]
  },
  {
   "cell_type": "code",
   "execution_count": 82,
   "id": "1595caee",
   "metadata": {},
   "outputs": [
    {
     "data": {
      "text/plain": [
       "Man                                                            77919\n",
       "Woman                                                           6344\n",
       "Non-binary, genderqueer, or gender non-conforming                597\n",
       "Man;Non-binary, genderqueer, or gender non-conforming            181\n",
       "Woman;Non-binary, genderqueer, or gender non-conforming          163\n",
       "Woman;Man                                                        132\n",
       "Woman;Man;Non-binary, genderqueer, or gender non-conforming       70\n",
       "Name: Gender, dtype: int64"
      ]
     },
     "execution_count": 82,
     "metadata": {},
     "output_type": "execute_result"
    }
   ],
   "source": [
    "data1['Gender'].value_counts()"
   ]
  }
: 83,
   "id": "67501a31",
   "metadata": {}
: [],
   "source": [
    "l=[]\n",
    "for i in data1['Gender']:\n",
    "    if i != 'Man' and i != 'Woman':\n",
    "        l.append('others')\n",
    "    else:\n",
    "        l.append(i)"
   ]
  },
  {
   "cell_type": "code",
   "execution_count": 84,
   "id": "16557995",
   "metadata": {},
   "outputs": [],
   "source": [
    "data1['Gender']=l"
   ]
  }
: 85,
   "id": "e2b06c96",
   "metadata": {}
: [
    {
     "data": {
      "text/plain": [
       "Man       77919\n",
       "Woman      6344\n",
       "others     4620\n",
       "Name: Gender, dtype: int64"
      ]
     },
     "execution_count": 85,
     "metadata": {},
     "output_type": "execute_result"
    }
],
   "source": [
    "data1['Gender'].value_counts()"
   ]
  },
  {
   "cell_type": "code",
   "execution_count": 91,
   "id": "ae0d8589",
   "metadata": {},
   "outputs": [
    {
     "data": {
      "image/png": "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\n",
      "text/plain": [
       "<Figure size 864x504 with 1 Axes>"
      ]
     },
     "metadata": {
      "needs_background": "light"
     },
     "output_type": "display_data"
    }
   ],
   "source": [
    "plt.figure(figsize=(12,7))\n",
    "sns.barplot(x='Gender',y='Hobbyist',hue='Continent',data=data1)\n",
    "plt.grid()\n",
    "N=3\n",
    "ind=np.arange(N)\n",
    "s=(data1['Gender'].value_counts().index)\n",
    "plt.xticks(ind,s,rotation='vertical',fontsize=15)\n",
    "plt.show()"
   ]
  }
: [
    "### Q.6. Generate the report for job and career satisfaction of developer based on their gender and continent? "
   ]
  },
  {
   "cell_type": "code",
   "execution_count": 88,
   "id": "24b74c27",
   "metadata": {},
   "outputs": [
    {
     "data": {
      "text/plain": [
       "Slightly satisfied                    24207\n",
       "Very satisfied                        22452\n",
       "Slightly dissatisfied                 10752\n",
       "Neither satisfied nor dissatisfied     8720\n",
       "Very dissatisfied                      4857\n",
       "Name: JobSat, dtype: int64"
      ]
     },
     "execution_count": 88,
     "metadata": {},
     "output_type": "execute_result"
    }
   ],
   "source": [
    "data1['JobSat'].value_counts()"
   ]
  }
: 93,
   "id": "f39cc5f5",
   "metadata": {}
: [],
   "source": [
    "data1['JobSat']=data1['JobSat'].map({'Slightly satisfied':5,'Very satisfied':4, 'Slightly dissatisfied':2, 'Neither satisfied nor dissatisfied':3, 'Very dissatisfied':1})"
   ]
  },
  {
   "cell_type": "code",
   "execution_count": 94,
   "id": "7923290a",
   "metadata": {},
   "outputs": [
    {
     "data": {
      "image/png": "iVBORw0KGgoAAAANSUhEUgAAAscAAAHYCAYAAAChnkX9AAAAOXRFWHRTb2Z0d2FyZQBNYXRwbG90bGliIHZlcnNpb24zLjMuNCwgaHR0cHM6Ly9tYXRwbG90bGliLm9yZy8QVMy6AAAACXBIWXMAAAsTAAALEwEAmpwYAAA/RUlEQVR4nO3debyWc/7H8df3nLRIu22mmIhoGINSCKVRsiSyb4OQfTSWDE2WSfyGsYxlEEOWLEmpKIrIllK2iWSNitImlVKdvr8/7svRaT336dz3fZbX8/HwuO/7uq7v9f3c9+nrvM91f6/rCjFGJEmSJEFerguQJEmSygrDsSRJkpQwHEuSJEkJw7EkSZKUMBxLkiRJCcOxJEmSlKiS6wJWtfnmm8fGjRvnugyVwOLFi6lZs2auy5AqHceelDuOv/Jr4sSJc2KMW6xtXZkKx40bN2bChAm5LkMl8Oqrr9K2bdtclyFVOo49KXccf+VXCOHrda1zWoUkSZKUMBxLkiRJCcOxJEmSlDAcS5IkSQnDsSRJkpQwHEuSJEkJw7EkSZKUMBxLkiRJCcOxJEmSlDAcS5IkSQnDsSRJkpQwHEuSJEkJw7EkSZKUMBxLkiRJCcOxJEmSlKiS6wIkScqWHj16MHPmTLbeemtuuummXJcjqQwyHEuSKo2ZM2cyY8aMXJchqQwzHEuSJCmjytO3NoZjSZIkZVR5+tbGE/IkSZKkhOFYkiRJShiOJUmSpIThWJIkSUoYjiVJkqSE4ViSJElKGI4lSZKkhOFYkiRJShiOJUmSpIThWJIkSUoYjiVJkqSE4ViSJElKGI4lSZKkhOFYkiRJShiOJUmSpIThWJIkSUoYjiVJkqSE4ViSJElKGI4lSZKkhOFYkiRJShiOJUmS0tSjRw/uvvtuevToketSVMqq5LoASZKk8mbmzJnMmzePGjVq5LoUlTKPHEuSJEkJw7EkSZKUMBxLkiRJCcOxJEmSlDAcS5IkSQnDsSRJkpTIeDgOIeSHEN4LITyX6b4kSZKkjZGNI8cXA5Oz0I8kSZK0UTIajkMIjYDDgAcy2Y8kSZJUGjJ95Ph2oAewMsP9SJIkSRstY7ePDiEcDnwfY5wYQmi7nu26Ad0AttpqK1599dVMlaQMWrRokT87KQcce+lZsmRJ4aOfmzaG/5bSU54+r4yFY6A1cEQI4VCgOlA7hPBYjPGUVTeKMfYF+gK0aNEitm3bNoMlKVNeffVV/NlJ2efYS8+DDz4IQI0aNfzctFH8t5Se8vR5ZWxaRYzxyhhjoxhjY+AEYPTqwViSJEkqS7zOsSRJkpTI5LSKQjHGV4FXs9GXJEmSVFIeOZYkSZIShmNJkiQpkZVpFZKk0tejRw+++uorhg8fzk033ZTrciSVsh49ejBz5ky23nprx3gWGY4lqZyaOXMm8+bNo0aNGrkuRVIGzJw5kxkzZuS6jErHcCxJkiq9MQe0SWv7JVXyIQSWTJ9e7LZtXhtTktKUZYZjSZJUYTgVQRvLcCxJkioMpyJoYxmOtdE8KUiq2DwSJ6kyMRxro3lSkFSxeSROUmViOK7gPOJTNvlzkSSpbDIcV3Ae8Smb/LlIklQ2GY7LmdZ3tk5r+6o/VCWPPKb9MK3Ybd+86M2SlCZJKqfK8rdZ2fi9B3CDkUgJ/yVIKjPK8i9oqSLz2yzpV4bjtajsv6CzcSF08GLoWpO/oCVJuWY4XouK9As6bhpZyUripjHXpUiSJJV5lSIcN7/8kbS2rzVnIfnAN3MWFrvtxJv/XILKMm956+W5LkGSJKncqBThWJIkVQ5+Y6qNZTiWpAyo7OcuKLey8Y0plM1vTf3GVBvLcLwWK6vWLPKo9asbIytr1aLujz/muhSpzKhI5y5IUmViOF6LxTt2yHUJ5copBStZeOih1Or/eK5LURlTmY9eSdLq7rp0WFrb/zBnceFjOm0vvKVTWv2UxOQ+o9Paftm8JYWP6bRt1rNdWv2Uhrys9yhJkiSVUYZjSZIkKeG0CmkVnkQlqTLyXBvpV4ZjaRWeRCWpMsrWuTYV6QCEJ6NXXIZjSSqG1ne2Tmv7qj9UJY88pv0wLa22b170ZrqlSeVGRToA4cnoFZdzjiVJkqSER45VblSkr+OkdRlzQJtib7ukSj6EwJLp09Nq1+a1MSUpTZIqBcOxyo2K9HWc1s6TgiRJuWY4zhGPgmZHn1OOSWv7ed8vSD3O/C6ttj0fG5hWP1o7b8AjSco1w3GOeBRUyg3/MC2b/LlIKisMx5IqFf8wLZv8uUgqKwzHpeSbf/whre1XzKsPVGHFvK/Ta1uvdnqFScqJuGlkJSuJm8ZclyJJSoPhWDlz16XD0tr+hzmLCx/TbStl2/LWy3NdgpRxWTkw5EGhjHNaU1GGY0mSpErMaU1FGY5zZPPqK4EVyaPKu8l9Rqe1/bJ5Swofi9u2Wc92adclSZLSYzjOkct2+yHXJWgtqufnFXmUJEmVi+FYWsUeDWrlugQp47I13//CWzql1Y8klQWGY5UbNavWLvIoSVJF5u+93DAcq9xo3aRLrktQGZXOGfNeRlFSeeHvvdxwYqUkSZKU8MixJEnKCq/UpPLAcCxJkrLCKzWpPHBahSRJkpQwHEuSJEkJw7EkSZKUMBxLkiRJCU/Ik1SpeLa8JGl9DMeSKhXPlpckrY/TKiSpnKobI3U324y6Mea6FEmqMAzHklROnVKwkjMOPZRTCpwiIkmlxXAsSZIkJQzHkiRJUsJwLEmSJCUMx5IkSVLCcCxJkiQlDMeSJElSwnAsSZIkJbxDniRJUgXS55Rj0tp+3vcLUo8zvyt22y7Nzk+7rvLCI8eSJElSwnAsSZIkJZxWIeVAg+p1ijxKFVE6X+2W5GtdgJ6PDUy7LklaH8OxlAMX7nFSrkuQJElr4bQKSZIkKWE4liRJkhKGY0mSJCnhnGNJUrk1uc/otLZfNm9J4WM6bZv1bJdWP5LKL48cS5IkSQmPHEuS1qtm1dpFHiWpIjMcS5LWq3WTLrkuQZKyxmkVkiRJUsJwLEmSJCUMx5IkSVLCcCxJkiQlMhaOQwjVQwjjQwgfhBA+CiFcl6m+JEmSpNKQyatV/Ay0izEuCiFsArwRQhgRY3w7g31KkiRJJZaxcBxjjMCi5OUmyX8xU/1JkiRJGyujc45DCPkhhPeB74FRMcZxmexPkiRJ2hghdYA3w52EUBcYDFwUY5y02rpuQDeArbbaqvmTTz5Z6v1Pnj631Pe5uib5szLeB8BX+fkZ76Ph/PTbFDRoQP7c9D7nJTW3Tr+jNBUsz/zPHqBujS0y3kf1rWtlvI/Slo2xB9kZf9kYe5D++CurYw/SG39PDRnKjwsXUrtWLY7vfESx26U79h54qh/zf/yBerXrctbxpxe7XXkbf4699GXjd19ZHHtQsvFX3sfegQceODHG2GJt67Jyh7wY4w8hhFeBjsCk1db1BfoCtGjRIrZt27bU+7/08kdKfZ+rG1zrnoz3AXBdvczfvvWGp9P/Z7Hw5JOo1f/xtNpM3euytPtJ14JZwzPeB0CXZudnvI9mJ7TNeB+lLRtjD7Iz/rIx9iD98VdWxx6kN/6W/7S48PGLl4vfLt2xV2V5XuHj776oWex25W38OfbSl43ffWVx7EHJxl9FHnuZvFrFFskRY0IINYCDgE8y1Z8kSZK0sTJ55Pg3wMMhhHxSIXxAjPG5DPYnSZKkNFXPzyvyWNll8moVHwJ7ZGr/kiRJ2nh7NChfc+ozzT8RJEmSpIThWJIkSUoYjiVJkqSE4ViSJElKZOU6x5IkSaq8GlSvU+SxLDMcS5IkKaMu3OOkXJdQbE6rkCRJkhKGY0mSJClhOJYkSZISzjmWJOWct6+VVFYYjiVJOeftayWVFf6JLkmSJCUMx5IkSVLCcCxJkiQlDMeSJElSwnAsSZIkJQzHkiRJUsJwLEmSJCUMx5IkSVLCcCxJkiQlDMeSJElSwnAsSZIkJQzHkiRJUsJwLEmSJCUMx5IkSVLCcCxJkiQlDMeSJElSwnAsSZIkJQzHkiRJUsJwLEmSJCUMx5IkSVLCcCxJkiQlDMeSJElSwnAsSZIkJQzHkiRJUmKD4TiEsF1xlkmSJEnlXXGOHD+zlmUDS7sQSZIkKdeqrGtFCGFnYBegTgihyyqragPVM12YJEmSlG3rDMfATsDhQF2g0yrLFwJnZ7AmSZIkKSfWGY5jjEOAISGEfWKMY7NYkyRJkpQT6zty/Iv3QggXkJpiUTidIsbYNWNVSZIkSTlQnBPyHgW2Bg4GxgCNSE2tkCRJkiqU4oTjHWKMvYDFMcaHgcOAP2S2LEmSJCn7ihOOlyePP4QQdgXqAI0zVpEkSZKUI8WZc9w3hFAP6AUMBTZLnkuSJEkVygbDcYzxgeTpGGD7zJYjSZIk5c46p1WEEDqFEH63yuurQwgfhBCGevtoSZIkVUTrm3PcB5gNEEI4HDgF6EpqasW9mS9NkiRJyq71heMYY/wped4F+G+McWIyzWKLzJcmSZIkZdf6wnEIIWwWQsgD/gS8vMq66utoI0mSJJVb6zsh73bgfeBHYHKMcQJACGEP4LuMVyZJkiRl2TrDcYzxwRDCi8CWwAerrJoJnJHpwiRJkqRsW++l3GKMM4AZIYQuIYT9gAi8EWMcnJXqJEmSpCza4B3yQgj/Ac4F/gdMAs4JIdyd6cIkSZKkbCvOHfLaALvGGCNACOFhUkFZkiRJqlA2eOQYmAJsu8rrbYAPM1OOJEmSlDvrPHIcQhhGao5xHWByCGF8sqol8FYWapMkSZKyan3TKv6VtSokSZKkMmB9l3Ib88vzEMJWwF7Jy/Exxu8zXZgkSZKUbcW5WsVxwHjgWOA4YFwI4ZhMFyZJkiRlW3GuVtET2OuXo8UhhC2Al4CBmSxMkiRJyrbiXK0ib7VpFHOL2U6SJEkqV4pz5PiF5DbSTySvTwBGZK4kSZIkKTc2GI5jjJeHELoArYEA3BtjfDbThUmSJEnZtr7rHC8kdZ1jSIXiX5wdQlgKfAH0jDG+nMH6JEmSpKxZ36Xcaq1rXQghH9gV6J88SpIkSeVeiU6sizEWxBg/AO4s5XokSZKknNmoq07EGO8rrUIkSZKkXPOSbJIkSVLCcCxJkiQlDMeSJElSwnAsSZIkJQzHkiRJUiJj4TiEsE0I4ZUQwuQQwkchhIsz1ZckSZJUGjZ4++iNsAK4NMb4bgihFjAxhDAqxvhxBvuUJEmSSixjR45jjN/FGN9Nni8EJgMNM9WfJEmStLFCjDHznYTQGHgN2DXG+ONq67oB3QC22mqr5k8++WSp9z95+txS3+fqmuTPyngfAF/l52e8j4bz029T0KAB+XPT+5yX1Nw6/Y7SVLA88z97gLo1tsh4H9W3Xucd3cusbIw9yM74y8bYg/THX1kde5Cd8Zfu2HvgqX7M//EH6tWuy1nHn17sduVt/Dn20peN332VeeyVVKbG3oEHHjgxxthibesyOa0CgBDCZsAzQPfVgzFAjLEv0BegRYsWsW3btqVew6WXP1Lq+1zd4Fr3ZLwPgOvq1c54Hzc8nf4/i4Unn0St/o+n1WbqXpel3U+6FswanvE+ALo0Oz/jfTQ7oW3G+yht2Rh7kJ3xl42xB+mPv7I69iA74y/dsVdleV7h4+++qFnsduVt/Dn20peN332VeeyVVC7GXkavVhFC2IRUMO4fYxyUyb4kSZKkjZXJq1UE4L/A5BjjrZnqR5IkSSotmTxy3Bo4FWgXQng/+e/QDPYnSZIkbZSMzTmOMb4BhEztX5IkSSpt3iFPkiRJShiOJUmSpIThWJIkSUoYjiVJkqSE4ViSJElKGI4lSZKkhOFYkiRJSmTsOseSJJU1DarXKfIoSaszHEuSKo0L9zgp1yVIKuOcViFJkiQlDMeSJElSwnAsSZIkJQzHkiRJUsJwLEmSJCUMx5IkSVLCcCxJkiQlDMeSJElSwnAsSZIkJQzHkiRJUsJwLEmSJCUMx5IkSVLCcCxJkiQlDMeSJElSwnAsSZIkJQzHkiRJUsJwLEmSJCUMx5IkSVLCcCxJkiQlDMeSJElSwnAsSZIkJarkuoANWb58OdOnT2fp0qUl3sfNRzUrxYrWbkG4PeN9AFyfl/m/Z2rvmn6bWjVrEnbckYLvvuOn/o8TFy0q/cIkSZIyrMyH4+nTp1OrVi0aN25MCKFE+4jT5pRyVWtqkj8r430AbJKfn/E+Gs5Pv01BgwbkzZnDggYNmHXySSy+r2/pFyZJkpRhZX5axdKlS2nQoEGJg7GyJ4RAnapVyf/Nb3JdiiRJUomU+XAMGIzLkRAC+POSJEnlVLkIx5IkSVI2GI7XY/b3s7jsgrPpuN9edGrXmnNPO4GpX36R9n7uvP9RflqypPB151PP44cFP5Zmqcz4ZgbPDXquVPcpSZJU2RiO1yHGyMXdTmevvVvzwhvvMGz0m1zcoydzZ3+f9r7ufOBRflry69U2hjx6D3Xr1C7NcpkxzXAsSZK0sQzH6zDurTeoUqUKx596euGyZrv8gT1b7s2/+lxL54P258j2BzBi6GAAxrw1nvbHnM6JZ/+V3Q7oxGkXXkGMkbv/+xjfzfqeg4/tSodjzgCgaasOzJk3n6nTZvDHNp047/Jr2OPAzhx24tksSUL0F1O/odPJ57BPx+Nod9SfmfL5lwBc+Zcr6dOzDycefiLtW7bnxWEvAnBLn1uYOG4iR/3pKPrd1y97H5QkSVIFYjheh8+nTOb3f/jjGstHjXiOTz6axKAXX+WBxwfyrxuuY/asmQB8MOkTbr7uCt5/dQhTv57OW++8xwVnnsJvttqSF59+kJEDH1qzn6++4dzTTuS9V4ZQt3ZtBg8fBcAFPa7jtt5XMfaFAfxfr8v4y5XXF7aZPWs2/Yf2555H7+HWPrcCcGnPS2neqjmDXx7M6eecnoFPRJIkqeIr89c5LmvefWcch3Y+ivz8fDbfYkv2arUv//vgfZrWgRa770qj324NwG677MTX02bQuuWe691f420a8sdddwZgj91+z9fTvmXR4p94e+L7nHTOJYXb/bxsWeHzPx3yJ/Ly8thhpx2YMzvz13CWJEmqLAzH67BD050ZOXzYGstjjOtsU61q1cLn+fn5rFhRsMF+qlVbtU0eS5auYOXKldStXYvxo55Za5uqq/TDusuRJElSmpxWsQ6tWu/PsmXLePrxRwuX/e+D96hTpy4jhj1LQUEB8+bOYcL4sfxh9z3Wu69am9Vk4aLFxe67dq3NaLxNQ55J5hPHGPnwo0/W26bmZjVZnEYfkiRJWpPheB1CCNzR92HGvv4qHffbiyP+tB//ue0mDjuyCzs124UuB7el6wlduPTKq9liy63Wu68zTz6GzqecV3hCXnE8dNc/6ffkIPY6qAt7HNiZYSNfWe/2TX/flCpVqnBkuyM9IU+SJKmEnFaxHltuvTW33vPfNZZf1vNaLut5bZFlbfZtSZt9Wxa+vr1Pz8Ln53c9mfO7nlz4+tNxIwHYvH493h39bOHyv577a3jebttGDOt/3xp933jHjUVeT/xyIgCbbLIJD63lhD9JkiQVn0eOJUmSpIThWJIkSUoYjiVJkqSE4ViSJElKGI4lSZKkhOFYkiRJSpS7S7k1v/yRUt3fo385dIPb/KHxVuy4c7PC14d0OoqzL7i4VOuQJElS7pW7cJwL1apXZ9ALr5ao7YoVK6hSxY9ZkiSpPHBaxUZov++ezJ83F4CJH0yi/TGnA9D7lrs5v8e1HHbi2XS9+Cq+nv4tHY87kxYHHUXH487kmxnfAXBW955ceMV1tDvqz+y632EMH/UqAAUFBVzZ+1+0PvR4Whx0FPc/OiAXb0+SJKnS8ZBmMfy8dCldOrYtfH32+RdzyBFHrbfNex9+zOjBj1CjRnW6nHYBJx9zBKce15l+Tw7i0l438vSDdwDw9fRveemZfnw5dRoHH9uVdvvvw2MDh1K7Vi3eHP4UP/+8jAOPPIWD2uzLdts2yuTblCRJqvQMx8VQkmkVh3VoS40a1QEYN/EDnnrgdgBOProTPa+/tXC7ozsdTF5eHjts/zsa/64RUz7/ipfHvMX/Jn/K4OdTt5lesHARn3/1teFYkiQpwwzHGyE/P5+VK1cCsPTnZUXW1dy0xjrbhRDW+jz1GiKR266/ivZtW5ditZIkSdoQ5xxvhIaNtuXj/30AwLPPj1rndnu32J0BQ0YA8MSg59m35R6F6wY9N5KVK1fyxdRvmPr1dJo22Y6D2rSm7yNPsXz5cgA++2Iqi3/6KYPvRJIkSVAOjxxPvPnPabf5eNqcjepz9TnH+7VpxyVXXs353S+jV4/u9L3rdg7Yc+d1tr+l95Wcc0kvbrv3ITavX5++t11fuK7p9o056OjT+X72XO78v15Ur16NricdzdfTZrB3x+OIMbJ5/XqFc5QlSZKUOeUuHOfC/6bOWuvy5q32YfiYcQA0yf91m16XXlBku8bbNOTFpx9c6z722WsPbr7uiiLL8vLy6H1ld3pf2X0jqpYkSVK6nFYhSZIkJTxynEMP3N4n1yVIkiRpFR45liRJkhKGY0mSJClhOJYkSZIShmNJkiQpUe5OyPvmH39Iu81m61m36IxXirWPl154nou7nc6w0W+x/Q47rnO7zqeex8N3/ZO6dWqnWaUkSZJyzSPHxTR8yCD23KsVI4YOXu92Qx69x2AsSZJUThmOi2Hx4kW8N2E8vW/+NyOGpcLx7Fkz+fMxnejSsS2dD9qfN8ZNBKBpqw7MmTcfgGO7/oV9Oh7HHgd25oHHns5Z/ZIkSSqecjetIhdGvziC/dq2o/H2TahTtx4f/+8Dxo99k9ZtDuSciy6hoKCA3yz7eo12993Sm/r16rBkyVJaH3YCRx3angb162b/DUiSJKlYDMfFMHzoIE7teg4Ah3Q6kuFDB9P2oA78/bKLWbF8Be0OPoSmu225Rru7H3yMoSNeBmD6tzP5/KuvDceSJEllmOF4A36YP49xb77BZ1M+IYTAyoICCIFLr7qGR54expjRo7iy+wX8cN4pnHJs58J2Y94az+jX32bMsP5sWqMG7Y85naU//5zDdyJJkqQNcc7xBox8fhhHHH0cL419j1FvvcvL4z6g0TbbMmHcW9TffHOOPelUuhx/Eu//b3KRdj8uXES9OrXZtEYNpnz+JePf/TBH70CSJEnFVe6OHG979f/SbvPxtDkl7m/40EGcef5fiixrf8jh9Lz0L9SosSlVNqnCppvWpP8d1xXZpkPb/bj/0QG0OOgomm6/HS333K3ENUiSJCk7MhaOQwgPAocD38cYd81UP5nWb8CQNZad0rUbp3TtVmTZdvmzAPh03MjCZUMfuzezxUmSJKlUZXJaRT+gYwb3L0mSJJWqjIXjGONrwLxM7V+SJEkqbSHGmLmdh9AYeG590ypCCN2AbgBbbbVV8yeffLLI+jp16rDDDjtsVB1Llq3YqPbFUY3lGe8DYFkIGe9jk4ISNMrPh4JUwy+/+opv33tvg02W1Ny6BB2lp2D53Iz3AVC3xhYZ76P61rUy3kdpmzw9O59/k2RaUyZ9lZ+f8T4AGs5Pb/uCBg3In5ve55yNsQfZGX/ZGHtQ/safYy996Y49SH/8OfbSl6mxd+CBB06MMbZY27qcn5AXY+wL9AVo0aJFbNu2bZH1kydPplatjftgpm3ECXnF1SR/dsb7APguC/+T2Nj/QYTFi6nV//ENtpm612Xpd5SmBbOGZ7wPgC7Nzs94H81OaJvxPkrbpZc/kpV+Bte6J+N9XFcvO7eFv+Hp9P63vPDkk4o13laVjbEH2Rl/2Rh7UP7Gn2MvfemOPUh//Dn20peLseel3CRJkqSE4ViSJElKZPJSbk8AbYHNQwjTgWtijP/d2P22vrP1xu6iiPuPXPNSbavbZdstOO3s8+jR6x8APHTf3fy0eDEXXNKj2P2MeWs8VTfZhH322gOAs7r35NCD2tDl8A4bbDtkxEscf1Z3PhgzlKo77VjsPtMx6f1JDHl6CD379MzI/iVJksqDTF6t4sQY429ijJvEGBuVRjDOlarVqvHSC88zf17JJrivWLGC18a+w9sT3y9R+wHPjmDflnsyYMiIErXfkBUrVrDr7rsajCVJUqWX8xPyyoP8/HyOPfFUHnngXi7uUTRAfjt9Gn+/7GIWz5/J5vXr0/e269m24W84q3tP6tetw/uTJlO/Xh3GvvMe+fn5PPHMc9x6/VUAvDFuAnf0fZiZs+dyQ89L1noUedHinxg74T1eHPAgR59xEaf0SN2tb/yb47nz5jvZfIvNmfzRZNof2p6mzZry6P2PsnTpUu7qdxfbNt6WeXPmce0V1/Ld9O8AuLL3lezZck/uuvkuvp/1PTOmzaBe/Xocd8pxPHjPg9z72L0sWryYy/v04b1Jkwgh8LcLLqBzhw789dpreXfSJJYsXUrngw+m50UXZfiTlyRJyi7DcTGdeNqZHHVwG7qeWzQQXt/rbxxx9HFcesKB9HtyEJf2upGnH7wDgM++nMqIpx4gPz+f3rfczWY1N+Wv554BQL8nBjFz1hxGP/soUz7/iqPPuHCt4XjoCy/Tvm1rdmzSmPp1a/PRhx+xy267ADDl4ync8vot1K1bl/at2nPMSccw4IUBPHL/Izz238e4qvdV3NDrBk7rdhrNWzXn2+nfcvaJZ/P8688D8NGHH9F/SH+q16jO+DfHF/Z50z33UHuzzXh76FAA5i9YAECv7t2pX7cuBQUFdDrjDCZNmcKuO+1Uyp+0JElS7hiOi2mzWrU44ujjeOyh+6levXrh8g/encC/+/YD5nHy0Z3oef2theu6HH4w+eu59Fqnju3Iy8ujWdMmfD977VM2Bjw7nAvPPhWAYzsfwvDBwwvD8a6778qWW20JwDaNt6F129R87KbNmhaG3bGvjeWLT78o3N+ihYtYvGgxAO06tKN6jV/fyy9eHTuWB2+5pfB1vTp1ABj8wgv0GzCAFQUFzJw9m08+/9xwLEmSKhTDcRpOPfMcjj30Txx17Inr3CascpOOmpvWWO/+qlWtWvh8bTdjmTvvB159azwfTfmcEAIFBQWszMvjsqtT10msukr7vJBX+Dov5LFiRerGJyvjSp547om1huAa66gvxljkfQBMnT6dOx56iFcHDKBenTqce+WV/Lxs2XrfnyRJUnnjpdzSULduPQ4+rDPPPNW/cNnuzfdixNDBADwx6Hn2bbnHWtvWqlmThckR2+Ia9PxITj76CD4bP4pPx43kiwkv03CbhkwcN7HY+2jdpjX9H/y13smTJm+wTbvWrenb/9c28xcsYOGiRdSsUYM6tWrx/Zw5jHr99bTeiyRJUnlQ7o4cv3nRm2m3+bgU75B3erfzeOLhXy+8cdV1N/D3yy+mf9/bC0/IW5vD2rflxHP+ynMvvlJ4Qt6GDBgynMsvOKvIsg6Hd+C5Qc9xaOdDi7WPntf35B9X/oPOB3amYEUBLfZpwbU3XbveNpefey6X9u5Nq06dyM/P52/nn88RHTqwW7NmtOzUicaNGrH3Hmv/I0CSJKk8K3fhOBcmfPJ14fPNt9iSiZ9+U/i64Tbb8tCTg9e4v/wDt/cp8nrHJo2Z8NLgwtf7tWpeZP3cz95Zo99RA/utsezUs04tfN6ydcvC548MfqTI8l/W1WtQj9v63rbGfi68/MIir1dts1nNmtz3f/+3Rpt7b7xxjWWSJEkVidMqJEmSpIThWJIkSUoYjiVJkqSE4ViSJElKGI4lSZKkhOFYkiRJSpS7S7mNOaBNqe5vi/7PbHCbmd99y/V/v4IvPptCXBlp86f2XNrz2iJ3qMuEb2d+z6W9buSJ+9e8FJskSZJKn0eONyDGyMXdTudPBx/CiNfG8/yYt/npp8XccfMNGe/7t1tvaTCWJEnKIsPxBox783WqVavGUcedBEB+fj5XXH09g556nJ9+WszN11/Dke0PoMVBR/Gf5DbN7374EQcdfTr7dDyOw0/qxnezZgPw3/4DaX3o8ex1UBdOOLs7Py1ZAsBZ3XtySa8baHvEyey8T0cGPTcSgKnTZrBnuyMLn7c76s90ad+FLu278N4772X5k5AkSar4yt20imz7/NNP+P0f/lhk2Wa1avGbhg155onHmD7tawaOGM1O1eYyb/4Cli9fziV/v4GnH7qTLRrU5+khI7jmn/+m763Xc+QhB3HmyccAcM0/76DfE4M4v+vJAMycNYfRzz7KlM+/4ugzLqTL4R2K9Lnl5vUZ/sT9fFdzU6Z+OZXLzr2MgSMHZudDkCRJqiQMxxsQYySEsNblE8aP5fiTT6dKldTHWL9eHT765DM+mvI5h51wNgAFK1ey9ZabA/DRlM+49qY7WfDjQhYt/on2bfYt3F+nju3Iy8ujWdMmfD977hr9LV++gu49+zDh4ynk5+cz9cupGXi3kiRJlZvheAN2aLozo0Y8V2TZooULmfntt2yzbeM1gnOMkd833YExw/qvsa+z//p3nv7vv9ltl5155KlneW3sO4Xrqq1ycl+McY22d9z/CFtt0YBnRz/LypUr2f13u2/kO5MkSdLqnHO8AXvvdwBLlyxhyMCnACgoKOCm3ldz5LEnsO/+bXnqsX6sWLECgHnzF9C0yXbMnjePtye8D8Dy5cv5eMrnACxatJitt9qC5cuX8+Tg59ba37r8+OMitt5yC/Ly8hj69FAKCgpK701KkiQJKIdHjtu8NibtNh9Pm1Pi/kII/Pv+h+ndswf33nELcWVk/3Z/onuPnuTl5zP1qy84qkMbam4CXU8+hvPOOIkn7ruNS66+kR9/XMiKggIuPOtUfr/TDlxz+YXsf/hJbNvoN+y6c1MWLlpc7DrOOe0ETujWncefH0mr1q3YdNNNS/yeJEmStHblLhznwm9+25D/PLTmNAmAK67uzRVX96ZJ/qzCZX/cdWdeHvTwGtt2O+0Eup12whrLH7i9T5HXcz9LTbdovE1D3h39LAA7bP87Jrw0mK/y8wG4pOclJXovkiRJWjenVUiSJEkJw7EkSZKUMBxLkiRJCcOxJEmSlDAcS5IkSQnDsSRJkpQod5dyu+vSYaW6v3bd99ngNvfdeSvPPzuI/Px8Ql7g2htvYbc9mqfd15i3xlN1k03YZ689ADire08OPagNXQ7vsMG2Q0a8xPFndef5159n+x23T7vv4pj0/iSGPD2E/1zWMyP7lyRJKuvKXTjOtvcnvsOYl0cxcPjLVK1Wjfnz5rJ82fIS7eu1se+wWc1NC8NxOgY8O4J9W+7J8GeHc+HlF5ao//VZsWIFu+6+K7vuvivML/XdS5IklQtOq9iA2d/Pom69+lStVg2AevUbsOXWWwPw9huvcfQhB3Jk+wPodsnf+fnnZQA0bdWBOfNSCXPiB5Nof8zpTJ02gwceHcCd9z9Ky/ZH88a4iQC8MW4CbY84mZ336cig50autYZFi39i7IT3uO9f/2D4kOGFy8e/OZ5TjzyVv579Vzru25Fbrr+FYc8M47iOx3FE2yP4Zuo3AMybM4+/nPkXjj34WI49+FjeHf8uAHfdfBdXX3Y1Zx5/Jn+76G+Mf3M8555ybtLnYs676ir2PuII9uncmSEjU7X99dpraXPMMbQ8/HD63HlnqX7WkiRJuWY43oB9D2jLzO9mcGibVvyjZw/eeftNAH5eupSel17ELXc/wLOjXmPFigL6PvLUOvfTeJuGnHXqcVx09qmMH/UM+7VKTcuYOWsOo599lMEP383fb7xtrW2HvvAy7du2ZscmjalTtw4fffhR4bopH0/hyuuvZOgrQxk6cChTv5jKgBcGcMzJx/DYfx8D4IZeN3Bat9N4+sWn+fd//02vS3sVtv/ow4+4u9/d/OuefxXp86Z77qH2Zpvx9tChjB0yhANatQKgV/fujBk4kLFDhvDmO+8wacqUEnyqkiRJZZPTKjagZs3NePr5l5k4/m3Gv/UGl15wNn/9Wy+a7fIHGm6zLY23bwLAKcd25r6Hn+Cis09Na/+dOrYjLy+PZk2b8P3suWvdZsCzw7kw2e+hRx7K8MHD2WW3XQDYdfdd2XKrLQHYpvE2tG7bGoCmzZoy/s3xAIx9bSxffPpF4f4WLVzE4kWLAWjXoR3Va1Rfo89Xx47lwVtuKXxdr04dAAa/8AL9BgxgRUEBM2fP5pPPP2fXnXZK6z1LkiSVVYbjYsjPz6flPq1puU9rdty5GUMGPsXOv991ndtXqZLPypUrAViaTLVYl2pVqxY+jzGusX7uvB949a3xfDTlc0IILFu5khACl119GQBVV2mfF/IKX+eFPFasWAHAyriSJ557Yq0huMamNdZaV4yREEKRZVOnT+eOhx7i1QEDqFenDudeeSU/L1v/+5MkSSpPnFaxAV998Tlff/XrUddPPp7Ebxs1YvsmOzJj+jS+nvolAI8/M4z9924BwO8aNeS9Dz8G4NnnRxW2rVWzJguTI7bFNej5kZx89BF8Nn4Un44bySvvvkLDbRoyMZmzXByt27Sm/4P9C19PnjR5g23atW5N3/6/tpm/YAELFy2iZo0a1KlVi+/nzGHU66+n9V4kSZLKunJ35PjCWzql3ebjaXNK3N9PixdzwzVX8uOCBVSpUoVtG2/Htf93C9WqV6fPv+7gkvPOpGBFAfvsvhNnn3o8AD0vOY9zL72af955Py33+EPhvg5r35YTz/krz734Crdef1Wx+h8wZDiXX3BWkWUdDu/Ac4Oe49DOhxZrHz2v78k/rvwHnQ/sTMGKAlrs04Jrb7p2vW0uP/dcLu3dm1adOpGfn8/fzj+fIzp0YLdmzWjZqRONGzVi7z3Sv+qGJElSWVbuwnG27bLbH+k/ePha1+293wE8M+IVAJrkzypcvl+r5kx64/k1tt+xSWMmvDS4yHarmvvZO2u0GTWw3xrLTj3r13nNLVu3LHz+yOBHiiz/ZV29BvW4re+aJ/utfkm4wjbzYbOaNbnv//5vjTb33njjGsskSZIqCqdVSJIkSQnDsSRJkpQwHEuSJEkJw7EkSZKUMBxLkiRJCcOxJEmSlCh3l3Lrc8oxpbq/o268t1jbvfTC81zc7XSGjX6L7XfYkXlz53D+GSezfPkyrrr2Bprsu32R7c+97Gou7nYazZo2KdV6JUmSlDkeOS6m4UMGsederRgxNHWd4rfffJ3tmuzAMyNeoXmrfYpsW1BQwL3/+ofBWJIkqZwxHBfD4sWLeG/CeHrf/G9GDBvM5I/+xy03XMfrr7xMl45tWbp0CQ123Ivrbr6L/Q8/kbcnfkD7Y05n4geTABj5yhvsffCx7HVQFzoedyYA77z3P9oecTKtOhxD2yNO5tPPv8rlW5QkSRLlcFpFLox+cQT7tW1H4+2bUKduPeLKlVx46RV89OH7/L33PwFY/NMSdtlpB65Z7a5zs+fO47zLr+GlQQ+z3baNmDd/AQA77bAdLw16mCpVqvDya2O5+p//5sn7b8/2W5MkSdIqDMfFMHzoIE7teg4Ah3Q6kuFDB9Ok6U5FtsnPz+eow9qv0Xb8xA/Zb+8WbLdtIwDq16sDwIIfF3JW96v4/KtvCCGwfPmKDL8LSZIkbYjheAN+mD+PcW++wWdTPiGEwMqCAgiBCy/pUWS76tWqkp+fv0b7SCSENfd73c130Wbflgz47x1MnTaDDseckam3IEmSpGJyzvEGjHx+GEccfRwvjX2PUW+9y8vjPqDRNtsy87vvitW+VfM/8vrYCXz1zXSAwmkVPy5cyG+33gqARwc8m5HaJUmSlJ5yd+S452MD027z8bQ5Je5v+NBBnHn+X4osa3/I4dx6Y2+6nHDSBttv0aA+/7npWk44qzsrV65ki83rM/zJB7jkvK6c1b0n/+77MG1btypxfZIkSSo95S4cZ1u/AUPWWHZK126c0rVbkWVzP3unyOtRA/sVPj+43f4c3G7/Iuv3brE7k954vvD1tT0uKoVqJUmStDGcViFJkiQlDMeSJElSwnAsSZIkJQzHkiRJUsJwLEmSJCUMx5IkSVKi3F3KbXKf0Wm3WcsN6grFP+9W8mLW4pGnnuXdDz/i9j49S3W/kiRJyjyPHEuSJEkJw/EGzJj2DZ0P+vUGHg/ddzd333oTpx/XmVtu+AfHd+rAoW1a8ca4iWu0HfHSGNp0Opk58+ZzVveeXNLrBtoecTI779ORQc+NBCDGyJW9/8We7Y6k+Z+O4ukhIwD4y5W9eW7kKwAcd+Zf6HbJ3wEY+PhAbv+/25nxzQwO2/8wel3ai8MPOJwzjz+TpUuWZvrjkCRJqtAMxxuhoGAFTw0byd+uuZ4+t95TZN2QES9x893/5dlH/8Pm9esBMHPWHEY/+yiDH76bv994GwDPDn+JDz76hHdGPcPwJ+/nyutv4btZs9lv7+a8mQTub2d+zyeffgnAu+PepUWrFgB8/eXXnHTGSTz32nPUrl2bkc+PzNZblyRJqpAMxxvhoI6HAfD7P/yRr6fPKFw+5q3x3HL3gzz7yH+oV7dO4fJOHduRl5dHs6ZN+H72XADeGv8uxx15KPn5+Wy1xebsv3cLJn4widYtm/PmuHeZ/OkX7LxjE7bcogHfzZrN+xPfZ4+99gCg4bYNabZrs1QNu/2eGdN+rUGSJEnpMxxvQH6VKqxcubLw9c8//zp1oWrVaqlt8vNZsaKgcPl22zZi4eLFfPbl1CL7qla1auHzGGORx9U1/M1WzF/wIyNfeYP99m5O61Z78sywF9h0002puVnNpP9f95efn0/BKjVIkiQpfYbjDWiw+RbMmzuHH+bPY9nPPzPm5VEbbLNto9/y1P23c+bFV/HxlM/Xu+1+ezdn4NAXKCgoYPbcebwxbiItdv8DAK2a/5E7H3iU/Vu1oHXL5tx2bz+a7928VN6XJEmS1lTuLuXWrGe7tNt8PG1OifvbZJNNOO/iSznhiINptM3v2K7JDsVq13SH7eh31z856ZxLeKbfXevcrvMhBzFu4gfs1f5oQgjc0PMStt5ycwBat9qTl197iybbbcu2jX7D/B9+pHkrw7EkSVKmlLtwnAundO3GKV27rXN9vfoN+HRc6mS4Px9/JH8+/kgAdt+1Ge+/OhSAB27vU6TN3M/eASCEwI29LuPGXpetsd8zTjyaM048GkiF9Hmfv8NX+flAar7xsDHDCrften7XEr47SZIk/cJpFZIkSVLCcCxJkiQlykU4XtcVHVT2xBjBn5ckSSqnynw4rl69OnPnzjUglwMxRhYsW0bBd9/luhRJkqQSKfMn5DVq1Ijp06cze/bsEu9j5vxFpVjR2hWEHzPeB8CcvMz/PbPkp/TbxB9/JCxaRMF33/FT/8dLvyhJkqQsKPPheJNNNmG77bbbqH2ccvkjpVTNug2udXPG+wA4t17tjPdxw9Pp/7NYePJJ1DIUS5Kkci6jhyFDCB1DCFNCCJ+HEP6Wyb4kSZKkjZWxcBxCyAfuBg4Bfg+cGEL4fab6kyRJkjZWJo8ctwQ+jzF+GWNcBjwJdM5gf5IkSdJGCZm6CkQI4RigY4zxrOT1qUCrGOOFq23XDfjl9nM7AVMyUpAybXOg5PfpllRSjj0pdxx/5dfvYoxbrG1FJk/IC2tZtkYSjzH2BfpmsA5lQQhhQoyxRa7rkCobx56UO46/iimT0yqmA9us8roR8G0G+5MkSZI2SibD8TvAjiGE7UIIVYETgKEZ7E+SJEnaKBmbVhFjXBFCuBB4EcgHHowxfpSp/pRzTo2RcsOxJ+WO468CytgJeZIkSVJ5k/l7EUuSJEnlhOFYkiRJShiOJUmSpIThWJIkSUpk8iYgkqRSFkKoDhxA6trx1VdbHWOM92S/KqlyCiHsDOwMjI8xei+HCsKrVUhSORFC2A8YROqWtWsTY4z5WSxJqjRCCPeRGmPnJq+PBx4jdbnaRUDHGONbOSxRpcRwrBILIfwWOJx1H8G6IvtVSRVXCOFd4GfgXODjGOPyHJckVRohhK+BK2OMjyevPwXeBnoAdwL1Y4x/ymGJKiWGY5VICOEo4AlSfzF/DyxbbZMYY9w+64VJFVgIYTHQJcb4Yq5rkSqbEMISoEOM8fUQwo7AFGC3GOOkEEJ74KkYY/3cVqnS4JxjldQNwEjg9BjjvFwXI1USHwJb57oIqZKaB2yVPD8ImBljnJS8DqQOFqkCMByrpLYBLjIYS1l1HtAvhDA1xjgm18VIlcwI4B8hhK1ITaUYsMq6XYGpuShKpc9pFSqREMJIYEiM8e5c1yJVFiGE2cCmpOb4Lwd+XH2bGOOW2a5LqgxCCHWA24C9gPeBC2KMPybrXgfe8lybisEjxyqpS4D+IYRFwCjgh9U3iDH+lO2ipArubsAjGlKWhRA2IXV0uFeMccbq62OM+2e/KmWKR45VIiGElau8XOs/Ii8pJUmqCEIIecAS4NAY48u5rkeZ5ZFjlVRXPIIlSaoEYowrQwif8esJearAPHIsSeVICGEf4EygKWteX5wYY8usFyVVAiGEzsA/gWNjjP/LdT3KHI8cS1I5kVxLdTjwMrAfqbPnawCtgemAV7CQMufvQAPg/RDCDGAWq32D6h+nFYPhWCWW3DrzbNZ9BMuz5qXS9Q/g38AVpK5W0SvG+G4I4XfAi8CrOaxNqugmJf+pgjMcq0RCCCcBDwL9gHbJ8zzgCFJXrngkV7VJFdjvSR29WknqiFVNgBjj1yGEa4HrcOxJGRFjPCPXNSg78nJdgMqty4HewAXJ6//EGLsC2wFzAC/jJpW+pUBeTJ0s8h3QZJV1PwKNclKVVImElG1CCPuGEGrmuh6VPsOxSmpH4M0YYwFQANQGiDEuJHXCwoU5rE2qqD4AdkqevwxcGUJoH0JoQ2rKhScJSRkUQjgfmAF8DbxOMh5DCINCCN1zWJpKkeFYJbUAqJY8nwE0W2VdIHXSgqTSdTu/ngB0FbCY1FzjV4At+fWbHEmlLIRwOXArcD+p6YRhldWvAsfnoCxlgHOOVVITgN1I/WIeClwdQlgBLAOuBsblsDapQooxDl/l+YwQQnNgB1JXrPgkxrgsZ8VJFd8FwNUxxptCCKvf5GoKqZPTVQEYjlVSNwK/S55fnTz/D5APvAOck6O6pEojmXv8Wa7rkCqJrYGJ61i3krVctUnlk+FYJRJjfBt4O3n+A9A5hFANqBZj/DGXtUkVWQjht0AnoCFr/jKOMcYrsl+VVCl8DrQhNd9/dQcAH2e3HGWK4VjFFkK4upjbQeqXdO/MViRVLiGEE4CHSc11nE1qGtOqIqlrIEsqfbcD/wkhLAMGJsu2DCGcCVxC6rr/qgC8fbSKLYSwElhC6iSgsIHNozcBkUpXCOELUvP5z/UbGin7kpPyrgY25dffgz8B18UYb85ZYSpVhmMVWwjhc2BbUl8pPQkM9he0lD0hhB+Ao2OMa/taV1IWhBBqAfuSuirTPGBsjHFBbqtSaTIcKy0hhBbACcBxwObAC8ATwHMxxiW5rE2q6EIIDwIzYoy9cl2LJFVUhmOVWAjhAFJB+WhSXzENBe6LMb6W08KkCiqEsCnwX1JTm0aTulV7Eate7k1S6QohVCd18l0j1n5C7D3Zr0qlzXCsjRZCqAr0Af4KDI0xdslxSVKFFELYHXiG1G3a1ybGGFe//qqkUhBC2A8YROpb07Vx/FUQXq1CJRZCaE3qyPExQC1SZ+/6V7OUOQ8BPwKHkbqslDf9kLLnDuALoD3wcYxxeY7rUYZ45FhpCSHsSSoQHw9sRWrO8ZOkjhj/lMvapIouhLAY6BJjfDHXtUiVjeOv8vDIsYothDCF1Ne5o4FrgEFerULKqvGkrhgjKfs+JHWXPFVwHjlWsSXXOV5K6mSgDf7D8TrHUukKIewB9ANuZt0n5PkNjpQByZz/fsDFMcYxua1GmWQ4VrGFEK5JZ/sY43WZqkWqjJI/UGE9f5x6QpBUekIIsyk63mqSukrFclLz/4vwoFDF4LQKFZthV8q5rhTjWxtJpeZuHHOVjkeOJUmSpERerguQJKUnhPDbEMLRIYSzk8ff5romqaILIYwOIey8jnVNQwijs12TMsNpFZJUToQQ8oE7gbOBVecWF4QQ+gIXxRhXrrWxpI3VFqi9jnW1Sd05TxWAR44lqfy4jtS846uAxkCN5PGqZPm1OapLqizWmIua3CW2HTAz++UoE5xzLEnlRAjhG+COGOO/1rLuMuAvMUavgyyVkuQqTVcXc/ObY4x/y2Q9yg6nVUhS+bElqRsRrM2HyXpJpWc4MAcIpG4ffQswdbVtlgGfxBhfz25pyhTDsSSVH5+Sun37yLWsOwGYkt1ypIotxvgO8A5ACGEh8BxQDdgHqA/MA8bGGL/NWZEqdU6rkKRyIoRwHPAkqbvjDQRmkTpafCxwIHBCjPHp3FUoVVzrOyEW8ITYCsQT8iSpDAsh7B1C2AQgxjgA6AhsBvwbeIbUV72bAh0NxlJGeUJsJeGRY0kqw5JbRi8FJgBvAW8mj/OBzYE5Hq2SMs8TYisP5xxLUtnWEdgb2Bc4B+hB6nJSnwFvAG+GEMbGGD/JXYlSpeAJsZWER44lqZwIIQRgF6A1qbC8D7ADqbA8H3grxnhE7iqUKq4QwofAhBhj17WsexBoHmP8Y/YrU2kzHEtSOZWE5TbAZcAhADHG/PU2klQinhBbeTitQpLKiRBCTaAVqaPG+5KablEL+Bi4Hxibu+qkii3GOCCE8AOpE/P+DWwCLAcmkjohdlQOy1Mp8sixJJVhIYST+DUM7wb8ALyd/DcWGBdjXJSzAqVKKISQhyfEVliGY0kqw5KrVSwGHgH+E2P8KMclSVKFZjiWpDIshPBPUifeNU8WTSR1xHgsqTtzzcpVbZJUERmOJakcCCFUAfYgFZR/mWbRCPiKomH53ZwVKUkVgOFYksqpEEJDUiH5NFLXQybG6InWkrQR/J+oJJUjIYRqwF78evR4H2CLZPU3uapLkioKjxxLUhkWQvgtvwbhfYHdgarACuB9fr2l9Jsxxm9zU6UkVRyGY0kqw5KrVfxyB7yxpMLwW8D4GOOSXNYmSRWR0yokqWw7i9RtoT/JdSGSVBl45FiSJElK5OW6AEmSJKmsMBxLkiRJCcOxJOVICGGrEMLjIYQvQwgTQwhjQwhHlcJ+24YQniuNGiWpsjEcS1IOhBAC8CzwWoxx+xhjc+AEUne9y3YtnpwtSQnDsSTlRjtgWYzx3l8WxBi/jjHeGULIDyHcHEJ4J4TwYQjhHCg8IvxqCGFgCOGTEEL/JGQTQuiYLHsD6PLLPkMINUMIDyb7ei+E0DlZfnoI4ekQwjBgZFbfuSSVYR4tkKTc2AV4dx3rzgQWxBj3Su6I92YI4ZcAu0fS9ltSN/9oHUKYANxPKnB/Djy1yr56AqNjjF1DCHWB8SGEl5J1+wC7xRjnleL7kqRyzXAsSWVACOFuYD9gGfA1sFsI4ZhkdR1gx2Td+Bjj9KTN+0BjYBHwVYzxs2T5Y0C3pG0H4IgQwmXJ6+rAtsnzUQZjSSrKcCxJufERcPQvL2KMF4QQNgcmAN8AF8UYX1y1QQihLfDzKosK+PX/4+u6aH0Ajo4xTlltX62AxRtRvyRVSM45lqTcGA1UDyGct8qyTZPHF4HzQgibAIQQmoYQaq5nX58A24UQmiSvT1xl3YvARavMTd6jVKqXpArKcCxJORBTtyc9EmgTQvgqhDAeeBi4AngA+Bh4N4QwCbiP9XzTF2NcSmoaxfPJCXlfr7K6N7AJ8GGyr94ZeDuSVGF4+2hJkiQp4ZFjSZIkKWE4liRJkhKGY0mSJClhOJYkSZIShmNJkiQpYTiWJEmSEoZjSZIkKWE4liRJkhL/D/YYxUbHk2JYAAAAAElFTkSuQmCC\n",
      "text/plain": [
       "<Figure size 864x504 with 1 Axes>"
      ]
     },
     "metadata": {
      "needs_background": "light"
     },
     "output_type": "display_data"
    }
   ],
   "source": [
    "plt.figure(figsize=(12,7))\n",
    "sns.barplot(x='Gender',y='JobSat',hue='Continent',data=data1)\n",
    "plt.grid()\n",
    "N=3\n",
    "ind=np.arange(N)\n",
    "s=(data1['Gender'].value_counts().index)\n",
    "plt.xticks(ind,s,rotation='vertical',fontsize=15)\n",
    "plt.show()"
   ]
  }
],
 "metadata": {
  "kernelspec": {
   "display_name": "Python 3",
   "language": "python",
   "name": "python3"
  },
  "language_info": {
   "codemirror_mode": {
    "name": "ipython",
    "version": 3
   },
   "file_extension": ".py",
   "mimetype": "text/x-python",
   "name": "python",
   "nbconvert_exporter": "python",
   "pygments_lexer": "ipython3",
   "version": "3.8.8"
  }
 }
: 4,
 "nbformat_minor": 5
}


 /* Font Definitions */
 @font-face
	{font-family:"Cambria Math";
	panose-1:2 4 5 3 5 4 6 3 2 4;
	mso-font-charset:0;
	mso-generic-font-family:roman;
	mso-font-pitch:variable;
	mso-font-signature:3 0 0 0 1 0;}
 /* Style Definitions */
 p.MsoNormal, li.MsoNormal, div.MsoNormal
	{mso-style-unhide:no;
	mso-style-qformat:yes;
	mso-style-parent:"";
	margin:0in;
	mso-pagination:widow-orphan;
	font-size:12.0pt;
	font-family:"Times New Roman",serif;
	mso-fareast-font-family:"Times New Roman";
	mso-fareast-theme-font:minor-fareast;}
p.msonormal0, li.msonormal0, div.msonormal0
	{mso-style-name:msonormal;
	mso-style-unhide:no;
	mso-margin-top-alt:auto;
	margin-right:0in;
	mso-margin-bottom-alt:auto;
	margin-left:0in;
	mso-pagination:widow-orphan;
	font-size:12.0pt;
	font-family:"Times New Roman",serif;
	mso-fareast-font-family:"Times New Roman";
	mso-fareast-theme-font:minor-fareast;}
.MsoChpDefault
	{mso-style-type:export-only;
	mso-default-props:yes;
	font-size:10.0pt;
	mso-ansi-font-size:10.0pt;
	mso-bidi-font-size:10.0pt;}
@page WordSection1
	{size:8.5in 11.0in;
	margin:1.0in 1.0in 1.0in 1.0in;
	mso-header-margin:.5in;
	mso-footer-margin:.5in;
	mso-paper-source:0;}
div.WordSection1
	{page:WordSection1;}
-->
</style>
<!--[if gte mso 10]>
<style>
 /* Style Definitions */
 table.MsoNormalTable
	{mso-style-name:"Table Normal";
	mso-tstyle-rowband-size:0;
	mso-tstyle-colband-size:0;
	mso-style-noshow:yes;
	mso-style-priority:99;
	mso-style-parent:"";
	mso-padding-alt:0in 5.4pt 0in 5.4pt;
	mso-para-margin:0in;
	mso-pagination:widow-orphan;
	font-size:10.0pt;
	font-family:"Times New Roman",serif;}
</style>
<![endif]--><!--[if gte mso 9]><xml>
 <o:shapedefaults v:ext="edit" spidmax="1026"/>
</xml><![endif]--><!--[if gte mso 9]><xml>
 <o:shapelayout v:ext="edit">
  <o:idmap v:ext="edit" data="1"/>
 </o:shapelayout></xml><![endif]-->
</head>

<body lang=EN-US style='tab-interval:.5in'>

<div class=WordSection1>

<p class=MsoNormal><span style='mso-fareast-font-family:"Times New Roman"'>{
&quot;cells&quot;: [ { &quot;cell_type&quot;: &quot;markdown&quot;,
&quot;id&quot;: &quot;869f0b6e&quot;, &quot;metadata&quot;: {},
&quot;source&quot;: [ &quot;# Assignment-6 ] }, { &quot;cell_type&quot;:
&quot;markdown&quot;, &quot;id&quot;: &quot;fad13d0e&quot;,
&quot;metadata&quot;: {}, &quot;source&quot;: [ &quot;### Importing the
libraries&quot; ] }, { &quot;cell_type&quot;: &quot;code&quot;,
&quot;execution_count&quot;: 1, &quot;id&quot;: &quot;6297b873&quot;,
&quot;metadata&quot;: {}, &quot;outputs&quot;: [], &quot;source&quot;: [
&quot;import pandas as pd\n&quot;, &quot;import numpy as np\n&quot;,
&quot;import matplotlib.pyplot as plt\n&quot;, &quot;import seaborn as
sns&quot; ] }, { &quot;cell_type&quot;: &quot;markdown&quot;, &quot;id&quot;:
&quot;5316aac2&quot;, &quot;metadata&quot;: {}, &quot;source&quot;: [ &quot;###
Read the data&quot; ] }, { &quot;cell_type&quot;: &quot;code&quot;,
&quot;execution_count&quot;: 2, &quot;id&quot;: &quot;46d8b134&quot;,
&quot;metadata&quot;: {}, &quot;outputs&quot;: [ { &quot;data&quot;: {
&quot;text/html&quot;: [ &quot;<o:p></o:p></span></p>

<div>

<p class=MsoNormal><span style='mso-fareast-font-family:"Times New Roman"'>\n&quot;,
&quot;<o:p></o:p></span></p>

</div>

</div>

</body>

</html>
